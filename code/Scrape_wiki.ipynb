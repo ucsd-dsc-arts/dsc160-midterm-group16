{
 "cells": [
  {
   "cell_type": "code",
   "execution_count": 1,
   "metadata": {},
   "outputs": [],
   "source": [
    "import pandas as pd\n",
    "import numpy as np\n",
    "from bs4 import BeautifulSoup\n",
    "import requests"
   ]
  },
  {
   "cell_type": "code",
   "execution_count": 2,
   "metadata": {},
   "outputs": [],
   "source": [
    "url = requests.get('https://en.wikipedia.org/wiki/List_of_songs_recorded_by_the_Beatles').text\n",
    "soup = BeautifulSoup(url)"
   ]
  },
  {
   "cell_type": "code",
   "execution_count": 3,
   "metadata": {},
   "outputs": [],
   "source": [
    "table = soup.find_all('table')[2]"
   ]
  },
  {
   "cell_type": "code",
   "execution_count": 5,
   "metadata": {},
   "outputs": [],
   "source": [
    "df = pd.read_html(str(table))[0]"
   ]
  },
  {
   "cell_type": "code",
   "execution_count": 6,
   "metadata": {},
   "outputs": [],
   "source": [
    "df['Song'] = df['Song'].apply(lambda x: x.split('\"')[1])"
   ]
  },
  {
   "cell_type": "code",
   "execution_count": 7,
   "metadata": {},
   "outputs": [
    {
     "data": {
      "text/html": [
       "<div>\n",
       "<style scoped>\n",
       "    .dataframe tbody tr th:only-of-type {\n",
       "        vertical-align: middle;\n",
       "    }\n",
       "\n",
       "    .dataframe tbody tr th {\n",
       "        vertical-align: top;\n",
       "    }\n",
       "\n",
       "    .dataframe thead th {\n",
       "        text-align: right;\n",
       "    }\n",
       "</style>\n",
       "<table border=\"1\" class=\"dataframe\">\n",
       "  <thead>\n",
       "    <tr style=\"text-align: right;\">\n",
       "      <th></th>\n",
       "      <th>Song</th>\n",
       "      <th>Core catalogue release(s)</th>\n",
       "      <th>Songwriter(s)</th>\n",
       "      <th>Lead vocal(s)[d]</th>\n",
       "      <th>Year</th>\n",
       "      <th>Ref(s)</th>\n",
       "    </tr>\n",
       "  </thead>\n",
       "  <tbody>\n",
       "    <tr>\n",
       "      <th>0</th>\n",
       "      <td>Across the Universe</td>\n",
       "      <td>Let It BePast Masters</td>\n",
       "      <td>LennonMcCartney</td>\n",
       "      <td>John Lennon</td>\n",
       "      <td>1969</td>\n",
       "      <td>[49][50]</td>\n",
       "    </tr>\n",
       "    <tr>\n",
       "      <th>1</th>\n",
       "      <td>Act Naturally</td>\n",
       "      <td>Help!</td>\n",
       "      <td>Johnny RussellVoni Morrison</td>\n",
       "      <td>Ringo Starr</td>\n",
       "      <td>1965</td>\n",
       "      <td>[51]</td>\n",
       "    </tr>\n",
       "    <tr>\n",
       "      <th>2</th>\n",
       "      <td>All I've Got to Do</td>\n",
       "      <td>With the Beatles</td>\n",
       "      <td>LennonMcCartney</td>\n",
       "      <td>Lennon</td>\n",
       "      <td>1963</td>\n",
       "      <td>[52]</td>\n",
       "    </tr>\n",
       "    <tr>\n",
       "      <th>3</th>\n",
       "      <td>All My Loving</td>\n",
       "      <td>With the Beatles</td>\n",
       "      <td>LennonMcCartney</td>\n",
       "      <td>Paul McCartney</td>\n",
       "      <td>1963</td>\n",
       "      <td>[52]</td>\n",
       "    </tr>\n",
       "    <tr>\n",
       "      <th>4</th>\n",
       "      <td>All Together Now</td>\n",
       "      <td>Yellow Submarine</td>\n",
       "      <td>LennonMcCartney</td>\n",
       "      <td>McCartney(with Lennon)</td>\n",
       "      <td>1969</td>\n",
       "      <td>[53]</td>\n",
       "    </tr>\n",
       "  </tbody>\n",
       "</table>\n",
       "</div>"
      ],
      "text/plain": [
       "                  Song Core catalogue release(s)                Songwriter(s)  \\\n",
       "0  Across the Universe     Let It BePast Masters              LennonMcCartney   \n",
       "1        Act Naturally                     Help!  Johnny RussellVoni Morrison   \n",
       "2   All I've Got to Do          With the Beatles              LennonMcCartney   \n",
       "3        All My Loving          With the Beatles              LennonMcCartney   \n",
       "4     All Together Now          Yellow Submarine              LennonMcCartney   \n",
       "\n",
       "         Lead vocal(s)[d]  Year    Ref(s)  \n",
       "0             John Lennon  1969  [49][50]  \n",
       "1             Ringo Starr  1965      [51]  \n",
       "2                  Lennon  1963      [52]  \n",
       "3          Paul McCartney  1963      [52]  \n",
       "4  McCartney(with Lennon)  1969      [53]  "
      ]
     },
     "execution_count": 7,
     "metadata": {},
     "output_type": "execute_result"
    }
   ],
   "source": [
    "df.head()"
   ]
  },
  {
   "cell_type": "code",
   "execution_count": null,
   "metadata": {},
   "outputs": [],
   "source": []
  }
 ],
 "metadata": {
  "kernelspec": {
   "display_name": "Python 3",
   "language": "python",
   "name": "python3"
  },
  "language_info": {
   "codemirror_mode": {
    "name": "ipython",
    "version": 3
   },
   "file_extension": ".py",
   "mimetype": "text/x-python",
   "name": "python",
   "nbconvert_exporter": "python",
   "pygments_lexer": "ipython3",
   "version": "3.6.8"
  }
 },
 "nbformat": 4,
 "nbformat_minor": 2
}
