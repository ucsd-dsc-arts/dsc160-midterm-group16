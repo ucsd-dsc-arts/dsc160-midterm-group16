{
 "cells": [
  {
   "cell_type": "code",
   "execution_count": 1,
   "metadata": {},
   "outputs": [],
   "source": [
    "import pandas as pd\n",
    "import re\n",
    "import librosa\n",
    "from nltk.sentiment.vader import SentimentIntensityAnalyzer as sia\n",
    "import numpy as np"
   ]
  },
  {
   "cell_type": "markdown",
   "metadata": {},
   "source": [
    "# Lyrics Analysis\n",
    "\n",
    "The goal of this notebook is to determine and visually see the sentiment (positive, negative, neutral) of a song based on audio features."
   ]
  },
  {
   "cell_type": "code",
   "execution_count": 2,
   "metadata": {},
   "outputs": [],
   "source": [
    "#import and clean data\n",
    "lyrics = pd.read_csv(\"../data/lyrics.csv\")\n",
    "lyrics = lyrics.loc[~(lyrics[\"lyrics\"].isnull())]\n",
    "#clean lyrics to get rid of punctuation, annotations\n",
    "lyrics[\"lyrics\"] = lyrics[\"lyrics\"].apply(lambda x: re.sub(r\"\\({1}.+\\){1}\", \"\", str(x.lower().replace(\",\", \" \").replace(\".\", \"\").replace(\"  \", \" \").replace(\"[\", \"\").replace(\"]\", \"\").replace('\"', \"\"))))\n",
    "lyrics = lyrics.loc[lyrics[\"cover\"]==False]\n",
    "audiopaths = pd.read_csv(\"../data/metadata/paths.csv\").drop(\"Unnamed: 0\", axis=1)\n",
    "info = lyrics.merge(audiopaths, left_on=\"title\", right_on=\"WikiSong\")\n"
   ]
  },
  {
   "cell_type": "code",
   "execution_count": 78,
   "metadata": {},
   "outputs": [
    {
     "data": {
      "text/html": [
       "<div>\n",
       "<style scoped>\n",
       "    .dataframe tbody tr th:only-of-type {\n",
       "        vertical-align: middle;\n",
       "    }\n",
       "\n",
       "    .dataframe tbody tr th {\n",
       "        vertical-align: top;\n",
       "    }\n",
       "\n",
       "    .dataframe thead th {\n",
       "        text-align: right;\n",
       "    }\n",
       "</style>\n",
       "<table border=\"1\" class=\"dataframe\">\n",
       "  <thead>\n",
       "    <tr style=\"text-align: right;\">\n",
       "      <th></th>\n",
       "      <th>title</th>\n",
       "      <th>album</th>\n",
       "      <th>year</th>\n",
       "      <th>lyrics</th>\n",
       "      <th>cover</th>\n",
       "      <th>songwriters_parsed</th>\n",
       "      <th>vocals_parsed</th>\n",
       "      <th>WikiSong</th>\n",
       "      <th>MetaPath</th>\n",
       "      <th>AudioPath</th>\n",
       "    </tr>\n",
       "  </thead>\n",
       "  <tbody>\n",
       "    <tr>\n",
       "      <th>0</th>\n",
       "      <td>Across the Universe</td>\n",
       "      <td>Let It Be</td>\n",
       "      <td>1968</td>\n",
       "      <td>words are flowing out like endless rain into a...</td>\n",
       "      <td>False</td>\n",
       "      <td>[\"John Lennon\"]</td>\n",
       "      <td>[\"Lennon\"]</td>\n",
       "      <td>Across the Universe</td>\n",
       "      <td>Across the Universe_beats.csv</td>\n",
       "      <td>Across The Universe (#2).mp3</td>\n",
       "    </tr>\n",
       "    <tr>\n",
       "      <th>1</th>\n",
       "      <td>All I've Got to Do</td>\n",
       "      <td>With the Beatles</td>\n",
       "      <td>1963</td>\n",
       "      <td>whenever i want you around yeah all i gotta do...</td>\n",
       "      <td>False</td>\n",
       "      <td>[\"John Lennon\"]</td>\n",
       "      <td>[\"Lennon\"]</td>\n",
       "      <td>All I've Got to Do</td>\n",
       "      <td>All I've Got To Do_beats.csv</td>\n",
       "      <td>All I've Got To Do.mp3</td>\n",
       "    </tr>\n",
       "  </tbody>\n",
       "</table>\n",
       "</div>"
      ],
      "text/plain": [
       "                 title             album  year  \\\n",
       "0  Across the Universe         Let It Be  1968   \n",
       "1   All I've Got to Do  With the Beatles  1963   \n",
       "\n",
       "                                              lyrics  cover  \\\n",
       "0  words are flowing out like endless rain into a...  False   \n",
       "1  whenever i want you around yeah all i gotta do...  False   \n",
       "\n",
       "  songwriters_parsed vocals_parsed             WikiSong  \\\n",
       "0    [\"John Lennon\"]    [\"Lennon\"]  Across the Universe   \n",
       "1    [\"John Lennon\"]    [\"Lennon\"]   All I've Got to Do   \n",
       "\n",
       "                        MetaPath                     AudioPath  \n",
       "0  Across the Universe_beats.csv  Across The Universe (#2).mp3  \n",
       "1   All I've Got To Do_beats.csv        All I've Got To Do.mp3  "
      ]
     },
     "execution_count": 78,
     "metadata": {},
     "output_type": "execute_result"
    }
   ],
   "source": [
    "info.head(2)"
   ]
  },
  {
   "cell_type": "markdown",
   "metadata": {},
   "source": [
    "## Lyrics Analysis\n",
    "\n",
    "First, we analyse the sentiment scores of each word. In order to do that, we use nltk - vader model."
   ]
  },
  {
   "cell_type": "code",
   "execution_count": 88,
   "metadata": {},
   "outputs": [],
   "source": [
    "lyrics = info[\"lyrics\"]"
   ]
  },
  {
   "cell_type": "markdown",
   "metadata": {},
   "source": [
    "To begin basic analysis of the lyrics, first we look at the actual words."
   ]
  },
  {
   "cell_type": "code",
   "execution_count": 590,
   "metadata": {},
   "outputs": [],
   "source": [
    "# eliminate of common words\n",
    "\n",
    "common = pd.read_csv('../data/stop_words.csv')\n",
    "stop_words = common[\"words\"].tolist()"
   ]
  },
  {
   "cell_type": "code",
   "execution_count": 594,
   "metadata": {},
   "outputs": [],
   "source": [
    "from collections import Counter\n",
    "\n",
    "def most_common(lst):\n",
    "    data = Counter(lst)\n",
    "    return data.most_common(1)[0][0]\n",
    "\n",
    "def stop(lst):\n",
    "    arr = list(filter(None, lst))\n",
    "    arr = [word for word in arr if word.strip() not in stop_words]\n",
    "    return arr"
   ]
  },
  {
   "cell_type": "code",
   "execution_count": 600,
   "metadata": {},
   "outputs": [],
   "source": [
    "wordlist = lyrics.apply(lambda x: stop(x.replace(\";\", \"\").replace(\"?\", \"\").replace(\",\", \"\").split())).tolist()\n",
    "words = []\n",
    "for ls in wordlist:\n",
    "    words+=ls"
   ]
  },
  {
   "cell_type": "code",
   "execution_count": 629,
   "metadata": {},
   "outputs": [
    {
     "data": {
      "application/vnd.plotly.v1+json": {
       "config": {
        "plotlyServerURL": "https://plot.ly"
       },
       "data": [
        {
         "alignmentgroup": "True",
         "hovertemplate": "words=%{x}<br>index=%{y}<extra></extra>",
         "legendgroup": "",
         "marker": {
          "color": "#636efa"
         },
         "name": "",
         "offsetgroup": "",
         "orientation": "v",
         "showlegend": false,
         "textposition": "auto",
         "type": "bar",
         "x": [
          "love",
          "girl",
          "good",
          "yeah",
          "time",
          "number",
          "man",
          "long",
          "baby",
          "well",
          "day",
          "9",
          "cry",
          "gonna",
          "feel"
         ],
         "xaxis": "x",
         "y": [
          280,
          108,
          94,
          89,
          83,
          77,
          75,
          63,
          62,
          60,
          59,
          55,
          51,
          50,
          49
         ],
         "yaxis": "y"
        }
       ],
       "layout": {
        "barmode": "relative",
        "legend": {
         "tracegroupgap": 0
        },
        "margin": {
         "t": 60
        },
        "template": {
         "data": {
          "bar": [
           {
            "error_x": {
             "color": "#2a3f5f"
            },
            "error_y": {
             "color": "#2a3f5f"
            },
            "marker": {
             "line": {
              "color": "#E5ECF6",
              "width": 0.5
             }
            },
            "type": "bar"
           }
          ],
          "barpolar": [
           {
            "marker": {
             "line": {
              "color": "#E5ECF6",
              "width": 0.5
             }
            },
            "type": "barpolar"
           }
          ],
          "carpet": [
           {
            "aaxis": {
             "endlinecolor": "#2a3f5f",
             "gridcolor": "white",
             "linecolor": "white",
             "minorgridcolor": "white",
             "startlinecolor": "#2a3f5f"
            },
            "baxis": {
             "endlinecolor": "#2a3f5f",
             "gridcolor": "white",
             "linecolor": "white",
             "minorgridcolor": "white",
             "startlinecolor": "#2a3f5f"
            },
            "type": "carpet"
           }
          ],
          "choropleth": [
           {
            "colorbar": {
             "outlinewidth": 0,
             "ticks": ""
            },
            "type": "choropleth"
           }
          ],
          "contour": [
           {
            "colorbar": {
             "outlinewidth": 0,
             "ticks": ""
            },
            "colorscale": [
             [
              0,
              "#0d0887"
             ],
             [
              0.1111111111111111,
              "#46039f"
             ],
             [
              0.2222222222222222,
              "#7201a8"
             ],
             [
              0.3333333333333333,
              "#9c179e"
             ],
             [
              0.4444444444444444,
              "#bd3786"
             ],
             [
              0.5555555555555556,
              "#d8576b"
             ],
             [
              0.6666666666666666,
              "#ed7953"
             ],
             [
              0.7777777777777778,
              "#fb9f3a"
             ],
             [
              0.8888888888888888,
              "#fdca26"
             ],
             [
              1,
              "#f0f921"
             ]
            ],
            "type": "contour"
           }
          ],
          "contourcarpet": [
           {
            "colorbar": {
             "outlinewidth": 0,
             "ticks": ""
            },
            "type": "contourcarpet"
           }
          ],
          "heatmap": [
           {
            "colorbar": {
             "outlinewidth": 0,
             "ticks": ""
            },
            "colorscale": [
             [
              0,
              "#0d0887"
             ],
             [
              0.1111111111111111,
              "#46039f"
             ],
             [
              0.2222222222222222,
              "#7201a8"
             ],
             [
              0.3333333333333333,
              "#9c179e"
             ],
             [
              0.4444444444444444,
              "#bd3786"
             ],
             [
              0.5555555555555556,
              "#d8576b"
             ],
             [
              0.6666666666666666,
              "#ed7953"
             ],
             [
              0.7777777777777778,
              "#fb9f3a"
             ],
             [
              0.8888888888888888,
              "#fdca26"
             ],
             [
              1,
              "#f0f921"
             ]
            ],
            "type": "heatmap"
           }
          ],
          "heatmapgl": [
           {
            "colorbar": {
             "outlinewidth": 0,
             "ticks": ""
            },
            "colorscale": [
             [
              0,
              "#0d0887"
             ],
             [
              0.1111111111111111,
              "#46039f"
             ],
             [
              0.2222222222222222,
              "#7201a8"
             ],
             [
              0.3333333333333333,
              "#9c179e"
             ],
             [
              0.4444444444444444,
              "#bd3786"
             ],
             [
              0.5555555555555556,
              "#d8576b"
             ],
             [
              0.6666666666666666,
              "#ed7953"
             ],
             [
              0.7777777777777778,
              "#fb9f3a"
             ],
             [
              0.8888888888888888,
              "#fdca26"
             ],
             [
              1,
              "#f0f921"
             ]
            ],
            "type": "heatmapgl"
           }
          ],
          "histogram": [
           {
            "marker": {
             "colorbar": {
              "outlinewidth": 0,
              "ticks": ""
             }
            },
            "type": "histogram"
           }
          ],
          "histogram2d": [
           {
            "colorbar": {
             "outlinewidth": 0,
             "ticks": ""
            },
            "colorscale": [
             [
              0,
              "#0d0887"
             ],
             [
              0.1111111111111111,
              "#46039f"
             ],
             [
              0.2222222222222222,
              "#7201a8"
             ],
             [
              0.3333333333333333,
              "#9c179e"
             ],
             [
              0.4444444444444444,
              "#bd3786"
             ],
             [
              0.5555555555555556,
              "#d8576b"
             ],
             [
              0.6666666666666666,
              "#ed7953"
             ],
             [
              0.7777777777777778,
              "#fb9f3a"
             ],
             [
              0.8888888888888888,
              "#fdca26"
             ],
             [
              1,
              "#f0f921"
             ]
            ],
            "type": "histogram2d"
           }
          ],
          "histogram2dcontour": [
           {
            "colorbar": {
             "outlinewidth": 0,
             "ticks": ""
            },
            "colorscale": [
             [
              0,
              "#0d0887"
             ],
             [
              0.1111111111111111,
              "#46039f"
             ],
             [
              0.2222222222222222,
              "#7201a8"
             ],
             [
              0.3333333333333333,
              "#9c179e"
             ],
             [
              0.4444444444444444,
              "#bd3786"
             ],
             [
              0.5555555555555556,
              "#d8576b"
             ],
             [
              0.6666666666666666,
              "#ed7953"
             ],
             [
              0.7777777777777778,
              "#fb9f3a"
             ],
             [
              0.8888888888888888,
              "#fdca26"
             ],
             [
              1,
              "#f0f921"
             ]
            ],
            "type": "histogram2dcontour"
           }
          ],
          "mesh3d": [
           {
            "colorbar": {
             "outlinewidth": 0,
             "ticks": ""
            },
            "type": "mesh3d"
           }
          ],
          "parcoords": [
           {
            "line": {
             "colorbar": {
              "outlinewidth": 0,
              "ticks": ""
             }
            },
            "type": "parcoords"
           }
          ],
          "pie": [
           {
            "automargin": true,
            "type": "pie"
           }
          ],
          "scatter": [
           {
            "marker": {
             "colorbar": {
              "outlinewidth": 0,
              "ticks": ""
             }
            },
            "type": "scatter"
           }
          ],
          "scatter3d": [
           {
            "line": {
             "colorbar": {
              "outlinewidth": 0,
              "ticks": ""
             }
            },
            "marker": {
             "colorbar": {
              "outlinewidth": 0,
              "ticks": ""
             }
            },
            "type": "scatter3d"
           }
          ],
          "scattercarpet": [
           {
            "marker": {
             "colorbar": {
              "outlinewidth": 0,
              "ticks": ""
             }
            },
            "type": "scattercarpet"
           }
          ],
          "scattergeo": [
           {
            "marker": {
             "colorbar": {
              "outlinewidth": 0,
              "ticks": ""
             }
            },
            "type": "scattergeo"
           }
          ],
          "scattergl": [
           {
            "marker": {
             "colorbar": {
              "outlinewidth": 0,
              "ticks": ""
             }
            },
            "type": "scattergl"
           }
          ],
          "scattermapbox": [
           {
            "marker": {
             "colorbar": {
              "outlinewidth": 0,
              "ticks": ""
             }
            },
            "type": "scattermapbox"
           }
          ],
          "scatterpolar": [
           {
            "marker": {
             "colorbar": {
              "outlinewidth": 0,
              "ticks": ""
             }
            },
            "type": "scatterpolar"
           }
          ],
          "scatterpolargl": [
           {
            "marker": {
             "colorbar": {
              "outlinewidth": 0,
              "ticks": ""
             }
            },
            "type": "scatterpolargl"
           }
          ],
          "scatterternary": [
           {
            "marker": {
             "colorbar": {
              "outlinewidth": 0,
              "ticks": ""
             }
            },
            "type": "scatterternary"
           }
          ],
          "surface": [
           {
            "colorbar": {
             "outlinewidth": 0,
             "ticks": ""
            },
            "colorscale": [
             [
              0,
              "#0d0887"
             ],
             [
              0.1111111111111111,
              "#46039f"
             ],
             [
              0.2222222222222222,
              "#7201a8"
             ],
             [
              0.3333333333333333,
              "#9c179e"
             ],
             [
              0.4444444444444444,
              "#bd3786"
             ],
             [
              0.5555555555555556,
              "#d8576b"
             ],
             [
              0.6666666666666666,
              "#ed7953"
             ],
             [
              0.7777777777777778,
              "#fb9f3a"
             ],
             [
              0.8888888888888888,
              "#fdca26"
             ],
             [
              1,
              "#f0f921"
             ]
            ],
            "type": "surface"
           }
          ],
          "table": [
           {
            "cells": {
             "fill": {
              "color": "#EBF0F8"
             },
             "line": {
              "color": "white"
             }
            },
            "header": {
             "fill": {
              "color": "#C8D4E3"
             },
             "line": {
              "color": "white"
             }
            },
            "type": "table"
           }
          ]
         },
         "layout": {
          "annotationdefaults": {
           "arrowcolor": "#2a3f5f",
           "arrowhead": 0,
           "arrowwidth": 1
          },
          "coloraxis": {
           "colorbar": {
            "outlinewidth": 0,
            "ticks": ""
           }
          },
          "colorscale": {
           "diverging": [
            [
             0,
             "#8e0152"
            ],
            [
             0.1,
             "#c51b7d"
            ],
            [
             0.2,
             "#de77ae"
            ],
            [
             0.3,
             "#f1b6da"
            ],
            [
             0.4,
             "#fde0ef"
            ],
            [
             0.5,
             "#f7f7f7"
            ],
            [
             0.6,
             "#e6f5d0"
            ],
            [
             0.7,
             "#b8e186"
            ],
            [
             0.8,
             "#7fbc41"
            ],
            [
             0.9,
             "#4d9221"
            ],
            [
             1,
             "#276419"
            ]
           ],
           "sequential": [
            [
             0,
             "#0d0887"
            ],
            [
             0.1111111111111111,
             "#46039f"
            ],
            [
             0.2222222222222222,
             "#7201a8"
            ],
            [
             0.3333333333333333,
             "#9c179e"
            ],
            [
             0.4444444444444444,
             "#bd3786"
            ],
            [
             0.5555555555555556,
             "#d8576b"
            ],
            [
             0.6666666666666666,
             "#ed7953"
            ],
            [
             0.7777777777777778,
             "#fb9f3a"
            ],
            [
             0.8888888888888888,
             "#fdca26"
            ],
            [
             1,
             "#f0f921"
            ]
           ],
           "sequentialminus": [
            [
             0,
             "#0d0887"
            ],
            [
             0.1111111111111111,
             "#46039f"
            ],
            [
             0.2222222222222222,
             "#7201a8"
            ],
            [
             0.3333333333333333,
             "#9c179e"
            ],
            [
             0.4444444444444444,
             "#bd3786"
            ],
            [
             0.5555555555555556,
             "#d8576b"
            ],
            [
             0.6666666666666666,
             "#ed7953"
            ],
            [
             0.7777777777777778,
             "#fb9f3a"
            ],
            [
             0.8888888888888888,
             "#fdca26"
            ],
            [
             1,
             "#f0f921"
            ]
           ]
          },
          "colorway": [
           "#636efa",
           "#EF553B",
           "#00cc96",
           "#ab63fa",
           "#FFA15A",
           "#19d3f3",
           "#FF6692",
           "#B6E880",
           "#FF97FF",
           "#FECB52"
          ],
          "font": {
           "color": "#2a3f5f"
          },
          "geo": {
           "bgcolor": "white",
           "lakecolor": "white",
           "landcolor": "#E5ECF6",
           "showlakes": true,
           "showland": true,
           "subunitcolor": "white"
          },
          "hoverlabel": {
           "align": "left"
          },
          "hovermode": "closest",
          "mapbox": {
           "style": "light"
          },
          "paper_bgcolor": "white",
          "plot_bgcolor": "#E5ECF6",
          "polar": {
           "angularaxis": {
            "gridcolor": "white",
            "linecolor": "white",
            "ticks": ""
           },
           "bgcolor": "#E5ECF6",
           "radialaxis": {
            "gridcolor": "white",
            "linecolor": "white",
            "ticks": ""
           }
          },
          "scene": {
           "xaxis": {
            "backgroundcolor": "#E5ECF6",
            "gridcolor": "white",
            "gridwidth": 2,
            "linecolor": "white",
            "showbackground": true,
            "ticks": "",
            "zerolinecolor": "white"
           },
           "yaxis": {
            "backgroundcolor": "#E5ECF6",
            "gridcolor": "white",
            "gridwidth": 2,
            "linecolor": "white",
            "showbackground": true,
            "ticks": "",
            "zerolinecolor": "white"
           },
           "zaxis": {
            "backgroundcolor": "#E5ECF6",
            "gridcolor": "white",
            "gridwidth": 2,
            "linecolor": "white",
            "showbackground": true,
            "ticks": "",
            "zerolinecolor": "white"
           }
          },
          "shapedefaults": {
           "line": {
            "color": "#2a3f5f"
           }
          },
          "ternary": {
           "aaxis": {
            "gridcolor": "white",
            "linecolor": "white",
            "ticks": ""
           },
           "baxis": {
            "gridcolor": "white",
            "linecolor": "white",
            "ticks": ""
           },
           "bgcolor": "#E5ECF6",
           "caxis": {
            "gridcolor": "white",
            "linecolor": "white",
            "ticks": ""
           }
          },
          "title": {
           "x": 0.05
          },
          "xaxis": {
           "automargin": true,
           "gridcolor": "white",
           "linecolor": "white",
           "ticks": "",
           "title": {
            "standoff": 15
           },
           "zerolinecolor": "white",
           "zerolinewidth": 2
          },
          "yaxis": {
           "automargin": true,
           "gridcolor": "white",
           "linecolor": "white",
           "ticks": "",
           "title": {
            "standoff": 15
           },
           "zerolinecolor": "white",
           "zerolinewidth": 2
          }
         }
        },
        "title": {
         "text": "Beatles Most Common Words"
        },
        "xaxis": {
         "anchor": "y",
         "domain": [
          0,
          1
         ],
         "title": {
          "text": "words"
         }
        },
        "yaxis": {
         "anchor": "x",
         "domain": [
          0,
          1
         ],
         "title": {
          "text": "count"
         }
        }
       }
      },
      "text/html": [
       "<div>\n",
       "        \n",
       "        \n",
       "            <div id=\"ac746700-dde6-445d-9729-cb17a19957b0\" class=\"plotly-graph-div\" style=\"height:525px; width:100%;\"></div>\n",
       "            <script type=\"text/javascript\">\n",
       "                require([\"plotly\"], function(Plotly) {\n",
       "                    window.PLOTLYENV=window.PLOTLYENV || {};\n",
       "                    \n",
       "                if (document.getElementById(\"ac746700-dde6-445d-9729-cb17a19957b0\")) {\n",
       "                    Plotly.newPlot(\n",
       "                        'ac746700-dde6-445d-9729-cb17a19957b0',\n",
       "                        [{\"alignmentgroup\": \"True\", \"hovertemplate\": \"words=%{x}<br>index=%{y}<extra></extra>\", \"legendgroup\": \"\", \"marker\": {\"color\": \"#636efa\"}, \"name\": \"\", \"offsetgroup\": \"\", \"orientation\": \"v\", \"showlegend\": false, \"textposition\": \"auto\", \"type\": \"bar\", \"x\": [\"love\", \"girl\", \"good\", \"yeah\", \"time\", \"number\", \"man\", \"long\", \"baby\", \"well\", \"day\", \"9\", \"cry\", \"gonna\", \"feel\"], \"xaxis\": \"x\", \"y\": [280, 108, 94, 89, 83, 77, 75, 63, 62, 60, 59, 55, 51, 50, 49], \"yaxis\": \"y\"}],\n",
       "                        {\"barmode\": \"relative\", \"legend\": {\"tracegroupgap\": 0}, \"margin\": {\"t\": 60}, \"template\": {\"data\": {\"bar\": [{\"error_x\": {\"color\": \"#2a3f5f\"}, \"error_y\": {\"color\": \"#2a3f5f\"}, \"marker\": {\"line\": {\"color\": \"#E5ECF6\", \"width\": 0.5}}, \"type\": \"bar\"}], \"barpolar\": [{\"marker\": {\"line\": {\"color\": \"#E5ECF6\", \"width\": 0.5}}, \"type\": \"barpolar\"}], \"carpet\": [{\"aaxis\": {\"endlinecolor\": \"#2a3f5f\", \"gridcolor\": \"white\", \"linecolor\": \"white\", \"minorgridcolor\": \"white\", \"startlinecolor\": \"#2a3f5f\"}, \"baxis\": {\"endlinecolor\": \"#2a3f5f\", \"gridcolor\": \"white\", \"linecolor\": \"white\", \"minorgridcolor\": \"white\", \"startlinecolor\": \"#2a3f5f\"}, \"type\": \"carpet\"}], \"choropleth\": [{\"colorbar\": {\"outlinewidth\": 0, \"ticks\": \"\"}, \"type\": \"choropleth\"}], \"contour\": [{\"colorbar\": {\"outlinewidth\": 0, \"ticks\": \"\"}, \"colorscale\": [[0.0, \"#0d0887\"], [0.1111111111111111, \"#46039f\"], [0.2222222222222222, \"#7201a8\"], [0.3333333333333333, \"#9c179e\"], [0.4444444444444444, \"#bd3786\"], [0.5555555555555556, \"#d8576b\"], [0.6666666666666666, \"#ed7953\"], [0.7777777777777778, \"#fb9f3a\"], [0.8888888888888888, \"#fdca26\"], [1.0, \"#f0f921\"]], \"type\": \"contour\"}], \"contourcarpet\": [{\"colorbar\": {\"outlinewidth\": 0, \"ticks\": \"\"}, \"type\": \"contourcarpet\"}], \"heatmap\": [{\"colorbar\": {\"outlinewidth\": 0, \"ticks\": \"\"}, \"colorscale\": [[0.0, \"#0d0887\"], [0.1111111111111111, \"#46039f\"], [0.2222222222222222, \"#7201a8\"], [0.3333333333333333, \"#9c179e\"], [0.4444444444444444, \"#bd3786\"], [0.5555555555555556, \"#d8576b\"], [0.6666666666666666, \"#ed7953\"], [0.7777777777777778, \"#fb9f3a\"], [0.8888888888888888, \"#fdca26\"], [1.0, \"#f0f921\"]], \"type\": \"heatmap\"}], \"heatmapgl\": [{\"colorbar\": {\"outlinewidth\": 0, \"ticks\": \"\"}, \"colorscale\": [[0.0, \"#0d0887\"], [0.1111111111111111, \"#46039f\"], [0.2222222222222222, \"#7201a8\"], [0.3333333333333333, \"#9c179e\"], [0.4444444444444444, \"#bd3786\"], [0.5555555555555556, \"#d8576b\"], [0.6666666666666666, \"#ed7953\"], [0.7777777777777778, \"#fb9f3a\"], [0.8888888888888888, \"#fdca26\"], [1.0, \"#f0f921\"]], \"type\": \"heatmapgl\"}], \"histogram\": [{\"marker\": {\"colorbar\": {\"outlinewidth\": 0, \"ticks\": \"\"}}, \"type\": \"histogram\"}], \"histogram2d\": [{\"colorbar\": {\"outlinewidth\": 0, \"ticks\": \"\"}, \"colorscale\": [[0.0, \"#0d0887\"], [0.1111111111111111, \"#46039f\"], [0.2222222222222222, \"#7201a8\"], [0.3333333333333333, \"#9c179e\"], [0.4444444444444444, \"#bd3786\"], [0.5555555555555556, \"#d8576b\"], [0.6666666666666666, \"#ed7953\"], [0.7777777777777778, \"#fb9f3a\"], [0.8888888888888888, \"#fdca26\"], [1.0, \"#f0f921\"]], \"type\": \"histogram2d\"}], \"histogram2dcontour\": [{\"colorbar\": {\"outlinewidth\": 0, \"ticks\": \"\"}, \"colorscale\": [[0.0, \"#0d0887\"], [0.1111111111111111, \"#46039f\"], [0.2222222222222222, \"#7201a8\"], [0.3333333333333333, \"#9c179e\"], [0.4444444444444444, \"#bd3786\"], [0.5555555555555556, \"#d8576b\"], [0.6666666666666666, \"#ed7953\"], [0.7777777777777778, \"#fb9f3a\"], [0.8888888888888888, \"#fdca26\"], [1.0, \"#f0f921\"]], \"type\": \"histogram2dcontour\"}], \"mesh3d\": [{\"colorbar\": {\"outlinewidth\": 0, \"ticks\": \"\"}, \"type\": \"mesh3d\"}], \"parcoords\": [{\"line\": {\"colorbar\": {\"outlinewidth\": 0, \"ticks\": \"\"}}, \"type\": \"parcoords\"}], \"pie\": [{\"automargin\": true, \"type\": \"pie\"}], \"scatter\": [{\"marker\": {\"colorbar\": {\"outlinewidth\": 0, \"ticks\": \"\"}}, \"type\": \"scatter\"}], \"scatter3d\": [{\"line\": {\"colorbar\": {\"outlinewidth\": 0, \"ticks\": \"\"}}, \"marker\": {\"colorbar\": {\"outlinewidth\": 0, \"ticks\": \"\"}}, \"type\": \"scatter3d\"}], \"scattercarpet\": [{\"marker\": {\"colorbar\": {\"outlinewidth\": 0, \"ticks\": \"\"}}, \"type\": \"scattercarpet\"}], \"scattergeo\": [{\"marker\": {\"colorbar\": {\"outlinewidth\": 0, \"ticks\": \"\"}}, \"type\": \"scattergeo\"}], \"scattergl\": [{\"marker\": {\"colorbar\": {\"outlinewidth\": 0, \"ticks\": \"\"}}, \"type\": \"scattergl\"}], \"scattermapbox\": [{\"marker\": {\"colorbar\": {\"outlinewidth\": 0, \"ticks\": \"\"}}, \"type\": \"scattermapbox\"}], \"scatterpolar\": [{\"marker\": {\"colorbar\": {\"outlinewidth\": 0, \"ticks\": \"\"}}, \"type\": \"scatterpolar\"}], \"scatterpolargl\": [{\"marker\": {\"colorbar\": {\"outlinewidth\": 0, \"ticks\": \"\"}}, \"type\": \"scatterpolargl\"}], \"scatterternary\": [{\"marker\": {\"colorbar\": {\"outlinewidth\": 0, \"ticks\": \"\"}}, \"type\": \"scatterternary\"}], \"surface\": [{\"colorbar\": {\"outlinewidth\": 0, \"ticks\": \"\"}, \"colorscale\": [[0.0, \"#0d0887\"], [0.1111111111111111, \"#46039f\"], [0.2222222222222222, \"#7201a8\"], [0.3333333333333333, \"#9c179e\"], [0.4444444444444444, \"#bd3786\"], [0.5555555555555556, \"#d8576b\"], [0.6666666666666666, \"#ed7953\"], [0.7777777777777778, \"#fb9f3a\"], [0.8888888888888888, \"#fdca26\"], [1.0, \"#f0f921\"]], \"type\": \"surface\"}], \"table\": [{\"cells\": {\"fill\": {\"color\": \"#EBF0F8\"}, \"line\": {\"color\": \"white\"}}, \"header\": {\"fill\": {\"color\": \"#C8D4E3\"}, \"line\": {\"color\": \"white\"}}, \"type\": \"table\"}]}, \"layout\": {\"annotationdefaults\": {\"arrowcolor\": \"#2a3f5f\", \"arrowhead\": 0, \"arrowwidth\": 1}, \"coloraxis\": {\"colorbar\": {\"outlinewidth\": 0, \"ticks\": \"\"}}, \"colorscale\": {\"diverging\": [[0, \"#8e0152\"], [0.1, \"#c51b7d\"], [0.2, \"#de77ae\"], [0.3, \"#f1b6da\"], [0.4, \"#fde0ef\"], [0.5, \"#f7f7f7\"], [0.6, \"#e6f5d0\"], [0.7, \"#b8e186\"], [0.8, \"#7fbc41\"], [0.9, \"#4d9221\"], [1, \"#276419\"]], \"sequential\": [[0.0, \"#0d0887\"], [0.1111111111111111, \"#46039f\"], [0.2222222222222222, \"#7201a8\"], [0.3333333333333333, \"#9c179e\"], [0.4444444444444444, \"#bd3786\"], [0.5555555555555556, \"#d8576b\"], [0.6666666666666666, \"#ed7953\"], [0.7777777777777778, \"#fb9f3a\"], [0.8888888888888888, \"#fdca26\"], [1.0, \"#f0f921\"]], \"sequentialminus\": [[0.0, \"#0d0887\"], [0.1111111111111111, \"#46039f\"], [0.2222222222222222, \"#7201a8\"], [0.3333333333333333, \"#9c179e\"], [0.4444444444444444, \"#bd3786\"], [0.5555555555555556, \"#d8576b\"], [0.6666666666666666, \"#ed7953\"], [0.7777777777777778, \"#fb9f3a\"], [0.8888888888888888, \"#fdca26\"], [1.0, \"#f0f921\"]]}, \"colorway\": [\"#636efa\", \"#EF553B\", \"#00cc96\", \"#ab63fa\", \"#FFA15A\", \"#19d3f3\", \"#FF6692\", \"#B6E880\", \"#FF97FF\", \"#FECB52\"], \"font\": {\"color\": \"#2a3f5f\"}, \"geo\": {\"bgcolor\": \"white\", \"lakecolor\": \"white\", \"landcolor\": \"#E5ECF6\", \"showlakes\": true, \"showland\": true, \"subunitcolor\": \"white\"}, \"hoverlabel\": {\"align\": \"left\"}, \"hovermode\": \"closest\", \"mapbox\": {\"style\": \"light\"}, \"paper_bgcolor\": \"white\", \"plot_bgcolor\": \"#E5ECF6\", \"polar\": {\"angularaxis\": {\"gridcolor\": \"white\", \"linecolor\": \"white\", \"ticks\": \"\"}, \"bgcolor\": \"#E5ECF6\", \"radialaxis\": {\"gridcolor\": \"white\", \"linecolor\": \"white\", \"ticks\": \"\"}}, \"scene\": {\"xaxis\": {\"backgroundcolor\": \"#E5ECF6\", \"gridcolor\": \"white\", \"gridwidth\": 2, \"linecolor\": \"white\", \"showbackground\": true, \"ticks\": \"\", \"zerolinecolor\": \"white\"}, \"yaxis\": {\"backgroundcolor\": \"#E5ECF6\", \"gridcolor\": \"white\", \"gridwidth\": 2, \"linecolor\": \"white\", \"showbackground\": true, \"ticks\": \"\", \"zerolinecolor\": \"white\"}, \"zaxis\": {\"backgroundcolor\": \"#E5ECF6\", \"gridcolor\": \"white\", \"gridwidth\": 2, \"linecolor\": \"white\", \"showbackground\": true, \"ticks\": \"\", \"zerolinecolor\": \"white\"}}, \"shapedefaults\": {\"line\": {\"color\": \"#2a3f5f\"}}, \"ternary\": {\"aaxis\": {\"gridcolor\": \"white\", \"linecolor\": \"white\", \"ticks\": \"\"}, \"baxis\": {\"gridcolor\": \"white\", \"linecolor\": \"white\", \"ticks\": \"\"}, \"bgcolor\": \"#E5ECF6\", \"caxis\": {\"gridcolor\": \"white\", \"linecolor\": \"white\", \"ticks\": \"\"}}, \"title\": {\"x\": 0.05}, \"xaxis\": {\"automargin\": true, \"gridcolor\": \"white\", \"linecolor\": \"white\", \"ticks\": \"\", \"title\": {\"standoff\": 15}, \"zerolinecolor\": \"white\", \"zerolinewidth\": 2}, \"yaxis\": {\"automargin\": true, \"gridcolor\": \"white\", \"linecolor\": \"white\", \"ticks\": \"\", \"title\": {\"standoff\": 15}, \"zerolinecolor\": \"white\", \"zerolinewidth\": 2}}}, \"title\": {\"text\": \"Beatles Most Common Words\"}, \"xaxis\": {\"anchor\": \"y\", \"domain\": [0.0, 1.0], \"title\": {\"text\": \"words\"}}, \"yaxis\": {\"anchor\": \"x\", \"domain\": [0.0, 1.0], \"title\": {\"text\": \"count\"}}},\n",
       "                        {\"responsive\": true}\n",
       "                    ).then(function(){\n",
       "                            \n",
       "var gd = document.getElementById('ac746700-dde6-445d-9729-cb17a19957b0');\n",
       "var x = new MutationObserver(function (mutations, observer) {{\n",
       "        var display = window.getComputedStyle(gd).display;\n",
       "        if (!display || display === 'none') {{\n",
       "            console.log([gd, 'removed!']);\n",
       "            Plotly.purge(gd);\n",
       "            observer.disconnect();\n",
       "        }}\n",
       "}});\n",
       "\n",
       "// Listen for the removal of the full notebook cells\n",
       "var notebookContainer = gd.closest('#notebook-container');\n",
       "if (notebookContainer) {{\n",
       "    x.observe(notebookContainer, {childList: true});\n",
       "}}\n",
       "\n",
       "// Listen for the clearing of the current output cell\n",
       "var outputEl = gd.closest('.output');\n",
       "if (outputEl) {{\n",
       "    x.observe(outputEl, {childList: true});\n",
       "}}\n",
       "\n",
       "                        })\n",
       "                };\n",
       "                });\n",
       "            </script>\n",
       "        </div>"
      ]
     },
     "metadata": {},
     "output_type": "display_data"
    }
   ],
   "source": [
    "from collections import OrderedDict\n",
    "from operator import itemgetter \n",
    "\n",
    "wordsdf = pd.DataFrame({\"words\": words}).reset_index()\n",
    "wordsdf = wordsdf.groupby(\"words\").count().reset_index().sort_values(\"index\", ascending=False).reset_index(drop=True).head(15)\n",
    "\n",
    "import plotly.express as px\n",
    "\n",
    "fig = px.bar(wordsdf, x='words', y='index')\n",
    "fig.update_layout(title_text='Beatles Most Common Words', yaxis_title=\"count\")\n",
    "fig.show()\n"
   ]
  },
  {
   "cell_type": "markdown",
   "metadata": {},
   "source": [
    "We determine the polarity scores, and only take the compound score as that is what we will be using to quantify sentiment."
   ]
  },
  {
   "cell_type": "code",
   "execution_count": 642,
   "metadata": {},
   "outputs": [],
   "source": [
    "hal = sia()\n",
    "sentiment = []\n",
    "pos = []\n",
    "neg = []\n",
    "for lyric in lyrics:\n",
    "    ps = hal.polarity_scores(lyric)\n",
    "    sentiment.append(ps[\"compound\"])\n",
    "    pos.append(ps[\"pos\"])\n",
    "    neg.append(ps[\"neg\"])\n",
    "info[\"sentiment\"] = sentiment\n",
    "info[\"pos\"] = pos\n",
    "info[\"neg\"] = neg"
   ]
  },
  {
   "cell_type": "code",
   "execution_count": 646,
   "metadata": {},
   "outputs": [
    {
     "data": {
      "application/vnd.plotly.v1+json": {
       "config": {
        "plotlyServerURL": "https://plot.ly"
       },
       "data": [
        {
         "marker": {
          "color": [
           1968,
           1963,
           1963,
           1967,
           1964,
           1966,
           1965,
           1964,
           1963,
           1967,
           1964,
           1968,
           1969,
           1967,
           1968,
           1968,
           1967,
           1964,
           1969,
           1969,
           1968,
           1968,
           1967,
           1968,
           1969,
           1969,
           1966,
           1963,
           1968,
           1965,
           1964,
           1966,
           1969,
           1964,
           1968,
           1967,
           1967,
           1966,
           1969,
           1969,
           1967,
           1965,
           1968,
           1969,
           1966,
           1967,
           1968,
           1968,
           1964,
           1967,
           1965,
           1968,
           1969,
           1969,
           1966,
           1963,
           1968,
           1967,
           1964,
           1970,
           1965,
           1963,
           1964,
           1963,
           1966,
           1969,
           1968,
           1964,
           1965,
           1964,
           1964,
           1964,
           1964,
           1964,
           1965,
           1966,
           1968,
           1965,
           1963,
           1965,
           1969,
           1965,
           1968,
           1969,
           1963,
           1969,
           1968,
           1966,
           1967,
           1967,
           1967,
           1968,
           1969,
           1969,
           1965,
           1963,
           1968,
           1965,
           1964,
           1965,
           1963,
           1965,
           1968,
           1969,
           1969,
           1969,
           1966,
           1968,
           1962,
           1969,
           1962,
           1968,
           1968,
           1968,
           1965,
           1968,
           1968,
           1967,
           1967,
           1966,
           1967,
           1969,
           1966,
           1969,
           1966,
           1965,
           1964,
           1963,
           1964,
           1965,
           1965,
           1966,
           1969,
           1965,
           1965,
           1964,
           1964,
           1966,
           1968,
           1968,
           1968,
           1967,
           1967,
           1965,
           1966,
           1968,
           1965,
           1964,
           1967,
           1965,
           1969,
           1965,
           1967,
           1965,
           1965
          ]
         },
         "mode": "markers",
         "text": [
          "Across the Universe",
          "All I've Got to Do",
          "All My Loving",
          "All You Need Is Love",
          "And I Love Her",
          "And Your Bird Can Sing",
          "Another Girl",
          "Any Time at All",
          "Ask Me Why",
          "Baby, You're a Rich Man",
          "Baby's in Black",
          "Back in the U.S.S.R.",
          "Because",
          "Being for the Benefit of Mr. Kite!",
          "Birthday",
          "Blackbird",
          "Blue Jay Way",
          "Can't Buy Me Love",
          "Carry That Weight",
          "Come Together",
          "The Continuing Story of Bungalow Bill",
          "Cry Baby Cry",
          "A Day in the Life",
          "Dear Prudence",
          "Dig a Pony",
          "Dig It",
          "Doctor Robert",
          "Don't Bother Me",
          "Don't Pass Me By",
          "Drive My Car",
          "Eight Days a Week",
          "Eleanor Rigby",
          "The End",
          "Every Little Thing",
          "Everybody's Got Something to Hide Except Me and My Monkey",
          "Fixing a Hole",
          "The Fool on the Hill",
          "For No One",
          "For You Blue",
          "Get Back",
          "Getting Better",
          "Girl",
          "Glass Onion",
          "Golden Slumbers",
          "Good Day Sunshine",
          "Good Morning Good Morning",
          "Good Night",
          "Happiness Is a Warm Gun",
          "A Hard Day's Night",
          "Hello, Goodbye",
          "Help!",
          "Helter Skelter",
          "Her Majesty",
          "Here Comes the Sun",
          "Here, There and Everywhere",
          "Hold Me Tight",
          "Honey Pie",
          "I Am the Walrus",
          "I Don't Want to Spoil the Party",
          "I Me Mine",
          "I Need You",
          "I Saw Her Standing There",
          "I Should Have Known Better",
          "I Wanna Be Your Man",
          "I Want to Tell You",
          "I Want You (She's So Heavy)",
          "I Will",
          "If I Fell",
          "If I Needed Someone",
          "I'll Be Back",
          "I'll Cry Instead",
          "I'll Follow the Sun",
          "I'm a Loser",
          "I'm Happy Just to Dance with You",
          "I'm Looking Through You",
          "I'm Only Sleeping",
          "I'm So Tired",
          "In My Life",
          "It Won't Be Long",
          "It's Only Love",
          "I've Got a Feeling",
          "I've Just Seen a Face",
          "Julia",
          "Let It Be",
          "Little Child",
          "The Long and Winding Road",
          "Long, Long, Long",
          "Love You To",
          "Lovely Rita",
          "Lucy in the Sky with Diamonds",
          "Magical Mystery Tour",
          "Martha My Dear",
          "Maxwell's Silver Hammer",
          "Mean Mr. Mustard",
          "Michelle",
          "Misery",
          "Mother Nature's Son",
          "The Night Before",
          "No Reply",
          "Norwegian Wood (This Bird Has Flown)",
          "Not a Second Time",
          "Nowhere Man",
          "Ob-La-Di, Ob-La-Da",
          "Octopus's Garden",
          "Oh! Darling",
          "One After 909",
          "Penny Lane",
          "Piggies",
          "Please Please Me",
          "Polythene Pam",
          "P.S. I Love You",
          "Revolution 1",
          "Revolution 9",
          "Rocky Raccoon",
          "Run for Your Life",
          "Savoy Truffle",
          "Sexy Sadie",
          "Sgt. Pepper's Lonely Hearts Club Band",
          "Sgt. Pepper's Lonely Hearts Club Band (Reprise)",
          "She Said She Said",
          "She's Leaving Home",
          "Something",
          "Strawberry Fields Forever",
          "Sun King",
          "Taxman",
          "Tell Me What You See",
          "Tell Me Why",
          "There's a Place",
          "Things We Said Today",
          "Think for Yourself",
          "Ticket to Ride",
          "Tomorrow Never Knows",
          "Two of Us",
          "Wait",
          "What Goes On",
          "What You're Doing",
          "When I Get Home",
          "When I'm Sixty-Four",
          "While My Guitar Gently Weeps",
          "Why Don't We Do It in the Road?",
          "Wild Honey Pie",
          "With a Little Help from My Friends",
          "Within You Without You",
          "The Word",
          "Yellow Submarine",
          "Yer Blues",
          "Yesterday",
          "You Can't Do That",
          "You Know My Name (Look Up the Number)",
          "You Like Me Too Much",
          "You Never Give Me Your Money",
          "You Won't See Me",
          "Your Mother Should Know",
          "You're Going to Lose That Girl",
          "You've Got to Hide Your Love Away"
         ],
         "type": "scatter",
         "x": [
          1968,
          1963,
          1963,
          1967,
          1964,
          1966,
          1965,
          1964,
          1963,
          1967,
          1964,
          1968,
          1969,
          1967,
          1968,
          1968,
          1967,
          1964,
          1969,
          1969,
          1968,
          1968,
          1967,
          1968,
          1969,
          1969,
          1966,
          1963,
          1968,
          1965,
          1964,
          1966,
          1969,
          1964,
          1968,
          1967,
          1967,
          1966,
          1969,
          1969,
          1967,
          1965,
          1968,
          1969,
          1966,
          1967,
          1968,
          1968,
          1964,
          1967,
          1965,
          1968,
          1969,
          1969,
          1966,
          1963,
          1968,
          1967,
          1964,
          1970,
          1965,
          1963,
          1964,
          1963,
          1966,
          1969,
          1968,
          1964,
          1965,
          1964,
          1964,
          1964,
          1964,
          1964,
          1965,
          1966,
          1968,
          1965,
          1963,
          1965,
          1969,
          1965,
          1968,
          1969,
          1963,
          1969,
          1968,
          1966,
          1967,
          1967,
          1967,
          1968,
          1969,
          1969,
          1965,
          1963,
          1968,
          1965,
          1964,
          1965,
          1963,
          1965,
          1968,
          1969,
          1969,
          1969,
          1966,
          1968,
          1962,
          1969,
          1962,
          1968,
          1968,
          1968,
          1965,
          1968,
          1968,
          1967,
          1967,
          1966,
          1967,
          1969,
          1966,
          1969,
          1966,
          1965,
          1964,
          1963,
          1964,
          1965,
          1965,
          1966,
          1969,
          1965,
          1965,
          1964,
          1964,
          1966,
          1968,
          1968,
          1968,
          1967,
          1967,
          1965,
          1966,
          1968,
          1965,
          1964,
          1967,
          1965,
          1969,
          1965,
          1967,
          1965,
          1965
         ],
         "y": [
          0.9313,
          0.9623,
          0.9888,
          0.9995,
          0.997,
          0.1531,
          0.9718,
          -0.25,
          0.9831,
          0.9957,
          0.9064,
          0.9614,
          0.9403,
          0.9368,
          0.9215,
          -0.9501,
          0.9776,
          -0.9888,
          0,
          -0.1941,
          -0.9979,
          -0.995,
          0.9595,
          0.991,
          0.9909,
          0.7579,
          0.9947,
          -0.5818,
          -0.8919,
          0.9964,
          0.9969,
          -0.9791,
          0.999,
          0.991,
          -0.2481,
          -0.9357,
          -0.836,
          0.5645,
          0.9965,
          0.907,
          0.9882,
          0.9286,
          0.607,
          0.9845,
          0.9989,
          0.9995,
          0.9831,
          0.9725,
          0.988,
          -0.8834,
          0.992,
          0.9967,
          0.9835,
          0.9841,
          0.9948,
          0.8485,
          0.5821,
          -0.9565,
          0.773,
          -0.1063,
          -0.5781,
          0.2732,
          0.9932,
          0.995,
          0.2617,
          -0.9972,
          0.9877,
          0.9956,
          0.8859,
          0.8844,
          0.9856,
          0.9512,
          -0.6486,
          0.9933,
          -0.8138,
          0.7054,
          -0.9871,
          0.9173,
          0.9531,
          0.9936,
          0.9905,
          -0.6306,
          0.9886,
          0.9423,
          -0.7652,
          -0.595,
          0.9449,
          0.9246,
          0.9873,
          0.4767,
          0,
          0.9923,
          -0.983,
          -0.7146,
          0.9747,
          -0.9877,
          0.4939,
          0.8878,
          -0.7684,
          -0.6428,
          -0.9571,
          -0.8082,
          0.9897,
          0.722,
          -0.6593,
          -0.9186,
          0.9191,
          -0.6692,
          0.7184,
          0.9853,
          0.9974,
          0.9976,
          0.994,
          0.8832,
          -0.534,
          0.9528,
          0.9928,
          0.9545,
          -0.9694,
          -0.9666,
          0.7096,
          0.9421,
          -0.738,
          0.7845,
          0,
          0.782,
          -0.9912,
          -0.9153,
          0.9968,
          -0.4005,
          -0.9919,
          0.8236,
          0.4207,
          0.8906,
          0.7437,
          0.504,
          0.8176,
          0.4153,
          0.9893,
          -0.7622,
          0.6369,
          0.9945,
          0.9813,
          0.999,
          0.7243,
          -0.9898,
          0.8299,
          -0.8366,
          0.9549,
          0.9932,
          0.9783,
          -0.4882,
          0,
          -0.2406,
          0.9704
         ]
        }
       ],
       "layout": {
        "template": {
         "data": {
          "bar": [
           {
            "error_x": {
             "color": "#2a3f5f"
            },
            "error_y": {
             "color": "#2a3f5f"
            },
            "marker": {
             "line": {
              "color": "#E5ECF6",
              "width": 0.5
             }
            },
            "type": "bar"
           }
          ],
          "barpolar": [
           {
            "marker": {
             "line": {
              "color": "#E5ECF6",
              "width": 0.5
             }
            },
            "type": "barpolar"
           }
          ],
          "carpet": [
           {
            "aaxis": {
             "endlinecolor": "#2a3f5f",
             "gridcolor": "white",
             "linecolor": "white",
             "minorgridcolor": "white",
             "startlinecolor": "#2a3f5f"
            },
            "baxis": {
             "endlinecolor": "#2a3f5f",
             "gridcolor": "white",
             "linecolor": "white",
             "minorgridcolor": "white",
             "startlinecolor": "#2a3f5f"
            },
            "type": "carpet"
           }
          ],
          "choropleth": [
           {
            "colorbar": {
             "outlinewidth": 0,
             "ticks": ""
            },
            "type": "choropleth"
           }
          ],
          "contour": [
           {
            "colorbar": {
             "outlinewidth": 0,
             "ticks": ""
            },
            "colorscale": [
             [
              0,
              "#0d0887"
             ],
             [
              0.1111111111111111,
              "#46039f"
             ],
             [
              0.2222222222222222,
              "#7201a8"
             ],
             [
              0.3333333333333333,
              "#9c179e"
             ],
             [
              0.4444444444444444,
              "#bd3786"
             ],
             [
              0.5555555555555556,
              "#d8576b"
             ],
             [
              0.6666666666666666,
              "#ed7953"
             ],
             [
              0.7777777777777778,
              "#fb9f3a"
             ],
             [
              0.8888888888888888,
              "#fdca26"
             ],
             [
              1,
              "#f0f921"
             ]
            ],
            "type": "contour"
           }
          ],
          "contourcarpet": [
           {
            "colorbar": {
             "outlinewidth": 0,
             "ticks": ""
            },
            "type": "contourcarpet"
           }
          ],
          "heatmap": [
           {
            "colorbar": {
             "outlinewidth": 0,
             "ticks": ""
            },
            "colorscale": [
             [
              0,
              "#0d0887"
             ],
             [
              0.1111111111111111,
              "#46039f"
             ],
             [
              0.2222222222222222,
              "#7201a8"
             ],
             [
              0.3333333333333333,
              "#9c179e"
             ],
             [
              0.4444444444444444,
              "#bd3786"
             ],
             [
              0.5555555555555556,
              "#d8576b"
             ],
             [
              0.6666666666666666,
              "#ed7953"
             ],
             [
              0.7777777777777778,
              "#fb9f3a"
             ],
             [
              0.8888888888888888,
              "#fdca26"
             ],
             [
              1,
              "#f0f921"
             ]
            ],
            "type": "heatmap"
           }
          ],
          "heatmapgl": [
           {
            "colorbar": {
             "outlinewidth": 0,
             "ticks": ""
            },
            "colorscale": [
             [
              0,
              "#0d0887"
             ],
             [
              0.1111111111111111,
              "#46039f"
             ],
             [
              0.2222222222222222,
              "#7201a8"
             ],
             [
              0.3333333333333333,
              "#9c179e"
             ],
             [
              0.4444444444444444,
              "#bd3786"
             ],
             [
              0.5555555555555556,
              "#d8576b"
             ],
             [
              0.6666666666666666,
              "#ed7953"
             ],
             [
              0.7777777777777778,
              "#fb9f3a"
             ],
             [
              0.8888888888888888,
              "#fdca26"
             ],
             [
              1,
              "#f0f921"
             ]
            ],
            "type": "heatmapgl"
           }
          ],
          "histogram": [
           {
            "marker": {
             "colorbar": {
              "outlinewidth": 0,
              "ticks": ""
             }
            },
            "type": "histogram"
           }
          ],
          "histogram2d": [
           {
            "colorbar": {
             "outlinewidth": 0,
             "ticks": ""
            },
            "colorscale": [
             [
              0,
              "#0d0887"
             ],
             [
              0.1111111111111111,
              "#46039f"
             ],
             [
              0.2222222222222222,
              "#7201a8"
             ],
             [
              0.3333333333333333,
              "#9c179e"
             ],
             [
              0.4444444444444444,
              "#bd3786"
             ],
             [
              0.5555555555555556,
              "#d8576b"
             ],
             [
              0.6666666666666666,
              "#ed7953"
             ],
             [
              0.7777777777777778,
              "#fb9f3a"
             ],
             [
              0.8888888888888888,
              "#fdca26"
             ],
             [
              1,
              "#f0f921"
             ]
            ],
            "type": "histogram2d"
           }
          ],
          "histogram2dcontour": [
           {
            "colorbar": {
             "outlinewidth": 0,
             "ticks": ""
            },
            "colorscale": [
             [
              0,
              "#0d0887"
             ],
             [
              0.1111111111111111,
              "#46039f"
             ],
             [
              0.2222222222222222,
              "#7201a8"
             ],
             [
              0.3333333333333333,
              "#9c179e"
             ],
             [
              0.4444444444444444,
              "#bd3786"
             ],
             [
              0.5555555555555556,
              "#d8576b"
             ],
             [
              0.6666666666666666,
              "#ed7953"
             ],
             [
              0.7777777777777778,
              "#fb9f3a"
             ],
             [
              0.8888888888888888,
              "#fdca26"
             ],
             [
              1,
              "#f0f921"
             ]
            ],
            "type": "histogram2dcontour"
           }
          ],
          "mesh3d": [
           {
            "colorbar": {
             "outlinewidth": 0,
             "ticks": ""
            },
            "type": "mesh3d"
           }
          ],
          "parcoords": [
           {
            "line": {
             "colorbar": {
              "outlinewidth": 0,
              "ticks": ""
             }
            },
            "type": "parcoords"
           }
          ],
          "pie": [
           {
            "automargin": true,
            "type": "pie"
           }
          ],
          "scatter": [
           {
            "marker": {
             "colorbar": {
              "outlinewidth": 0,
              "ticks": ""
             }
            },
            "type": "scatter"
           }
          ],
          "scatter3d": [
           {
            "line": {
             "colorbar": {
              "outlinewidth": 0,
              "ticks": ""
             }
            },
            "marker": {
             "colorbar": {
              "outlinewidth": 0,
              "ticks": ""
             }
            },
            "type": "scatter3d"
           }
          ],
          "scattercarpet": [
           {
            "marker": {
             "colorbar": {
              "outlinewidth": 0,
              "ticks": ""
             }
            },
            "type": "scattercarpet"
           }
          ],
          "scattergeo": [
           {
            "marker": {
             "colorbar": {
              "outlinewidth": 0,
              "ticks": ""
             }
            },
            "type": "scattergeo"
           }
          ],
          "scattergl": [
           {
            "marker": {
             "colorbar": {
              "outlinewidth": 0,
              "ticks": ""
             }
            },
            "type": "scattergl"
           }
          ],
          "scattermapbox": [
           {
            "marker": {
             "colorbar": {
              "outlinewidth": 0,
              "ticks": ""
             }
            },
            "type": "scattermapbox"
           }
          ],
          "scatterpolar": [
           {
            "marker": {
             "colorbar": {
              "outlinewidth": 0,
              "ticks": ""
             }
            },
            "type": "scatterpolar"
           }
          ],
          "scatterpolargl": [
           {
            "marker": {
             "colorbar": {
              "outlinewidth": 0,
              "ticks": ""
             }
            },
            "type": "scatterpolargl"
           }
          ],
          "scatterternary": [
           {
            "marker": {
             "colorbar": {
              "outlinewidth": 0,
              "ticks": ""
             }
            },
            "type": "scatterternary"
           }
          ],
          "surface": [
           {
            "colorbar": {
             "outlinewidth": 0,
             "ticks": ""
            },
            "colorscale": [
             [
              0,
              "#0d0887"
             ],
             [
              0.1111111111111111,
              "#46039f"
             ],
             [
              0.2222222222222222,
              "#7201a8"
             ],
             [
              0.3333333333333333,
              "#9c179e"
             ],
             [
              0.4444444444444444,
              "#bd3786"
             ],
             [
              0.5555555555555556,
              "#d8576b"
             ],
             [
              0.6666666666666666,
              "#ed7953"
             ],
             [
              0.7777777777777778,
              "#fb9f3a"
             ],
             [
              0.8888888888888888,
              "#fdca26"
             ],
             [
              1,
              "#f0f921"
             ]
            ],
            "type": "surface"
           }
          ],
          "table": [
           {
            "cells": {
             "fill": {
              "color": "#EBF0F8"
             },
             "line": {
              "color": "white"
             }
            },
            "header": {
             "fill": {
              "color": "#C8D4E3"
             },
             "line": {
              "color": "white"
             }
            },
            "type": "table"
           }
          ]
         },
         "layout": {
          "annotationdefaults": {
           "arrowcolor": "#2a3f5f",
           "arrowhead": 0,
           "arrowwidth": 1
          },
          "coloraxis": {
           "colorbar": {
            "outlinewidth": 0,
            "ticks": ""
           }
          },
          "colorscale": {
           "diverging": [
            [
             0,
             "#8e0152"
            ],
            [
             0.1,
             "#c51b7d"
            ],
            [
             0.2,
             "#de77ae"
            ],
            [
             0.3,
             "#f1b6da"
            ],
            [
             0.4,
             "#fde0ef"
            ],
            [
             0.5,
             "#f7f7f7"
            ],
            [
             0.6,
             "#e6f5d0"
            ],
            [
             0.7,
             "#b8e186"
            ],
            [
             0.8,
             "#7fbc41"
            ],
            [
             0.9,
             "#4d9221"
            ],
            [
             1,
             "#276419"
            ]
           ],
           "sequential": [
            [
             0,
             "#0d0887"
            ],
            [
             0.1111111111111111,
             "#46039f"
            ],
            [
             0.2222222222222222,
             "#7201a8"
            ],
            [
             0.3333333333333333,
             "#9c179e"
            ],
            [
             0.4444444444444444,
             "#bd3786"
            ],
            [
             0.5555555555555556,
             "#d8576b"
            ],
            [
             0.6666666666666666,
             "#ed7953"
            ],
            [
             0.7777777777777778,
             "#fb9f3a"
            ],
            [
             0.8888888888888888,
             "#fdca26"
            ],
            [
             1,
             "#f0f921"
            ]
           ],
           "sequentialminus": [
            [
             0,
             "#0d0887"
            ],
            [
             0.1111111111111111,
             "#46039f"
            ],
            [
             0.2222222222222222,
             "#7201a8"
            ],
            [
             0.3333333333333333,
             "#9c179e"
            ],
            [
             0.4444444444444444,
             "#bd3786"
            ],
            [
             0.5555555555555556,
             "#d8576b"
            ],
            [
             0.6666666666666666,
             "#ed7953"
            ],
            [
             0.7777777777777778,
             "#fb9f3a"
            ],
            [
             0.8888888888888888,
             "#fdca26"
            ],
            [
             1,
             "#f0f921"
            ]
           ]
          },
          "colorway": [
           "#636efa",
           "#EF553B",
           "#00cc96",
           "#ab63fa",
           "#FFA15A",
           "#19d3f3",
           "#FF6692",
           "#B6E880",
           "#FF97FF",
           "#FECB52"
          ],
          "font": {
           "color": "#2a3f5f"
          },
          "geo": {
           "bgcolor": "white",
           "lakecolor": "white",
           "landcolor": "#E5ECF6",
           "showlakes": true,
           "showland": true,
           "subunitcolor": "white"
          },
          "hoverlabel": {
           "align": "left"
          },
          "hovermode": "closest",
          "mapbox": {
           "style": "light"
          },
          "paper_bgcolor": "white",
          "plot_bgcolor": "#E5ECF6",
          "polar": {
           "angularaxis": {
            "gridcolor": "white",
            "linecolor": "white",
            "ticks": ""
           },
           "bgcolor": "#E5ECF6",
           "radialaxis": {
            "gridcolor": "white",
            "linecolor": "white",
            "ticks": ""
           }
          },
          "scene": {
           "xaxis": {
            "backgroundcolor": "#E5ECF6",
            "gridcolor": "white",
            "gridwidth": 2,
            "linecolor": "white",
            "showbackground": true,
            "ticks": "",
            "zerolinecolor": "white"
           },
           "yaxis": {
            "backgroundcolor": "#E5ECF6",
            "gridcolor": "white",
            "gridwidth": 2,
            "linecolor": "white",
            "showbackground": true,
            "ticks": "",
            "zerolinecolor": "white"
           },
           "zaxis": {
            "backgroundcolor": "#E5ECF6",
            "gridcolor": "white",
            "gridwidth": 2,
            "linecolor": "white",
            "showbackground": true,
            "ticks": "",
            "zerolinecolor": "white"
           }
          },
          "shapedefaults": {
           "line": {
            "color": "#2a3f5f"
           }
          },
          "ternary": {
           "aaxis": {
            "gridcolor": "white",
            "linecolor": "white",
            "ticks": ""
           },
           "baxis": {
            "gridcolor": "white",
            "linecolor": "white",
            "ticks": ""
           },
           "bgcolor": "#E5ECF6",
           "caxis": {
            "gridcolor": "white",
            "linecolor": "white",
            "ticks": ""
           }
          },
          "title": {
           "x": 0.05
          },
          "xaxis": {
           "automargin": true,
           "gridcolor": "white",
           "linecolor": "white",
           "ticks": "",
           "title": {
            "standoff": 15
           },
           "zerolinecolor": "white",
           "zerolinewidth": 2
          },
          "yaxis": {
           "automargin": true,
           "gridcolor": "white",
           "linecolor": "white",
           "ticks": "",
           "title": {
            "standoff": 15
           },
           "zerolinecolor": "white",
           "zerolinewidth": 2
          }
         }
        },
        "title": {
         "text": "Beatles Sentiment Score"
        }
       }
      },
      "text/html": [
       "<div>\n",
       "        \n",
       "        \n",
       "            <div id=\"28315132-ddc1-44bc-a82b-b5c4de9f75e4\" class=\"plotly-graph-div\" style=\"height:525px; width:100%;\"></div>\n",
       "            <script type=\"text/javascript\">\n",
       "                require([\"plotly\"], function(Plotly) {\n",
       "                    window.PLOTLYENV=window.PLOTLYENV || {};\n",
       "                    \n",
       "                if (document.getElementById(\"28315132-ddc1-44bc-a82b-b5c4de9f75e4\")) {\n",
       "                    Plotly.newPlot(\n",
       "                        '28315132-ddc1-44bc-a82b-b5c4de9f75e4',\n",
       "                        [{\"marker\": {\"color\": [1968, 1963, 1963, 1967, 1964, 1966, 1965, 1964, 1963, 1967, 1964, 1968, 1969, 1967, 1968, 1968, 1967, 1964, 1969, 1969, 1968, 1968, 1967, 1968, 1969, 1969, 1966, 1963, 1968, 1965, 1964, 1966, 1969, 1964, 1968, 1967, 1967, 1966, 1969, 1969, 1967, 1965, 1968, 1969, 1966, 1967, 1968, 1968, 1964, 1967, 1965, 1968, 1969, 1969, 1966, 1963, 1968, 1967, 1964, 1970, 1965, 1963, 1964, 1963, 1966, 1969, 1968, 1964, 1965, 1964, 1964, 1964, 1964, 1964, 1965, 1966, 1968, 1965, 1963, 1965, 1969, 1965, 1968, 1969, 1963, 1969, 1968, 1966, 1967, 1967, 1967, 1968, 1969, 1969, 1965, 1963, 1968, 1965, 1964, 1965, 1963, 1965, 1968, 1969, 1969, 1969, 1966, 1968, 1962, 1969, 1962, 1968, 1968, 1968, 1965, 1968, 1968, 1967, 1967, 1966, 1967, 1969, 1966, 1969, 1966, 1965, 1964, 1963, 1964, 1965, 1965, 1966, 1969, 1965, 1965, 1964, 1964, 1966, 1968, 1968, 1968, 1967, 1967, 1965, 1966, 1968, 1965, 1964, 1967, 1965, 1969, 1965, 1967, 1965, 1965]}, \"mode\": \"markers\", \"text\": [\"Across the Universe\", \"All I've Got to Do\", \"All My Loving\", \"All You Need Is Love\", \"And I Love Her\", \"And Your Bird Can Sing\", \"Another Girl\", \"Any Time at All\", \"Ask Me Why\", \"Baby, You're a Rich Man\", \"Baby's in Black\", \"Back in the U.S.S.R.\", \"Because\", \"Being for the Benefit of Mr. Kite!\", \"Birthday\", \"Blackbird\", \"Blue Jay Way\", \"Can't Buy Me Love\", \"Carry That Weight\", \"Come Together\", \"The Continuing Story of Bungalow Bill\", \"Cry Baby Cry\", \"A Day in the Life\", \"Dear Prudence\", \"Dig a Pony\", \"Dig It\", \"Doctor Robert\", \"Don't Bother Me\", \"Don't Pass Me By\", \"Drive My Car\", \"Eight Days a Week\", \"Eleanor Rigby\", \"The End\", \"Every Little Thing\", \"Everybody's Got Something to Hide Except Me and My Monkey\", \"Fixing a Hole\", \"The Fool on the Hill\", \"For No One\", \"For You Blue\", \"Get Back\", \"Getting Better\", \"Girl\", \"Glass Onion\", \"Golden Slumbers\", \"Good Day Sunshine\", \"Good Morning Good Morning\", \"Good Night\", \"Happiness Is a Warm Gun\", \"A Hard Day's Night\", \"Hello, Goodbye\", \"Help!\", \"Helter Skelter\", \"Her Majesty\", \"Here Comes the Sun\", \"Here, There and Everywhere\", \"Hold Me Tight\", \"Honey Pie\", \"I Am the Walrus\", \"I Don't Want to Spoil the Party\", \"I Me Mine\", \"I Need You\", \"I Saw Her Standing There\", \"I Should Have Known Better\", \"I Wanna Be Your Man\", \"I Want to Tell You\", \"I Want You (She's So Heavy)\", \"I Will\", \"If I Fell\", \"If I Needed Someone\", \"I'll Be Back\", \"I'll Cry Instead\", \"I'll Follow the Sun\", \"I'm a Loser\", \"I'm Happy Just to Dance with You\", \"I'm Looking Through You\", \"I'm Only Sleeping\", \"I'm So Tired\", \"In My Life\", \"It Won't Be Long\", \"It's Only Love\", \"I've Got a Feeling\", \"I've Just Seen a Face\", \"Julia\", \"Let It Be\", \"Little Child\", \"The Long and Winding Road\", \"Long, Long, Long\", \"Love You To\", \"Lovely Rita\", \"Lucy in the Sky with Diamonds\", \"Magical Mystery Tour\", \"Martha My Dear\", \"Maxwell's Silver Hammer\", \"Mean Mr. Mustard\", \"Michelle\", \"Misery\", \"Mother Nature's Son\", \"The Night Before\", \"No Reply\", \"Norwegian Wood (This Bird Has Flown)\", \"Not a Second Time\", \"Nowhere Man\", \"Ob-La-Di, Ob-La-Da\", \"Octopus's Garden\", \"Oh! Darling\", \"One After 909\", \"Penny Lane\", \"Piggies\", \"Please Please Me\", \"Polythene Pam\", \"P.S. I Love You\", \"Revolution 1\", \"Revolution 9\", \"Rocky Raccoon\", \"Run for Your Life\", \"Savoy Truffle\", \"Sexy Sadie\", \"Sgt. Pepper's Lonely Hearts Club Band\", \"Sgt. Pepper's Lonely Hearts Club Band (Reprise)\", \"She Said She Said\", \"She's Leaving Home\", \"Something\", \"Strawberry Fields Forever\", \"Sun King\", \"Taxman\", \"Tell Me What You See\", \"Tell Me Why\", \"There's a Place\", \"Things We Said Today\", \"Think for Yourself\", \"Ticket to Ride\", \"Tomorrow Never Knows\", \"Two of Us\", \"Wait\", \"What Goes On\", \"What You're Doing\", \"When I Get Home\", \"When I'm Sixty-Four\", \"While My Guitar Gently Weeps\", \"Why Don't We Do It in the Road?\", \"Wild Honey Pie\", \"With a Little Help from My Friends\", \"Within You Without You\", \"The Word\", \"Yellow Submarine\", \"Yer Blues\", \"Yesterday\", \"You Can't Do That\", \"You Know My Name (Look Up the Number)\", \"You Like Me Too Much\", \"You Never Give Me Your Money\", \"You Won't See Me\", \"Your Mother Should Know\", \"You're Going to Lose That Girl\", \"You've Got to Hide Your Love Away\"], \"type\": \"scatter\", \"x\": [1968, 1963, 1963, 1967, 1964, 1966, 1965, 1964, 1963, 1967, 1964, 1968, 1969, 1967, 1968, 1968, 1967, 1964, 1969, 1969, 1968, 1968, 1967, 1968, 1969, 1969, 1966, 1963, 1968, 1965, 1964, 1966, 1969, 1964, 1968, 1967, 1967, 1966, 1969, 1969, 1967, 1965, 1968, 1969, 1966, 1967, 1968, 1968, 1964, 1967, 1965, 1968, 1969, 1969, 1966, 1963, 1968, 1967, 1964, 1970, 1965, 1963, 1964, 1963, 1966, 1969, 1968, 1964, 1965, 1964, 1964, 1964, 1964, 1964, 1965, 1966, 1968, 1965, 1963, 1965, 1969, 1965, 1968, 1969, 1963, 1969, 1968, 1966, 1967, 1967, 1967, 1968, 1969, 1969, 1965, 1963, 1968, 1965, 1964, 1965, 1963, 1965, 1968, 1969, 1969, 1969, 1966, 1968, 1962, 1969, 1962, 1968, 1968, 1968, 1965, 1968, 1968, 1967, 1967, 1966, 1967, 1969, 1966, 1969, 1966, 1965, 1964, 1963, 1964, 1965, 1965, 1966, 1969, 1965, 1965, 1964, 1964, 1966, 1968, 1968, 1968, 1967, 1967, 1965, 1966, 1968, 1965, 1964, 1967, 1965, 1969, 1965, 1967, 1965, 1965], \"y\": [0.9313, 0.9623, 0.9888, 0.9995, 0.997, 0.1531, 0.9718, -0.25, 0.9831, 0.9957, 0.9064, 0.9614, 0.9403, 0.9368, 0.9215, -0.9501, 0.9776, -0.9888, 0.0, -0.1941, -0.9979, -0.995, 0.9595, 0.991, 0.9909, 0.7579, 0.9947, -0.5818, -0.8919, 0.9964, 0.9969, -0.9791, 0.999, 0.991, -0.2481, -0.9357, -0.836, 0.5645, 0.9965, 0.907, 0.9882, 0.9286, 0.607, 0.9845, 0.9989, 0.9995, 0.9831, 0.9725, 0.988, -0.8834, 0.992, 0.9967, 0.9835, 0.9841, 0.9948, 0.8485, 0.5821, -0.9565, 0.773, -0.1063, -0.5781, 0.2732, 0.9932, 0.995, 0.2617, -0.9972, 0.9877, 0.9956, 0.8859, 0.8844, 0.9856, 0.9512, -0.6486, 0.9933, -0.8138, 0.7054, -0.9871, 0.9173, 0.9531, 0.9936, 0.9905, -0.6306, 0.9886, 0.9423, -0.7652, -0.595, 0.9449, 0.9246, 0.9873, 0.4767, 0.0, 0.9923, -0.983, -0.7146, 0.9747, -0.9877, 0.4939, 0.8878, -0.7684, -0.6428, -0.9571, -0.8082, 0.9897, 0.722, -0.6593, -0.9186, 0.9191, -0.6692, 0.7184, 0.9853, 0.9974, 0.9976, 0.994, 0.8832, -0.534, 0.9528, 0.9928, 0.9545, -0.9694, -0.9666, 0.7096, 0.9421, -0.738, 0.7845, 0.0, 0.782, -0.9912, -0.9153, 0.9968, -0.4005, -0.9919, 0.8236, 0.4207, 0.8906, 0.7437, 0.504, 0.8176, 0.4153, 0.9893, -0.7622, 0.6369, 0.9945, 0.9813, 0.999, 0.7243, -0.9898, 0.8299, -0.8366, 0.9549, 0.9932, 0.9783, -0.4882, 0.0, -0.2406, 0.9704]}],\n",
       "                        {\"template\": {\"data\": {\"bar\": [{\"error_x\": {\"color\": \"#2a3f5f\"}, \"error_y\": {\"color\": \"#2a3f5f\"}, \"marker\": {\"line\": {\"color\": \"#E5ECF6\", \"width\": 0.5}}, \"type\": \"bar\"}], \"barpolar\": [{\"marker\": {\"line\": {\"color\": \"#E5ECF6\", \"width\": 0.5}}, \"type\": \"barpolar\"}], \"carpet\": [{\"aaxis\": {\"endlinecolor\": \"#2a3f5f\", \"gridcolor\": \"white\", \"linecolor\": \"white\", \"minorgridcolor\": \"white\", \"startlinecolor\": \"#2a3f5f\"}, \"baxis\": {\"endlinecolor\": \"#2a3f5f\", \"gridcolor\": \"white\", \"linecolor\": \"white\", \"minorgridcolor\": \"white\", \"startlinecolor\": \"#2a3f5f\"}, \"type\": \"carpet\"}], \"choropleth\": [{\"colorbar\": {\"outlinewidth\": 0, \"ticks\": \"\"}, \"type\": \"choropleth\"}], \"contour\": [{\"colorbar\": {\"outlinewidth\": 0, \"ticks\": \"\"}, \"colorscale\": [[0.0, \"#0d0887\"], [0.1111111111111111, \"#46039f\"], [0.2222222222222222, \"#7201a8\"], [0.3333333333333333, \"#9c179e\"], [0.4444444444444444, \"#bd3786\"], [0.5555555555555556, \"#d8576b\"], [0.6666666666666666, \"#ed7953\"], [0.7777777777777778, \"#fb9f3a\"], [0.8888888888888888, \"#fdca26\"], [1.0, \"#f0f921\"]], \"type\": \"contour\"}], \"contourcarpet\": [{\"colorbar\": {\"outlinewidth\": 0, \"ticks\": \"\"}, \"type\": \"contourcarpet\"}], \"heatmap\": [{\"colorbar\": {\"outlinewidth\": 0, \"ticks\": \"\"}, \"colorscale\": [[0.0, \"#0d0887\"], [0.1111111111111111, \"#46039f\"], [0.2222222222222222, \"#7201a8\"], [0.3333333333333333, \"#9c179e\"], [0.4444444444444444, \"#bd3786\"], [0.5555555555555556, \"#d8576b\"], [0.6666666666666666, \"#ed7953\"], [0.7777777777777778, \"#fb9f3a\"], [0.8888888888888888, \"#fdca26\"], [1.0, \"#f0f921\"]], \"type\": \"heatmap\"}], \"heatmapgl\": [{\"colorbar\": {\"outlinewidth\": 0, \"ticks\": \"\"}, \"colorscale\": [[0.0, \"#0d0887\"], [0.1111111111111111, \"#46039f\"], [0.2222222222222222, \"#7201a8\"], [0.3333333333333333, \"#9c179e\"], [0.4444444444444444, \"#bd3786\"], [0.5555555555555556, \"#d8576b\"], [0.6666666666666666, \"#ed7953\"], [0.7777777777777778, \"#fb9f3a\"], [0.8888888888888888, \"#fdca26\"], [1.0, \"#f0f921\"]], \"type\": \"heatmapgl\"}], \"histogram\": [{\"marker\": {\"colorbar\": {\"outlinewidth\": 0, \"ticks\": \"\"}}, \"type\": \"histogram\"}], \"histogram2d\": [{\"colorbar\": {\"outlinewidth\": 0, \"ticks\": \"\"}, \"colorscale\": [[0.0, \"#0d0887\"], [0.1111111111111111, \"#46039f\"], [0.2222222222222222, \"#7201a8\"], [0.3333333333333333, \"#9c179e\"], [0.4444444444444444, \"#bd3786\"], [0.5555555555555556, \"#d8576b\"], [0.6666666666666666, \"#ed7953\"], [0.7777777777777778, \"#fb9f3a\"], [0.8888888888888888, \"#fdca26\"], [1.0, \"#f0f921\"]], \"type\": \"histogram2d\"}], \"histogram2dcontour\": [{\"colorbar\": {\"outlinewidth\": 0, \"ticks\": \"\"}, \"colorscale\": [[0.0, \"#0d0887\"], [0.1111111111111111, \"#46039f\"], [0.2222222222222222, \"#7201a8\"], [0.3333333333333333, \"#9c179e\"], [0.4444444444444444, \"#bd3786\"], [0.5555555555555556, \"#d8576b\"], [0.6666666666666666, \"#ed7953\"], [0.7777777777777778, \"#fb9f3a\"], [0.8888888888888888, \"#fdca26\"], [1.0, \"#f0f921\"]], \"type\": \"histogram2dcontour\"}], \"mesh3d\": [{\"colorbar\": {\"outlinewidth\": 0, \"ticks\": \"\"}, \"type\": \"mesh3d\"}], \"parcoords\": [{\"line\": {\"colorbar\": {\"outlinewidth\": 0, \"ticks\": \"\"}}, \"type\": \"parcoords\"}], \"pie\": [{\"automargin\": true, \"type\": \"pie\"}], \"scatter\": [{\"marker\": {\"colorbar\": {\"outlinewidth\": 0, \"ticks\": \"\"}}, \"type\": \"scatter\"}], \"scatter3d\": [{\"line\": {\"colorbar\": {\"outlinewidth\": 0, \"ticks\": \"\"}}, \"marker\": {\"colorbar\": {\"outlinewidth\": 0, \"ticks\": \"\"}}, \"type\": \"scatter3d\"}], \"scattercarpet\": [{\"marker\": {\"colorbar\": {\"outlinewidth\": 0, \"ticks\": \"\"}}, \"type\": \"scattercarpet\"}], \"scattergeo\": [{\"marker\": {\"colorbar\": {\"outlinewidth\": 0, \"ticks\": \"\"}}, \"type\": \"scattergeo\"}], \"scattergl\": [{\"marker\": {\"colorbar\": {\"outlinewidth\": 0, \"ticks\": \"\"}}, \"type\": \"scattergl\"}], \"scattermapbox\": [{\"marker\": {\"colorbar\": {\"outlinewidth\": 0, \"ticks\": \"\"}}, \"type\": \"scattermapbox\"}], \"scatterpolar\": [{\"marker\": {\"colorbar\": {\"outlinewidth\": 0, \"ticks\": \"\"}}, \"type\": \"scatterpolar\"}], \"scatterpolargl\": [{\"marker\": {\"colorbar\": {\"outlinewidth\": 0, \"ticks\": \"\"}}, \"type\": \"scatterpolargl\"}], \"scatterternary\": [{\"marker\": {\"colorbar\": {\"outlinewidth\": 0, \"ticks\": \"\"}}, \"type\": \"scatterternary\"}], \"surface\": [{\"colorbar\": {\"outlinewidth\": 0, \"ticks\": \"\"}, \"colorscale\": [[0.0, \"#0d0887\"], [0.1111111111111111, \"#46039f\"], [0.2222222222222222, \"#7201a8\"], [0.3333333333333333, \"#9c179e\"], [0.4444444444444444, \"#bd3786\"], [0.5555555555555556, \"#d8576b\"], [0.6666666666666666, \"#ed7953\"], [0.7777777777777778, \"#fb9f3a\"], [0.8888888888888888, \"#fdca26\"], [1.0, \"#f0f921\"]], \"type\": \"surface\"}], \"table\": [{\"cells\": {\"fill\": {\"color\": \"#EBF0F8\"}, \"line\": {\"color\": \"white\"}}, \"header\": {\"fill\": {\"color\": \"#C8D4E3\"}, \"line\": {\"color\": \"white\"}}, \"type\": \"table\"}]}, \"layout\": {\"annotationdefaults\": {\"arrowcolor\": \"#2a3f5f\", \"arrowhead\": 0, \"arrowwidth\": 1}, \"coloraxis\": {\"colorbar\": {\"outlinewidth\": 0, \"ticks\": \"\"}}, \"colorscale\": {\"diverging\": [[0, \"#8e0152\"], [0.1, \"#c51b7d\"], [0.2, \"#de77ae\"], [0.3, \"#f1b6da\"], [0.4, \"#fde0ef\"], [0.5, \"#f7f7f7\"], [0.6, \"#e6f5d0\"], [0.7, \"#b8e186\"], [0.8, \"#7fbc41\"], [0.9, \"#4d9221\"], [1, \"#276419\"]], \"sequential\": [[0.0, \"#0d0887\"], [0.1111111111111111, \"#46039f\"], [0.2222222222222222, \"#7201a8\"], [0.3333333333333333, \"#9c179e\"], [0.4444444444444444, \"#bd3786\"], [0.5555555555555556, \"#d8576b\"], [0.6666666666666666, \"#ed7953\"], [0.7777777777777778, \"#fb9f3a\"], [0.8888888888888888, \"#fdca26\"], [1.0, \"#f0f921\"]], \"sequentialminus\": [[0.0, \"#0d0887\"], [0.1111111111111111, \"#46039f\"], [0.2222222222222222, \"#7201a8\"], [0.3333333333333333, \"#9c179e\"], [0.4444444444444444, \"#bd3786\"], [0.5555555555555556, \"#d8576b\"], [0.6666666666666666, \"#ed7953\"], [0.7777777777777778, \"#fb9f3a\"], [0.8888888888888888, \"#fdca26\"], [1.0, \"#f0f921\"]]}, \"colorway\": [\"#636efa\", \"#EF553B\", \"#00cc96\", \"#ab63fa\", \"#FFA15A\", \"#19d3f3\", \"#FF6692\", \"#B6E880\", \"#FF97FF\", \"#FECB52\"], \"font\": {\"color\": \"#2a3f5f\"}, \"geo\": {\"bgcolor\": \"white\", \"lakecolor\": \"white\", \"landcolor\": \"#E5ECF6\", \"showlakes\": true, \"showland\": true, \"subunitcolor\": \"white\"}, \"hoverlabel\": {\"align\": \"left\"}, \"hovermode\": \"closest\", \"mapbox\": {\"style\": \"light\"}, \"paper_bgcolor\": \"white\", \"plot_bgcolor\": \"#E5ECF6\", \"polar\": {\"angularaxis\": {\"gridcolor\": \"white\", \"linecolor\": \"white\", \"ticks\": \"\"}, \"bgcolor\": \"#E5ECF6\", \"radialaxis\": {\"gridcolor\": \"white\", \"linecolor\": \"white\", \"ticks\": \"\"}}, \"scene\": {\"xaxis\": {\"backgroundcolor\": \"#E5ECF6\", \"gridcolor\": \"white\", \"gridwidth\": 2, \"linecolor\": \"white\", \"showbackground\": true, \"ticks\": \"\", \"zerolinecolor\": \"white\"}, \"yaxis\": {\"backgroundcolor\": \"#E5ECF6\", \"gridcolor\": \"white\", \"gridwidth\": 2, \"linecolor\": \"white\", \"showbackground\": true, \"ticks\": \"\", \"zerolinecolor\": \"white\"}, \"zaxis\": {\"backgroundcolor\": \"#E5ECF6\", \"gridcolor\": \"white\", \"gridwidth\": 2, \"linecolor\": \"white\", \"showbackground\": true, \"ticks\": \"\", \"zerolinecolor\": \"white\"}}, \"shapedefaults\": {\"line\": {\"color\": \"#2a3f5f\"}}, \"ternary\": {\"aaxis\": {\"gridcolor\": \"white\", \"linecolor\": \"white\", \"ticks\": \"\"}, \"baxis\": {\"gridcolor\": \"white\", \"linecolor\": \"white\", \"ticks\": \"\"}, \"bgcolor\": \"#E5ECF6\", \"caxis\": {\"gridcolor\": \"white\", \"linecolor\": \"white\", \"ticks\": \"\"}}, \"title\": {\"x\": 0.05}, \"xaxis\": {\"automargin\": true, \"gridcolor\": \"white\", \"linecolor\": \"white\", \"ticks\": \"\", \"title\": {\"standoff\": 15}, \"zerolinecolor\": \"white\", \"zerolinewidth\": 2}, \"yaxis\": {\"automargin\": true, \"gridcolor\": \"white\", \"linecolor\": \"white\", \"ticks\": \"\", \"title\": {\"standoff\": 15}, \"zerolinecolor\": \"white\", \"zerolinewidth\": 2}}}, \"title\": {\"text\": \"Beatles Sentiment Score\"}},\n",
       "                        {\"responsive\": true}\n",
       "                    ).then(function(){\n",
       "                            \n",
       "var gd = document.getElementById('28315132-ddc1-44bc-a82b-b5c4de9f75e4');\n",
       "var x = new MutationObserver(function (mutations, observer) {{\n",
       "        var display = window.getComputedStyle(gd).display;\n",
       "        if (!display || display === 'none') {{\n",
       "            console.log([gd, 'removed!']);\n",
       "            Plotly.purge(gd);\n",
       "            observer.disconnect();\n",
       "        }}\n",
       "}});\n",
       "\n",
       "// Listen for the removal of the full notebook cells\n",
       "var notebookContainer = gd.closest('#notebook-container');\n",
       "if (notebookContainer) {{\n",
       "    x.observe(notebookContainer, {childList: true});\n",
       "}}\n",
       "\n",
       "// Listen for the clearing of the current output cell\n",
       "var outputEl = gd.closest('.output');\n",
       "if (outputEl) {{\n",
       "    x.observe(outputEl, {childList: true});\n",
       "}}\n",
       "\n",
       "                        })\n",
       "                };\n",
       "                });\n",
       "            </script>\n",
       "        </div>"
      ]
     },
     "metadata": {},
     "output_type": "display_data"
    }
   ],
   "source": [
    "import plotly.graph_objects as go\n",
    "fig = go.Figure(data=go.Scatter(x=info['year'],\n",
    "                                y=info['sentiment'],\n",
    "                                mode='markers',\n",
    "                                marker_color=info['year'],\n",
    "                                text=info['title']))\n",
    "\n",
    "fig.update_layout(title='Beatles Sentiment Score')\n",
    "fig.show()"
   ]
  },
  {
   "cell_type": "code",
   "execution_count": 649,
   "metadata": {
    "scrolled": true
   },
   "outputs": [
    {
     "data": {
      "application/vnd.plotly.v1+json": {
       "config": {
        "plotlyServerURL": "https://plot.ly"
       },
       "data": [
        {
         "marker": {
          "color": [
           1968,
           1963,
           1963,
           1967,
           1964,
           1966,
           1965,
           1964,
           1963,
           1967,
           1964,
           1968,
           1969,
           1967,
           1968,
           1968,
           1967,
           1964,
           1969,
           1969,
           1968,
           1968,
           1967,
           1968,
           1969,
           1969,
           1966,
           1963,
           1968,
           1965,
           1964,
           1966,
           1969,
           1964,
           1968,
           1967,
           1967,
           1966,
           1969,
           1969,
           1967,
           1965,
           1968,
           1969,
           1966,
           1967,
           1968,
           1968,
           1964,
           1967,
           1965,
           1968,
           1969,
           1969,
           1966,
           1963,
           1968,
           1967,
           1964,
           1970,
           1965,
           1963,
           1964,
           1963,
           1966,
           1969,
           1968,
           1964,
           1965,
           1964,
           1964,
           1964,
           1964,
           1964,
           1965,
           1966,
           1968,
           1965,
           1963,
           1965,
           1969,
           1965,
           1968,
           1969,
           1963,
           1969,
           1968,
           1966,
           1967,
           1967,
           1967,
           1968,
           1969,
           1969,
           1965,
           1963,
           1968,
           1965,
           1964,
           1965,
           1963,
           1965,
           1968,
           1969,
           1969,
           1969,
           1966,
           1968,
           1962,
           1969,
           1962,
           1968,
           1968,
           1968,
           1965,
           1968,
           1968,
           1967,
           1967,
           1966,
           1967,
           1969,
           1966,
           1969,
           1966,
           1965,
           1964,
           1963,
           1964,
           1965,
           1965,
           1966,
           1969,
           1965,
           1965,
           1964,
           1964,
           1966,
           1968,
           1968,
           1968,
           1967,
           1967,
           1965,
           1966,
           1968,
           1965,
           1964,
           1967,
           1965,
           1969,
           1965,
           1967,
           1965,
           1965
          ]
         },
         "mode": "markers",
         "text": [
          "Across the Universe",
          "All I've Got to Do",
          "All My Loving",
          "All You Need Is Love",
          "And I Love Her",
          "And Your Bird Can Sing",
          "Another Girl",
          "Any Time at All",
          "Ask Me Why",
          "Baby, You're a Rich Man",
          "Baby's in Black",
          "Back in the U.S.S.R.",
          "Because",
          "Being for the Benefit of Mr. Kite!",
          "Birthday",
          "Blackbird",
          "Blue Jay Way",
          "Can't Buy Me Love",
          "Carry That Weight",
          "Come Together",
          "The Continuing Story of Bungalow Bill",
          "Cry Baby Cry",
          "A Day in the Life",
          "Dear Prudence",
          "Dig a Pony",
          "Dig It",
          "Doctor Robert",
          "Don't Bother Me",
          "Don't Pass Me By",
          "Drive My Car",
          "Eight Days a Week",
          "Eleanor Rigby",
          "The End",
          "Every Little Thing",
          "Everybody's Got Something to Hide Except Me and My Monkey",
          "Fixing a Hole",
          "The Fool on the Hill",
          "For No One",
          "For You Blue",
          "Get Back",
          "Getting Better",
          "Girl",
          "Glass Onion",
          "Golden Slumbers",
          "Good Day Sunshine",
          "Good Morning Good Morning",
          "Good Night",
          "Happiness Is a Warm Gun",
          "A Hard Day's Night",
          "Hello, Goodbye",
          "Help!",
          "Helter Skelter",
          "Her Majesty",
          "Here Comes the Sun",
          "Here, There and Everywhere",
          "Hold Me Tight",
          "Honey Pie",
          "I Am the Walrus",
          "I Don't Want to Spoil the Party",
          "I Me Mine",
          "I Need You",
          "I Saw Her Standing There",
          "I Should Have Known Better",
          "I Wanna Be Your Man",
          "I Want to Tell You",
          "I Want You (She's So Heavy)",
          "I Will",
          "If I Fell",
          "If I Needed Someone",
          "I'll Be Back",
          "I'll Cry Instead",
          "I'll Follow the Sun",
          "I'm a Loser",
          "I'm Happy Just to Dance with You",
          "I'm Looking Through You",
          "I'm Only Sleeping",
          "I'm So Tired",
          "In My Life",
          "It Won't Be Long",
          "It's Only Love",
          "I've Got a Feeling",
          "I've Just Seen a Face",
          "Julia",
          "Let It Be",
          "Little Child",
          "The Long and Winding Road",
          "Long, Long, Long",
          "Love You To",
          "Lovely Rita",
          "Lucy in the Sky with Diamonds",
          "Magical Mystery Tour",
          "Martha My Dear",
          "Maxwell's Silver Hammer",
          "Mean Mr. Mustard",
          "Michelle",
          "Misery",
          "Mother Nature's Son",
          "The Night Before",
          "No Reply",
          "Norwegian Wood (This Bird Has Flown)",
          "Not a Second Time",
          "Nowhere Man",
          "Ob-La-Di, Ob-La-Da",
          "Octopus's Garden",
          "Oh! Darling",
          "One After 909",
          "Penny Lane",
          "Piggies",
          "Please Please Me",
          "Polythene Pam",
          "P.S. I Love You",
          "Revolution 1",
          "Revolution 9",
          "Rocky Raccoon",
          "Run for Your Life",
          "Savoy Truffle",
          "Sexy Sadie",
          "Sgt. Pepper's Lonely Hearts Club Band",
          "Sgt. Pepper's Lonely Hearts Club Band (Reprise)",
          "She Said She Said",
          "She's Leaving Home",
          "Something",
          "Strawberry Fields Forever",
          "Sun King",
          "Taxman",
          "Tell Me What You See",
          "Tell Me Why",
          "There's a Place",
          "Things We Said Today",
          "Think for Yourself",
          "Ticket to Ride",
          "Tomorrow Never Knows",
          "Two of Us",
          "Wait",
          "What Goes On",
          "What You're Doing",
          "When I Get Home",
          "When I'm Sixty-Four",
          "While My Guitar Gently Weeps",
          "Why Don't We Do It in the Road?",
          "Wild Honey Pie",
          "With a Little Help from My Friends",
          "Within You Without You",
          "The Word",
          "Yellow Submarine",
          "Yer Blues",
          "Yesterday",
          "You Can't Do That",
          "You Know My Name (Look Up the Number)",
          "You Like Me Too Much",
          "You Never Give Me Your Money",
          "You Won't See Me",
          "Your Mother Should Know",
          "You're Going to Lose That Girl",
          "You've Got to Hide Your Love Away"
         ],
         "type": "scatter",
         "x": [
          0.11,
          0.214,
          0.353,
          0.535,
          0.483,
          0.051,
          0.186,
          0.052,
          0.223,
          0.273,
          0.118,
          0.126,
          0.221,
          0.123,
          0.336,
          0.024,
          0.214,
          0.095,
          0,
          0.045,
          0.027,
          0.137,
          0.112,
          0.339,
          0.284,
          0.155,
          0.341,
          0.105,
          0.139,
          0.266,
          0.429,
          0.039,
          0.695,
          0.267,
          0,
          0.015,
          0.074,
          0.133,
          0.439,
          0.057,
          0.488,
          0.141,
          0.096,
          0.335,
          0.614,
          0.457,
          0.531,
          0.265,
          0.198,
          0.029,
          0.254,
          0.256,
          0.375,
          0.195,
          0.297,
          0.114,
          0.133,
          0.065,
          0.19,
          0.089,
          0.097,
          0.05,
          0.239,
          0.297,
          0.079,
          0.157,
          0.231,
          0.399,
          0.145,
          0.136,
          0.19,
          0.148,
          0.17,
          0.231,
          0.074,
          0.197,
          0.099,
          0.207,
          0.132,
          0.325,
          0.38,
          0.1,
          0.262,
          0.121,
          0.098,
          0.01,
          0.251,
          0.178,
          0.205,
          0.017,
          0,
          0.321,
          0.077,
          0.053,
          0.171,
          0.047,
          0.067,
          0.364,
          0.133,
          0.033,
          0.034,
          0.032,
          0.131,
          0.149,
          0.2,
          0.026,
          0.088,
          0.092,
          0.292,
          0.36,
          0.399,
          0.33,
          0.246,
          0.078,
          0.093,
          0.124,
          0.264,
          0.199,
          0.099,
          0.107,
          0.114,
          0.174,
          0.057,
          0.154,
          0,
          0.071,
          0.069,
          0.062,
          0.275,
          0.056,
          0.043,
          0.111,
          0.022,
          0.148,
          0.115,
          0.138,
          0.073,
          0.047,
          0.273,
          0,
          0.181,
          0.365,
          0.17,
          0.404,
          0.055,
          0.143,
          0.139,
          0,
          0.116,
          0.276,
          0.199,
          0.067,
          0,
          0.14,
          0.212
         ],
         "y": [
          0.04,
          0,
          0.046,
          0.01,
          0,
          0.037,
          0.056,
          0.065,
          0.077,
          0,
          0.033,
          0.055,
          0.041,
          0.025,
          0,
          0.136,
          0.028,
          0.288,
          0,
          0.056,
          0.284,
          0.299,
          0.027,
          0.015,
          0,
          0,
          0.011,
          0.147,
          0.172,
          0.012,
          0,
          0.188,
          0,
          0.015,
          0.044,
          0.12,
          0.13,
          0.153,
          0.014,
          0.008,
          0.037,
          0.073,
          0.056,
          0,
          0,
          0.024,
          0,
          0.123,
          0.068,
          0.106,
          0.091,
          0.027,
          0,
          0.014,
          0.043,
          0.022,
          0.121,
          0.125,
          0.169,
          0.099,
          0.136,
          0,
          0.023,
          0.077,
          0.055,
          0.393,
          0.012,
          0.064,
          0.019,
          0.072,
          0.095,
          0.05,
          0.205,
          0.031,
          0.121,
          0,
          0.246,
          0.165,
          0.035,
          0.074,
          0.049,
          0.152,
          0.015,
          0.04,
          0.14,
          0.066,
          0.104,
          0.056,
          0,
          0,
          0,
          0,
          0.17,
          0.11,
          0,
          0.286,
          0.039,
          0,
          0.173,
          0.09,
          0.333,
          0.1,
          0,
          0.045,
          0.206,
          0.069,
          0.037,
          0.127,
          0,
          0.024,
          0,
          0.032,
          0.06,
          0.059,
          0.148,
          0.035,
          0.065,
          0.131,
          0.315,
          0.21,
          0,
          0.061,
          0.098,
          0,
          0,
          0.035,
          0.259,
          0.217,
          0.036,
          0.05,
          0.181,
          0.062,
          0.007,
          0.138,
          0.092,
          0.125,
          0.036,
          0.056,
          0.081,
          0.051,
          0,
          0,
          0.044,
          0.022,
          0.023,
          0.29,
          0.091,
          0.127,
          0,
          0.059,
          0.029,
          0.169,
          0,
          0.149,
          0.086
         ]
        }
       ],
       "layout": {
        "template": {
         "data": {
          "bar": [
           {
            "error_x": {
             "color": "#2a3f5f"
            },
            "error_y": {
             "color": "#2a3f5f"
            },
            "marker": {
             "line": {
              "color": "#E5ECF6",
              "width": 0.5
             }
            },
            "type": "bar"
           }
          ],
          "barpolar": [
           {
            "marker": {
             "line": {
              "color": "#E5ECF6",
              "width": 0.5
             }
            },
            "type": "barpolar"
           }
          ],
          "carpet": [
           {
            "aaxis": {
             "endlinecolor": "#2a3f5f",
             "gridcolor": "white",
             "linecolor": "white",
             "minorgridcolor": "white",
             "startlinecolor": "#2a3f5f"
            },
            "baxis": {
             "endlinecolor": "#2a3f5f",
             "gridcolor": "white",
             "linecolor": "white",
             "minorgridcolor": "white",
             "startlinecolor": "#2a3f5f"
            },
            "type": "carpet"
           }
          ],
          "choropleth": [
           {
            "colorbar": {
             "outlinewidth": 0,
             "ticks": ""
            },
            "type": "choropleth"
           }
          ],
          "contour": [
           {
            "colorbar": {
             "outlinewidth": 0,
             "ticks": ""
            },
            "colorscale": [
             [
              0,
              "#0d0887"
             ],
             [
              0.1111111111111111,
              "#46039f"
             ],
             [
              0.2222222222222222,
              "#7201a8"
             ],
             [
              0.3333333333333333,
              "#9c179e"
             ],
             [
              0.4444444444444444,
              "#bd3786"
             ],
             [
              0.5555555555555556,
              "#d8576b"
             ],
             [
              0.6666666666666666,
              "#ed7953"
             ],
             [
              0.7777777777777778,
              "#fb9f3a"
             ],
             [
              0.8888888888888888,
              "#fdca26"
             ],
             [
              1,
              "#f0f921"
             ]
            ],
            "type": "contour"
           }
          ],
          "contourcarpet": [
           {
            "colorbar": {
             "outlinewidth": 0,
             "ticks": ""
            },
            "type": "contourcarpet"
           }
          ],
          "heatmap": [
           {
            "colorbar": {
             "outlinewidth": 0,
             "ticks": ""
            },
            "colorscale": [
             [
              0,
              "#0d0887"
             ],
             [
              0.1111111111111111,
              "#46039f"
             ],
             [
              0.2222222222222222,
              "#7201a8"
             ],
             [
              0.3333333333333333,
              "#9c179e"
             ],
             [
              0.4444444444444444,
              "#bd3786"
             ],
             [
              0.5555555555555556,
              "#d8576b"
             ],
             [
              0.6666666666666666,
              "#ed7953"
             ],
             [
              0.7777777777777778,
              "#fb9f3a"
             ],
             [
              0.8888888888888888,
              "#fdca26"
             ],
             [
              1,
              "#f0f921"
             ]
            ],
            "type": "heatmap"
           }
          ],
          "heatmapgl": [
           {
            "colorbar": {
             "outlinewidth": 0,
             "ticks": ""
            },
            "colorscale": [
             [
              0,
              "#0d0887"
             ],
             [
              0.1111111111111111,
              "#46039f"
             ],
             [
              0.2222222222222222,
              "#7201a8"
             ],
             [
              0.3333333333333333,
              "#9c179e"
             ],
             [
              0.4444444444444444,
              "#bd3786"
             ],
             [
              0.5555555555555556,
              "#d8576b"
             ],
             [
              0.6666666666666666,
              "#ed7953"
             ],
             [
              0.7777777777777778,
              "#fb9f3a"
             ],
             [
              0.8888888888888888,
              "#fdca26"
             ],
             [
              1,
              "#f0f921"
             ]
            ],
            "type": "heatmapgl"
           }
          ],
          "histogram": [
           {
            "marker": {
             "colorbar": {
              "outlinewidth": 0,
              "ticks": ""
             }
            },
            "type": "histogram"
           }
          ],
          "histogram2d": [
           {
            "colorbar": {
             "outlinewidth": 0,
             "ticks": ""
            },
            "colorscale": [
             [
              0,
              "#0d0887"
             ],
             [
              0.1111111111111111,
              "#46039f"
             ],
             [
              0.2222222222222222,
              "#7201a8"
             ],
             [
              0.3333333333333333,
              "#9c179e"
             ],
             [
              0.4444444444444444,
              "#bd3786"
             ],
             [
              0.5555555555555556,
              "#d8576b"
             ],
             [
              0.6666666666666666,
              "#ed7953"
             ],
             [
              0.7777777777777778,
              "#fb9f3a"
             ],
             [
              0.8888888888888888,
              "#fdca26"
             ],
             [
              1,
              "#f0f921"
             ]
            ],
            "type": "histogram2d"
           }
          ],
          "histogram2dcontour": [
           {
            "colorbar": {
             "outlinewidth": 0,
             "ticks": ""
            },
            "colorscale": [
             [
              0,
              "#0d0887"
             ],
             [
              0.1111111111111111,
              "#46039f"
             ],
             [
              0.2222222222222222,
              "#7201a8"
             ],
             [
              0.3333333333333333,
              "#9c179e"
             ],
             [
              0.4444444444444444,
              "#bd3786"
             ],
             [
              0.5555555555555556,
              "#d8576b"
             ],
             [
              0.6666666666666666,
              "#ed7953"
             ],
             [
              0.7777777777777778,
              "#fb9f3a"
             ],
             [
              0.8888888888888888,
              "#fdca26"
             ],
             [
              1,
              "#f0f921"
             ]
            ],
            "type": "histogram2dcontour"
           }
          ],
          "mesh3d": [
           {
            "colorbar": {
             "outlinewidth": 0,
             "ticks": ""
            },
            "type": "mesh3d"
           }
          ],
          "parcoords": [
           {
            "line": {
             "colorbar": {
              "outlinewidth": 0,
              "ticks": ""
             }
            },
            "type": "parcoords"
           }
          ],
          "pie": [
           {
            "automargin": true,
            "type": "pie"
           }
          ],
          "scatter": [
           {
            "marker": {
             "colorbar": {
              "outlinewidth": 0,
              "ticks": ""
             }
            },
            "type": "scatter"
           }
          ],
          "scatter3d": [
           {
            "line": {
             "colorbar": {
              "outlinewidth": 0,
              "ticks": ""
             }
            },
            "marker": {
             "colorbar": {
              "outlinewidth": 0,
              "ticks": ""
             }
            },
            "type": "scatter3d"
           }
          ],
          "scattercarpet": [
           {
            "marker": {
             "colorbar": {
              "outlinewidth": 0,
              "ticks": ""
             }
            },
            "type": "scattercarpet"
           }
          ],
          "scattergeo": [
           {
            "marker": {
             "colorbar": {
              "outlinewidth": 0,
              "ticks": ""
             }
            },
            "type": "scattergeo"
           }
          ],
          "scattergl": [
           {
            "marker": {
             "colorbar": {
              "outlinewidth": 0,
              "ticks": ""
             }
            },
            "type": "scattergl"
           }
          ],
          "scattermapbox": [
           {
            "marker": {
             "colorbar": {
              "outlinewidth": 0,
              "ticks": ""
             }
            },
            "type": "scattermapbox"
           }
          ],
          "scatterpolar": [
           {
            "marker": {
             "colorbar": {
              "outlinewidth": 0,
              "ticks": ""
             }
            },
            "type": "scatterpolar"
           }
          ],
          "scatterpolargl": [
           {
            "marker": {
             "colorbar": {
              "outlinewidth": 0,
              "ticks": ""
             }
            },
            "type": "scatterpolargl"
           }
          ],
          "scatterternary": [
           {
            "marker": {
             "colorbar": {
              "outlinewidth": 0,
              "ticks": ""
             }
            },
            "type": "scatterternary"
           }
          ],
          "surface": [
           {
            "colorbar": {
             "outlinewidth": 0,
             "ticks": ""
            },
            "colorscale": [
             [
              0,
              "#0d0887"
             ],
             [
              0.1111111111111111,
              "#46039f"
             ],
             [
              0.2222222222222222,
              "#7201a8"
             ],
             [
              0.3333333333333333,
              "#9c179e"
             ],
             [
              0.4444444444444444,
              "#bd3786"
             ],
             [
              0.5555555555555556,
              "#d8576b"
             ],
             [
              0.6666666666666666,
              "#ed7953"
             ],
             [
              0.7777777777777778,
              "#fb9f3a"
             ],
             [
              0.8888888888888888,
              "#fdca26"
             ],
             [
              1,
              "#f0f921"
             ]
            ],
            "type": "surface"
           }
          ],
          "table": [
           {
            "cells": {
             "fill": {
              "color": "#EBF0F8"
             },
             "line": {
              "color": "white"
             }
            },
            "header": {
             "fill": {
              "color": "#C8D4E3"
             },
             "line": {
              "color": "white"
             }
            },
            "type": "table"
           }
          ]
         },
         "layout": {
          "annotationdefaults": {
           "arrowcolor": "#2a3f5f",
           "arrowhead": 0,
           "arrowwidth": 1
          },
          "coloraxis": {
           "colorbar": {
            "outlinewidth": 0,
            "ticks": ""
           }
          },
          "colorscale": {
           "diverging": [
            [
             0,
             "#8e0152"
            ],
            [
             0.1,
             "#c51b7d"
            ],
            [
             0.2,
             "#de77ae"
            ],
            [
             0.3,
             "#f1b6da"
            ],
            [
             0.4,
             "#fde0ef"
            ],
            [
             0.5,
             "#f7f7f7"
            ],
            [
             0.6,
             "#e6f5d0"
            ],
            [
             0.7,
             "#b8e186"
            ],
            [
             0.8,
             "#7fbc41"
            ],
            [
             0.9,
             "#4d9221"
            ],
            [
             1,
             "#276419"
            ]
           ],
           "sequential": [
            [
             0,
             "#0d0887"
            ],
            [
             0.1111111111111111,
             "#46039f"
            ],
            [
             0.2222222222222222,
             "#7201a8"
            ],
            [
             0.3333333333333333,
             "#9c179e"
            ],
            [
             0.4444444444444444,
             "#bd3786"
            ],
            [
             0.5555555555555556,
             "#d8576b"
            ],
            [
             0.6666666666666666,
             "#ed7953"
            ],
            [
             0.7777777777777778,
             "#fb9f3a"
            ],
            [
             0.8888888888888888,
             "#fdca26"
            ],
            [
             1,
             "#f0f921"
            ]
           ],
           "sequentialminus": [
            [
             0,
             "#0d0887"
            ],
            [
             0.1111111111111111,
             "#46039f"
            ],
            [
             0.2222222222222222,
             "#7201a8"
            ],
            [
             0.3333333333333333,
             "#9c179e"
            ],
            [
             0.4444444444444444,
             "#bd3786"
            ],
            [
             0.5555555555555556,
             "#d8576b"
            ],
            [
             0.6666666666666666,
             "#ed7953"
            ],
            [
             0.7777777777777778,
             "#fb9f3a"
            ],
            [
             0.8888888888888888,
             "#fdca26"
            ],
            [
             1,
             "#f0f921"
            ]
           ]
          },
          "colorway": [
           "#636efa",
           "#EF553B",
           "#00cc96",
           "#ab63fa",
           "#FFA15A",
           "#19d3f3",
           "#FF6692",
           "#B6E880",
           "#FF97FF",
           "#FECB52"
          ],
          "font": {
           "color": "#2a3f5f"
          },
          "geo": {
           "bgcolor": "white",
           "lakecolor": "white",
           "landcolor": "#E5ECF6",
           "showlakes": true,
           "showland": true,
           "subunitcolor": "white"
          },
          "hoverlabel": {
           "align": "left"
          },
          "hovermode": "closest",
          "mapbox": {
           "style": "light"
          },
          "paper_bgcolor": "white",
          "plot_bgcolor": "#E5ECF6",
          "polar": {
           "angularaxis": {
            "gridcolor": "white",
            "linecolor": "white",
            "ticks": ""
           },
           "bgcolor": "#E5ECF6",
           "radialaxis": {
            "gridcolor": "white",
            "linecolor": "white",
            "ticks": ""
           }
          },
          "scene": {
           "xaxis": {
            "backgroundcolor": "#E5ECF6",
            "gridcolor": "white",
            "gridwidth": 2,
            "linecolor": "white",
            "showbackground": true,
            "ticks": "",
            "zerolinecolor": "white"
           },
           "yaxis": {
            "backgroundcolor": "#E5ECF6",
            "gridcolor": "white",
            "gridwidth": 2,
            "linecolor": "white",
            "showbackground": true,
            "ticks": "",
            "zerolinecolor": "white"
           },
           "zaxis": {
            "backgroundcolor": "#E5ECF6",
            "gridcolor": "white",
            "gridwidth": 2,
            "linecolor": "white",
            "showbackground": true,
            "ticks": "",
            "zerolinecolor": "white"
           }
          },
          "shapedefaults": {
           "line": {
            "color": "#2a3f5f"
           }
          },
          "ternary": {
           "aaxis": {
            "gridcolor": "white",
            "linecolor": "white",
            "ticks": ""
           },
           "baxis": {
            "gridcolor": "white",
            "linecolor": "white",
            "ticks": ""
           },
           "bgcolor": "#E5ECF6",
           "caxis": {
            "gridcolor": "white",
            "linecolor": "white",
            "ticks": ""
           }
          },
          "title": {
           "x": 0.05
          },
          "xaxis": {
           "automargin": true,
           "gridcolor": "white",
           "linecolor": "white",
           "ticks": "",
           "title": {
            "standoff": 15
           },
           "zerolinecolor": "white",
           "zerolinewidth": 2
          },
          "yaxis": {
           "automargin": true,
           "gridcolor": "white",
           "linecolor": "white",
           "ticks": "",
           "title": {
            "standoff": 15
           },
           "zerolinecolor": "white",
           "zerolinewidth": 2
          }
         }
        },
        "title": {
         "text": "Beatles Positive v. Negative Score"
        },
        "xaxis": {
         "title": {
          "text": "positive"
         }
        },
        "yaxis": {
         "title": {
          "text": "negative"
         }
        }
       }
      },
      "text/html": [
       "<div>\n",
       "        \n",
       "        \n",
       "            <div id=\"b0f9e5f7-f105-48aa-a6f5-f3f13219b967\" class=\"plotly-graph-div\" style=\"height:525px; width:100%;\"></div>\n",
       "            <script type=\"text/javascript\">\n",
       "                require([\"plotly\"], function(Plotly) {\n",
       "                    window.PLOTLYENV=window.PLOTLYENV || {};\n",
       "                    \n",
       "                if (document.getElementById(\"b0f9e5f7-f105-48aa-a6f5-f3f13219b967\")) {\n",
       "                    Plotly.newPlot(\n",
       "                        'b0f9e5f7-f105-48aa-a6f5-f3f13219b967',\n",
       "                        [{\"marker\": {\"color\": [1968, 1963, 1963, 1967, 1964, 1966, 1965, 1964, 1963, 1967, 1964, 1968, 1969, 1967, 1968, 1968, 1967, 1964, 1969, 1969, 1968, 1968, 1967, 1968, 1969, 1969, 1966, 1963, 1968, 1965, 1964, 1966, 1969, 1964, 1968, 1967, 1967, 1966, 1969, 1969, 1967, 1965, 1968, 1969, 1966, 1967, 1968, 1968, 1964, 1967, 1965, 1968, 1969, 1969, 1966, 1963, 1968, 1967, 1964, 1970, 1965, 1963, 1964, 1963, 1966, 1969, 1968, 1964, 1965, 1964, 1964, 1964, 1964, 1964, 1965, 1966, 1968, 1965, 1963, 1965, 1969, 1965, 1968, 1969, 1963, 1969, 1968, 1966, 1967, 1967, 1967, 1968, 1969, 1969, 1965, 1963, 1968, 1965, 1964, 1965, 1963, 1965, 1968, 1969, 1969, 1969, 1966, 1968, 1962, 1969, 1962, 1968, 1968, 1968, 1965, 1968, 1968, 1967, 1967, 1966, 1967, 1969, 1966, 1969, 1966, 1965, 1964, 1963, 1964, 1965, 1965, 1966, 1969, 1965, 1965, 1964, 1964, 1966, 1968, 1968, 1968, 1967, 1967, 1965, 1966, 1968, 1965, 1964, 1967, 1965, 1969, 1965, 1967, 1965, 1965]}, \"mode\": \"markers\", \"text\": [\"Across the Universe\", \"All I've Got to Do\", \"All My Loving\", \"All You Need Is Love\", \"And I Love Her\", \"And Your Bird Can Sing\", \"Another Girl\", \"Any Time at All\", \"Ask Me Why\", \"Baby, You're a Rich Man\", \"Baby's in Black\", \"Back in the U.S.S.R.\", \"Because\", \"Being for the Benefit of Mr. Kite!\", \"Birthday\", \"Blackbird\", \"Blue Jay Way\", \"Can't Buy Me Love\", \"Carry That Weight\", \"Come Together\", \"The Continuing Story of Bungalow Bill\", \"Cry Baby Cry\", \"A Day in the Life\", \"Dear Prudence\", \"Dig a Pony\", \"Dig It\", \"Doctor Robert\", \"Don't Bother Me\", \"Don't Pass Me By\", \"Drive My Car\", \"Eight Days a Week\", \"Eleanor Rigby\", \"The End\", \"Every Little Thing\", \"Everybody's Got Something to Hide Except Me and My Monkey\", \"Fixing a Hole\", \"The Fool on the Hill\", \"For No One\", \"For You Blue\", \"Get Back\", \"Getting Better\", \"Girl\", \"Glass Onion\", \"Golden Slumbers\", \"Good Day Sunshine\", \"Good Morning Good Morning\", \"Good Night\", \"Happiness Is a Warm Gun\", \"A Hard Day's Night\", \"Hello, Goodbye\", \"Help!\", \"Helter Skelter\", \"Her Majesty\", \"Here Comes the Sun\", \"Here, There and Everywhere\", \"Hold Me Tight\", \"Honey Pie\", \"I Am the Walrus\", \"I Don't Want to Spoil the Party\", \"I Me Mine\", \"I Need You\", \"I Saw Her Standing There\", \"I Should Have Known Better\", \"I Wanna Be Your Man\", \"I Want to Tell You\", \"I Want You (She's So Heavy)\", \"I Will\", \"If I Fell\", \"If I Needed Someone\", \"I'll Be Back\", \"I'll Cry Instead\", \"I'll Follow the Sun\", \"I'm a Loser\", \"I'm Happy Just to Dance with You\", \"I'm Looking Through You\", \"I'm Only Sleeping\", \"I'm So Tired\", \"In My Life\", \"It Won't Be Long\", \"It's Only Love\", \"I've Got a Feeling\", \"I've Just Seen a Face\", \"Julia\", \"Let It Be\", \"Little Child\", \"The Long and Winding Road\", \"Long, Long, Long\", \"Love You To\", \"Lovely Rita\", \"Lucy in the Sky with Diamonds\", \"Magical Mystery Tour\", \"Martha My Dear\", \"Maxwell's Silver Hammer\", \"Mean Mr. Mustard\", \"Michelle\", \"Misery\", \"Mother Nature's Son\", \"The Night Before\", \"No Reply\", \"Norwegian Wood (This Bird Has Flown)\", \"Not a Second Time\", \"Nowhere Man\", \"Ob-La-Di, Ob-La-Da\", \"Octopus's Garden\", \"Oh! Darling\", \"One After 909\", \"Penny Lane\", \"Piggies\", \"Please Please Me\", \"Polythene Pam\", \"P.S. I Love You\", \"Revolution 1\", \"Revolution 9\", \"Rocky Raccoon\", \"Run for Your Life\", \"Savoy Truffle\", \"Sexy Sadie\", \"Sgt. Pepper's Lonely Hearts Club Band\", \"Sgt. Pepper's Lonely Hearts Club Band (Reprise)\", \"She Said She Said\", \"She's Leaving Home\", \"Something\", \"Strawberry Fields Forever\", \"Sun King\", \"Taxman\", \"Tell Me What You See\", \"Tell Me Why\", \"There's a Place\", \"Things We Said Today\", \"Think for Yourself\", \"Ticket to Ride\", \"Tomorrow Never Knows\", \"Two of Us\", \"Wait\", \"What Goes On\", \"What You're Doing\", \"When I Get Home\", \"When I'm Sixty-Four\", \"While My Guitar Gently Weeps\", \"Why Don't We Do It in the Road?\", \"Wild Honey Pie\", \"With a Little Help from My Friends\", \"Within You Without You\", \"The Word\", \"Yellow Submarine\", \"Yer Blues\", \"Yesterday\", \"You Can't Do That\", \"You Know My Name (Look Up the Number)\", \"You Like Me Too Much\", \"You Never Give Me Your Money\", \"You Won't See Me\", \"Your Mother Should Know\", \"You're Going to Lose That Girl\", \"You've Got to Hide Your Love Away\"], \"type\": \"scatter\", \"x\": [0.11, 0.214, 0.353, 0.535, 0.483, 0.051, 0.186, 0.052, 0.223, 0.273, 0.118, 0.126, 0.221, 0.123, 0.336, 0.024, 0.214, 0.095, 0.0, 0.045, 0.027, 0.137, 0.112, 0.339, 0.284, 0.155, 0.341, 0.105, 0.139, 0.266, 0.429, 0.039, 0.695, 0.267, 0.0, 0.015, 0.074, 0.133, 0.439, 0.057, 0.488, 0.141, 0.096, 0.335, 0.614, 0.457, 0.531, 0.265, 0.198, 0.029, 0.254, 0.256, 0.375, 0.195, 0.297, 0.114, 0.133, 0.065, 0.19, 0.089, 0.097, 0.05, 0.239, 0.297, 0.079, 0.157, 0.231, 0.399, 0.145, 0.136, 0.19, 0.148, 0.17, 0.231, 0.074, 0.197, 0.099, 0.207, 0.132, 0.325, 0.38, 0.1, 0.262, 0.121, 0.098, 0.01, 0.251, 0.178, 0.205, 0.017, 0.0, 0.321, 0.077, 0.053, 0.171, 0.047, 0.067, 0.364, 0.133, 0.033, 0.034, 0.032, 0.131, 0.149, 0.2, 0.026, 0.088, 0.092, 0.292, 0.36, 0.399, 0.33, 0.246, 0.078, 0.093, 0.124, 0.264, 0.199, 0.099, 0.107, 0.114, 0.174, 0.057, 0.154, 0.0, 0.071, 0.069, 0.062, 0.275, 0.056, 0.043, 0.111, 0.022, 0.148, 0.115, 0.138, 0.073, 0.047, 0.273, 0.0, 0.181, 0.365, 0.17, 0.404, 0.055, 0.143, 0.139, 0.0, 0.116, 0.276, 0.199, 0.067, 0.0, 0.14, 0.212], \"y\": [0.04, 0.0, 0.046, 0.01, 0.0, 0.037, 0.056, 0.065, 0.077, 0.0, 0.033, 0.055, 0.041, 0.025, 0.0, 0.136, 0.028, 0.288, 0.0, 0.056, 0.284, 0.299, 0.027, 0.015, 0.0, 0.0, 0.011, 0.147, 0.172, 0.012, 0.0, 0.188, 0.0, 0.015, 0.044, 0.12, 0.13, 0.153, 0.014, 0.008, 0.037, 0.073, 0.056, 0.0, 0.0, 0.024, 0.0, 0.123, 0.068, 0.106, 0.091, 0.027, 0.0, 0.014, 0.043, 0.022, 0.121, 0.125, 0.169, 0.099, 0.136, 0.0, 0.023, 0.077, 0.055, 0.393, 0.012, 0.064, 0.019, 0.072, 0.095, 0.05, 0.205, 0.031, 0.121, 0.0, 0.246, 0.165, 0.035, 0.074, 0.049, 0.152, 0.015, 0.04, 0.14, 0.066, 0.104, 0.056, 0.0, 0.0, 0.0, 0.0, 0.17, 0.11, 0.0, 0.286, 0.039, 0.0, 0.173, 0.09, 0.333, 0.1, 0.0, 0.045, 0.206, 0.069, 0.037, 0.127, 0.0, 0.024, 0.0, 0.032, 0.06, 0.059, 0.148, 0.035, 0.065, 0.131, 0.315, 0.21, 0.0, 0.061, 0.098, 0.0, 0.0, 0.035, 0.259, 0.217, 0.036, 0.05, 0.181, 0.062, 0.007, 0.138, 0.092, 0.125, 0.036, 0.056, 0.081, 0.051, 0.0, 0.0, 0.044, 0.022, 0.023, 0.29, 0.091, 0.127, 0.0, 0.059, 0.029, 0.169, 0.0, 0.149, 0.086]}],\n",
       "                        {\"template\": {\"data\": {\"bar\": [{\"error_x\": {\"color\": \"#2a3f5f\"}, \"error_y\": {\"color\": \"#2a3f5f\"}, \"marker\": {\"line\": {\"color\": \"#E5ECF6\", \"width\": 0.5}}, \"type\": \"bar\"}], \"barpolar\": [{\"marker\": {\"line\": {\"color\": \"#E5ECF6\", \"width\": 0.5}}, \"type\": \"barpolar\"}], \"carpet\": [{\"aaxis\": {\"endlinecolor\": \"#2a3f5f\", \"gridcolor\": \"white\", \"linecolor\": \"white\", \"minorgridcolor\": \"white\", \"startlinecolor\": \"#2a3f5f\"}, \"baxis\": {\"endlinecolor\": \"#2a3f5f\", \"gridcolor\": \"white\", \"linecolor\": \"white\", \"minorgridcolor\": \"white\", \"startlinecolor\": \"#2a3f5f\"}, \"type\": \"carpet\"}], \"choropleth\": [{\"colorbar\": {\"outlinewidth\": 0, \"ticks\": \"\"}, \"type\": \"choropleth\"}], \"contour\": [{\"colorbar\": {\"outlinewidth\": 0, \"ticks\": \"\"}, \"colorscale\": [[0.0, \"#0d0887\"], [0.1111111111111111, \"#46039f\"], [0.2222222222222222, \"#7201a8\"], [0.3333333333333333, \"#9c179e\"], [0.4444444444444444, \"#bd3786\"], [0.5555555555555556, \"#d8576b\"], [0.6666666666666666, \"#ed7953\"], [0.7777777777777778, \"#fb9f3a\"], [0.8888888888888888, \"#fdca26\"], [1.0, \"#f0f921\"]], \"type\": \"contour\"}], \"contourcarpet\": [{\"colorbar\": {\"outlinewidth\": 0, \"ticks\": \"\"}, \"type\": \"contourcarpet\"}], \"heatmap\": [{\"colorbar\": {\"outlinewidth\": 0, \"ticks\": \"\"}, \"colorscale\": [[0.0, \"#0d0887\"], [0.1111111111111111, \"#46039f\"], [0.2222222222222222, \"#7201a8\"], [0.3333333333333333, \"#9c179e\"], [0.4444444444444444, \"#bd3786\"], [0.5555555555555556, \"#d8576b\"], [0.6666666666666666, \"#ed7953\"], [0.7777777777777778, \"#fb9f3a\"], [0.8888888888888888, \"#fdca26\"], [1.0, \"#f0f921\"]], \"type\": \"heatmap\"}], \"heatmapgl\": [{\"colorbar\": {\"outlinewidth\": 0, \"ticks\": \"\"}, \"colorscale\": [[0.0, \"#0d0887\"], [0.1111111111111111, \"#46039f\"], [0.2222222222222222, \"#7201a8\"], [0.3333333333333333, \"#9c179e\"], [0.4444444444444444, \"#bd3786\"], [0.5555555555555556, \"#d8576b\"], [0.6666666666666666, \"#ed7953\"], [0.7777777777777778, \"#fb9f3a\"], [0.8888888888888888, \"#fdca26\"], [1.0, \"#f0f921\"]], \"type\": \"heatmapgl\"}], \"histogram\": [{\"marker\": {\"colorbar\": {\"outlinewidth\": 0, \"ticks\": \"\"}}, \"type\": \"histogram\"}], \"histogram2d\": [{\"colorbar\": {\"outlinewidth\": 0, \"ticks\": \"\"}, \"colorscale\": [[0.0, \"#0d0887\"], [0.1111111111111111, \"#46039f\"], [0.2222222222222222, \"#7201a8\"], [0.3333333333333333, \"#9c179e\"], [0.4444444444444444, \"#bd3786\"], [0.5555555555555556, \"#d8576b\"], [0.6666666666666666, \"#ed7953\"], [0.7777777777777778, \"#fb9f3a\"], [0.8888888888888888, \"#fdca26\"], [1.0, \"#f0f921\"]], \"type\": \"histogram2d\"}], \"histogram2dcontour\": [{\"colorbar\": {\"outlinewidth\": 0, \"ticks\": \"\"}, \"colorscale\": [[0.0, \"#0d0887\"], [0.1111111111111111, \"#46039f\"], [0.2222222222222222, \"#7201a8\"], [0.3333333333333333, \"#9c179e\"], [0.4444444444444444, \"#bd3786\"], [0.5555555555555556, \"#d8576b\"], [0.6666666666666666, \"#ed7953\"], [0.7777777777777778, \"#fb9f3a\"], [0.8888888888888888, \"#fdca26\"], [1.0, \"#f0f921\"]], \"type\": \"histogram2dcontour\"}], \"mesh3d\": [{\"colorbar\": {\"outlinewidth\": 0, \"ticks\": \"\"}, \"type\": \"mesh3d\"}], \"parcoords\": [{\"line\": {\"colorbar\": {\"outlinewidth\": 0, \"ticks\": \"\"}}, \"type\": \"parcoords\"}], \"pie\": [{\"automargin\": true, \"type\": \"pie\"}], \"scatter\": [{\"marker\": {\"colorbar\": {\"outlinewidth\": 0, \"ticks\": \"\"}}, \"type\": \"scatter\"}], \"scatter3d\": [{\"line\": {\"colorbar\": {\"outlinewidth\": 0, \"ticks\": \"\"}}, \"marker\": {\"colorbar\": {\"outlinewidth\": 0, \"ticks\": \"\"}}, \"type\": \"scatter3d\"}], \"scattercarpet\": [{\"marker\": {\"colorbar\": {\"outlinewidth\": 0, \"ticks\": \"\"}}, \"type\": \"scattercarpet\"}], \"scattergeo\": [{\"marker\": {\"colorbar\": {\"outlinewidth\": 0, \"ticks\": \"\"}}, \"type\": \"scattergeo\"}], \"scattergl\": [{\"marker\": {\"colorbar\": {\"outlinewidth\": 0, \"ticks\": \"\"}}, \"type\": \"scattergl\"}], \"scattermapbox\": [{\"marker\": {\"colorbar\": {\"outlinewidth\": 0, \"ticks\": \"\"}}, \"type\": \"scattermapbox\"}], \"scatterpolar\": [{\"marker\": {\"colorbar\": {\"outlinewidth\": 0, \"ticks\": \"\"}}, \"type\": \"scatterpolar\"}], \"scatterpolargl\": [{\"marker\": {\"colorbar\": {\"outlinewidth\": 0, \"ticks\": \"\"}}, \"type\": \"scatterpolargl\"}], \"scatterternary\": [{\"marker\": {\"colorbar\": {\"outlinewidth\": 0, \"ticks\": \"\"}}, \"type\": \"scatterternary\"}], \"surface\": [{\"colorbar\": {\"outlinewidth\": 0, \"ticks\": \"\"}, \"colorscale\": [[0.0, \"#0d0887\"], [0.1111111111111111, \"#46039f\"], [0.2222222222222222, \"#7201a8\"], [0.3333333333333333, \"#9c179e\"], [0.4444444444444444, \"#bd3786\"], [0.5555555555555556, \"#d8576b\"], [0.6666666666666666, \"#ed7953\"], [0.7777777777777778, \"#fb9f3a\"], [0.8888888888888888, \"#fdca26\"], [1.0, \"#f0f921\"]], \"type\": \"surface\"}], \"table\": [{\"cells\": {\"fill\": {\"color\": \"#EBF0F8\"}, \"line\": {\"color\": \"white\"}}, \"header\": {\"fill\": {\"color\": \"#C8D4E3\"}, \"line\": {\"color\": \"white\"}}, \"type\": \"table\"}]}, \"layout\": {\"annotationdefaults\": {\"arrowcolor\": \"#2a3f5f\", \"arrowhead\": 0, \"arrowwidth\": 1}, \"coloraxis\": {\"colorbar\": {\"outlinewidth\": 0, \"ticks\": \"\"}}, \"colorscale\": {\"diverging\": [[0, \"#8e0152\"], [0.1, \"#c51b7d\"], [0.2, \"#de77ae\"], [0.3, \"#f1b6da\"], [0.4, \"#fde0ef\"], [0.5, \"#f7f7f7\"], [0.6, \"#e6f5d0\"], [0.7, \"#b8e186\"], [0.8, \"#7fbc41\"], [0.9, \"#4d9221\"], [1, \"#276419\"]], \"sequential\": [[0.0, \"#0d0887\"], [0.1111111111111111, \"#46039f\"], [0.2222222222222222, \"#7201a8\"], [0.3333333333333333, \"#9c179e\"], [0.4444444444444444, \"#bd3786\"], [0.5555555555555556, \"#d8576b\"], [0.6666666666666666, \"#ed7953\"], [0.7777777777777778, \"#fb9f3a\"], [0.8888888888888888, \"#fdca26\"], [1.0, \"#f0f921\"]], \"sequentialminus\": [[0.0, \"#0d0887\"], [0.1111111111111111, \"#46039f\"], [0.2222222222222222, \"#7201a8\"], [0.3333333333333333, \"#9c179e\"], [0.4444444444444444, \"#bd3786\"], [0.5555555555555556, \"#d8576b\"], [0.6666666666666666, \"#ed7953\"], [0.7777777777777778, \"#fb9f3a\"], [0.8888888888888888, \"#fdca26\"], [1.0, \"#f0f921\"]]}, \"colorway\": [\"#636efa\", \"#EF553B\", \"#00cc96\", \"#ab63fa\", \"#FFA15A\", \"#19d3f3\", \"#FF6692\", \"#B6E880\", \"#FF97FF\", \"#FECB52\"], \"font\": {\"color\": \"#2a3f5f\"}, \"geo\": {\"bgcolor\": \"white\", \"lakecolor\": \"white\", \"landcolor\": \"#E5ECF6\", \"showlakes\": true, \"showland\": true, \"subunitcolor\": \"white\"}, \"hoverlabel\": {\"align\": \"left\"}, \"hovermode\": \"closest\", \"mapbox\": {\"style\": \"light\"}, \"paper_bgcolor\": \"white\", \"plot_bgcolor\": \"#E5ECF6\", \"polar\": {\"angularaxis\": {\"gridcolor\": \"white\", \"linecolor\": \"white\", \"ticks\": \"\"}, \"bgcolor\": \"#E5ECF6\", \"radialaxis\": {\"gridcolor\": \"white\", \"linecolor\": \"white\", \"ticks\": \"\"}}, \"scene\": {\"xaxis\": {\"backgroundcolor\": \"#E5ECF6\", \"gridcolor\": \"white\", \"gridwidth\": 2, \"linecolor\": \"white\", \"showbackground\": true, \"ticks\": \"\", \"zerolinecolor\": \"white\"}, \"yaxis\": {\"backgroundcolor\": \"#E5ECF6\", \"gridcolor\": \"white\", \"gridwidth\": 2, \"linecolor\": \"white\", \"showbackground\": true, \"ticks\": \"\", \"zerolinecolor\": \"white\"}, \"zaxis\": {\"backgroundcolor\": \"#E5ECF6\", \"gridcolor\": \"white\", \"gridwidth\": 2, \"linecolor\": \"white\", \"showbackground\": true, \"ticks\": \"\", \"zerolinecolor\": \"white\"}}, \"shapedefaults\": {\"line\": {\"color\": \"#2a3f5f\"}}, \"ternary\": {\"aaxis\": {\"gridcolor\": \"white\", \"linecolor\": \"white\", \"ticks\": \"\"}, \"baxis\": {\"gridcolor\": \"white\", \"linecolor\": \"white\", \"ticks\": \"\"}, \"bgcolor\": \"#E5ECF6\", \"caxis\": {\"gridcolor\": \"white\", \"linecolor\": \"white\", \"ticks\": \"\"}}, \"title\": {\"x\": 0.05}, \"xaxis\": {\"automargin\": true, \"gridcolor\": \"white\", \"linecolor\": \"white\", \"ticks\": \"\", \"title\": {\"standoff\": 15}, \"zerolinecolor\": \"white\", \"zerolinewidth\": 2}, \"yaxis\": {\"automargin\": true, \"gridcolor\": \"white\", \"linecolor\": \"white\", \"ticks\": \"\", \"title\": {\"standoff\": 15}, \"zerolinecolor\": \"white\", \"zerolinewidth\": 2}}}, \"title\": {\"text\": \"Beatles Positive v. Negative Score\"}, \"xaxis\": {\"title\": {\"text\": \"positive\"}}, \"yaxis\": {\"title\": {\"text\": \"negative\"}}},\n",
       "                        {\"responsive\": true}\n",
       "                    ).then(function(){\n",
       "                            \n",
       "var gd = document.getElementById('b0f9e5f7-f105-48aa-a6f5-f3f13219b967');\n",
       "var x = new MutationObserver(function (mutations, observer) {{\n",
       "        var display = window.getComputedStyle(gd).display;\n",
       "        if (!display || display === 'none') {{\n",
       "            console.log([gd, 'removed!']);\n",
       "            Plotly.purge(gd);\n",
       "            observer.disconnect();\n",
       "        }}\n",
       "}});\n",
       "\n",
       "// Listen for the removal of the full notebook cells\n",
       "var notebookContainer = gd.closest('#notebook-container');\n",
       "if (notebookContainer) {{\n",
       "    x.observe(notebookContainer, {childList: true});\n",
       "}}\n",
       "\n",
       "// Listen for the clearing of the current output cell\n",
       "var outputEl = gd.closest('.output');\n",
       "if (outputEl) {{\n",
       "    x.observe(outputEl, {childList: true});\n",
       "}}\n",
       "\n",
       "                        })\n",
       "                };\n",
       "                });\n",
       "            </script>\n",
       "        </div>"
      ]
     },
     "metadata": {},
     "output_type": "display_data"
    }
   ],
   "source": [
    "fig = go.Figure(data=go.Scatter(x=info['pos'],\n",
    "                                y=info['neg'],\n",
    "                                mode='markers',\n",
    "                                marker_color=info['year'],\n",
    "                                text=info['title']))\n",
    "\n",
    "fig.update_layout(title='Beatles Positive v. Negative Score', yaxis_title=\"negative\", xaxis_title=\"positive\")\n",
    "fig.show()"
   ]
  },
  {
   "cell_type": "code",
   "execution_count": 651,
   "metadata": {},
   "outputs": [
    {
     "data": {
      "text/html": [
       "<div>\n",
       "<style scoped>\n",
       "    .dataframe tbody tr th:only-of-type {\n",
       "        vertical-align: middle;\n",
       "    }\n",
       "\n",
       "    .dataframe tbody tr th {\n",
       "        vertical-align: top;\n",
       "    }\n",
       "\n",
       "    .dataframe thead th {\n",
       "        text-align: right;\n",
       "    }\n",
       "</style>\n",
       "<table border=\"1\" class=\"dataframe\">\n",
       "  <thead>\n",
       "    <tr style=\"text-align: right;\">\n",
       "      <th></th>\n",
       "      <th>title</th>\n",
       "      <th>AudioPath</th>\n",
       "      <th>sentiment</th>\n",
       "      <th>year</th>\n",
       "    </tr>\n",
       "  </thead>\n",
       "  <tbody>\n",
       "    <tr>\n",
       "      <th>0</th>\n",
       "      <td>Across the Universe</td>\n",
       "      <td>Across The Universe (#2).mp3</td>\n",
       "      <td>0.9313</td>\n",
       "      <td>1968</td>\n",
       "    </tr>\n",
       "    <tr>\n",
       "      <th>1</th>\n",
       "      <td>All I've Got to Do</td>\n",
       "      <td>All I've Got To Do.mp3</td>\n",
       "      <td>0.9623</td>\n",
       "      <td>1963</td>\n",
       "    </tr>\n",
       "    <tr>\n",
       "      <th>2</th>\n",
       "      <td>All My Loving</td>\n",
       "      <td>All My Loving.mp3</td>\n",
       "      <td>0.9888</td>\n",
       "      <td>1963</td>\n",
       "    </tr>\n",
       "    <tr>\n",
       "      <th>3</th>\n",
       "      <td>All You Need Is Love</td>\n",
       "      <td>All You Need Is Love.mp3</td>\n",
       "      <td>0.9995</td>\n",
       "      <td>1967</td>\n",
       "    </tr>\n",
       "    <tr>\n",
       "      <th>4</th>\n",
       "      <td>And I Love Her</td>\n",
       "      <td>And I Love Her.mp3</td>\n",
       "      <td>0.9970</td>\n",
       "      <td>1964</td>\n",
       "    </tr>\n",
       "  </tbody>\n",
       "</table>\n",
       "</div>"
      ],
      "text/plain": [
       "                  title                     AudioPath  sentiment  year\n",
       "0   Across the Universe  Across The Universe (#2).mp3     0.9313  1968\n",
       "1    All I've Got to Do        All I've Got To Do.mp3     0.9623  1963\n",
       "2         All My Loving             All My Loving.mp3     0.9888  1963\n",
       "3  All You Need Is Love      All You Need Is Love.mp3     0.9995  1967\n",
       "4        And I Love Her            And I Love Her.mp3     0.9970  1964"
      ]
     },
     "execution_count": 651,
     "metadata": {},
     "output_type": "execute_result"
    }
   ],
   "source": [
    "sentiment_info = info[[\"title\", \"AudioPath\", \"sentiment\", \"year\"]]\n",
    "sentiment_info.head()"
   ]
  },
  {
   "cell_type": "markdown",
   "metadata": {},
   "source": [
    "## Loading mp3 Files\n",
    "Next, we will load the mp3 files in order to begin the analysis. Then, we will extract mfccs and tempo from the audio files using librosa."
   ]
  },
  {
   "cell_type": "code",
   "execution_count": 653,
   "metadata": {},
   "outputs": [
    {
     "name": "stderr",
     "output_type": "stream",
     "text": [
      "//anaconda3/lib/python3.7/site-packages/librosa/core/audio.py:161: UserWarning:\n",
      "\n",
      "PySoundFile failed. Trying audioread instead.\n",
      "\n",
      "//anaconda3/lib/python3.7/site-packages/librosa/core/audio.py:161: UserWarning:\n",
      "\n",
      "PySoundFile failed. Trying audioread instead.\n",
      "\n",
      "//anaconda3/lib/python3.7/site-packages/librosa/core/audio.py:161: UserWarning:\n",
      "\n",
      "PySoundFile failed. Trying audioread instead.\n",
      "\n",
      "//anaconda3/lib/python3.7/site-packages/librosa/core/audio.py:161: UserWarning:\n",
      "\n",
      "PySoundFile failed. Trying audioread instead.\n",
      "\n",
      "//anaconda3/lib/python3.7/site-packages/librosa/core/audio.py:161: UserWarning:\n",
      "\n",
      "PySoundFile failed. Trying audioread instead.\n",
      "\n",
      "//anaconda3/lib/python3.7/site-packages/librosa/core/audio.py:161: UserWarning:\n",
      "\n",
      "PySoundFile failed. Trying audioread instead.\n",
      "\n",
      "//anaconda3/lib/python3.7/site-packages/librosa/core/audio.py:161: UserWarning:\n",
      "\n",
      "PySoundFile failed. Trying audioread instead.\n",
      "\n",
      "//anaconda3/lib/python3.7/site-packages/librosa/core/audio.py:161: UserWarning:\n",
      "\n",
      "PySoundFile failed. Trying audioread instead.\n",
      "\n",
      "//anaconda3/lib/python3.7/site-packages/librosa/core/audio.py:161: UserWarning:\n",
      "\n",
      "PySoundFile failed. Trying audioread instead.\n",
      "\n",
      "//anaconda3/lib/python3.7/site-packages/librosa/core/audio.py:161: UserWarning:\n",
      "\n",
      "PySoundFile failed. Trying audioread instead.\n",
      "\n",
      "//anaconda3/lib/python3.7/site-packages/librosa/core/audio.py:161: UserWarning:\n",
      "\n",
      "PySoundFile failed. Trying audioread instead.\n",
      "\n",
      "//anaconda3/lib/python3.7/site-packages/librosa/core/audio.py:161: UserWarning:\n",
      "\n",
      "PySoundFile failed. Trying audioread instead.\n",
      "\n",
      "//anaconda3/lib/python3.7/site-packages/librosa/core/audio.py:161: UserWarning:\n",
      "\n",
      "PySoundFile failed. Trying audioread instead.\n",
      "\n",
      "//anaconda3/lib/python3.7/site-packages/librosa/core/audio.py:161: UserWarning:\n",
      "\n",
      "PySoundFile failed. Trying audioread instead.\n",
      "\n",
      "//anaconda3/lib/python3.7/site-packages/librosa/core/audio.py:161: UserWarning:\n",
      "\n",
      "PySoundFile failed. Trying audioread instead.\n",
      "\n",
      "//anaconda3/lib/python3.7/site-packages/librosa/core/audio.py:161: UserWarning:\n",
      "\n",
      "PySoundFile failed. Trying audioread instead.\n",
      "\n",
      "//anaconda3/lib/python3.7/site-packages/librosa/core/audio.py:161: UserWarning:\n",
      "\n",
      "PySoundFile failed. Trying audioread instead.\n",
      "\n",
      "//anaconda3/lib/python3.7/site-packages/librosa/core/audio.py:161: UserWarning:\n",
      "\n",
      "PySoundFile failed. Trying audioread instead.\n",
      "\n",
      "//anaconda3/lib/python3.7/site-packages/librosa/core/audio.py:161: UserWarning:\n",
      "\n",
      "PySoundFile failed. Trying audioread instead.\n",
      "\n",
      "//anaconda3/lib/python3.7/site-packages/librosa/core/audio.py:161: UserWarning:\n",
      "\n",
      "PySoundFile failed. Trying audioread instead.\n",
      "\n",
      "//anaconda3/lib/python3.7/site-packages/librosa/core/audio.py:161: UserWarning:\n",
      "\n",
      "PySoundFile failed. Trying audioread instead.\n",
      "\n",
      "//anaconda3/lib/python3.7/site-packages/librosa/core/audio.py:161: UserWarning:\n",
      "\n",
      "PySoundFile failed. Trying audioread instead.\n",
      "\n",
      "//anaconda3/lib/python3.7/site-packages/librosa/core/audio.py:161: UserWarning:\n",
      "\n",
      "PySoundFile failed. Trying audioread instead.\n",
      "\n",
      "//anaconda3/lib/python3.7/site-packages/librosa/core/audio.py:161: UserWarning:\n",
      "\n",
      "PySoundFile failed. Trying audioread instead.\n",
      "\n",
      "//anaconda3/lib/python3.7/site-packages/librosa/core/audio.py:161: UserWarning:\n",
      "\n",
      "PySoundFile failed. Trying audioread instead.\n",
      "\n",
      "//anaconda3/lib/python3.7/site-packages/librosa/core/audio.py:161: UserWarning:\n",
      "\n",
      "PySoundFile failed. Trying audioread instead.\n",
      "\n",
      "//anaconda3/lib/python3.7/site-packages/librosa/core/audio.py:161: UserWarning:\n",
      "\n",
      "PySoundFile failed. Trying audioread instead.\n",
      "\n",
      "//anaconda3/lib/python3.7/site-packages/librosa/core/audio.py:161: UserWarning:\n",
      "\n",
      "PySoundFile failed. Trying audioread instead.\n",
      "\n",
      "//anaconda3/lib/python3.7/site-packages/librosa/core/audio.py:161: UserWarning:\n",
      "\n",
      "PySoundFile failed. Trying audioread instead.\n",
      "\n",
      "//anaconda3/lib/python3.7/site-packages/librosa/core/audio.py:161: UserWarning:\n",
      "\n",
      "PySoundFile failed. Trying audioread instead.\n",
      "\n",
      "//anaconda3/lib/python3.7/site-packages/librosa/core/audio.py:161: UserWarning:\n",
      "\n",
      "PySoundFile failed. Trying audioread instead.\n",
      "\n",
      "//anaconda3/lib/python3.7/site-packages/librosa/core/audio.py:161: UserWarning:\n",
      "\n",
      "PySoundFile failed. Trying audioread instead.\n",
      "\n",
      "//anaconda3/lib/python3.7/site-packages/librosa/core/audio.py:161: UserWarning:\n",
      "\n",
      "PySoundFile failed. Trying audioread instead.\n",
      "\n",
      "//anaconda3/lib/python3.7/site-packages/librosa/core/audio.py:161: UserWarning:\n",
      "\n",
      "PySoundFile failed. Trying audioread instead.\n",
      "\n",
      "//anaconda3/lib/python3.7/site-packages/librosa/core/audio.py:161: UserWarning:\n",
      "\n",
      "PySoundFile failed. Trying audioread instead.\n",
      "\n",
      "//anaconda3/lib/python3.7/site-packages/librosa/core/audio.py:161: UserWarning:\n",
      "\n",
      "PySoundFile failed. Trying audioread instead.\n",
      "\n",
      "//anaconda3/lib/python3.7/site-packages/librosa/core/audio.py:161: UserWarning:\n",
      "\n",
      "PySoundFile failed. Trying audioread instead.\n",
      "\n",
      "//anaconda3/lib/python3.7/site-packages/librosa/core/audio.py:161: UserWarning:\n",
      "\n",
      "PySoundFile failed. Trying audioread instead.\n",
      "\n",
      "//anaconda3/lib/python3.7/site-packages/librosa/core/audio.py:161: UserWarning:\n",
      "\n",
      "PySoundFile failed. Trying audioread instead.\n",
      "\n",
      "//anaconda3/lib/python3.7/site-packages/librosa/core/audio.py:161: UserWarning:\n",
      "\n",
      "PySoundFile failed. Trying audioread instead.\n",
      "\n",
      "//anaconda3/lib/python3.7/site-packages/librosa/core/audio.py:161: UserWarning:\n",
      "\n",
      "PySoundFile failed. Trying audioread instead.\n",
      "\n",
      "//anaconda3/lib/python3.7/site-packages/librosa/core/audio.py:161: UserWarning:\n",
      "\n",
      "PySoundFile failed. Trying audioread instead.\n",
      "\n",
      "//anaconda3/lib/python3.7/site-packages/librosa/core/audio.py:161: UserWarning:\n",
      "\n",
      "PySoundFile failed. Trying audioread instead.\n",
      "\n",
      "//anaconda3/lib/python3.7/site-packages/librosa/core/audio.py:161: UserWarning:\n",
      "\n",
      "PySoundFile failed. Trying audioread instead.\n",
      "\n",
      "//anaconda3/lib/python3.7/site-packages/librosa/core/audio.py:161: UserWarning:\n",
      "\n",
      "PySoundFile failed. Trying audioread instead.\n",
      "\n",
      "//anaconda3/lib/python3.7/site-packages/librosa/core/audio.py:161: UserWarning:\n",
      "\n",
      "PySoundFile failed. Trying audioread instead.\n",
      "\n",
      "//anaconda3/lib/python3.7/site-packages/librosa/core/audio.py:161: UserWarning:\n",
      "\n",
      "PySoundFile failed. Trying audioread instead.\n",
      "\n",
      "//anaconda3/lib/python3.7/site-packages/librosa/core/audio.py:161: UserWarning:\n",
      "\n",
      "PySoundFile failed. Trying audioread instead.\n",
      "\n",
      "//anaconda3/lib/python3.7/site-packages/librosa/core/audio.py:161: UserWarning:\n",
      "\n",
      "PySoundFile failed. Trying audioread instead.\n",
      "\n",
      "//anaconda3/lib/python3.7/site-packages/librosa/core/audio.py:161: UserWarning:\n",
      "\n",
      "PySoundFile failed. Trying audioread instead.\n",
      "\n",
      "//anaconda3/lib/python3.7/site-packages/librosa/core/audio.py:161: UserWarning:\n",
      "\n",
      "PySoundFile failed. Trying audioread instead.\n",
      "\n",
      "//anaconda3/lib/python3.7/site-packages/librosa/core/audio.py:161: UserWarning:\n",
      "\n",
      "PySoundFile failed. Trying audioread instead.\n",
      "\n",
      "//anaconda3/lib/python3.7/site-packages/librosa/core/audio.py:161: UserWarning:\n",
      "\n",
      "PySoundFile failed. Trying audioread instead.\n",
      "\n",
      "//anaconda3/lib/python3.7/site-packages/librosa/core/audio.py:161: UserWarning:\n",
      "\n",
      "PySoundFile failed. Trying audioread instead.\n",
      "\n",
      "//anaconda3/lib/python3.7/site-packages/librosa/core/audio.py:161: UserWarning:\n",
      "\n",
      "PySoundFile failed. Trying audioread instead.\n",
      "\n",
      "//anaconda3/lib/python3.7/site-packages/librosa/core/audio.py:161: UserWarning:\n",
      "\n",
      "PySoundFile failed. Trying audioread instead.\n",
      "\n",
      "//anaconda3/lib/python3.7/site-packages/librosa/core/audio.py:161: UserWarning:\n",
      "\n",
      "PySoundFile failed. Trying audioread instead.\n",
      "\n",
      "//anaconda3/lib/python3.7/site-packages/librosa/core/audio.py:161: UserWarning:\n",
      "\n",
      "PySoundFile failed. Trying audioread instead.\n",
      "\n",
      "//anaconda3/lib/python3.7/site-packages/librosa/core/audio.py:161: UserWarning:\n",
      "\n",
      "PySoundFile failed. Trying audioread instead.\n",
      "\n",
      "//anaconda3/lib/python3.7/site-packages/librosa/core/audio.py:161: UserWarning:\n",
      "\n",
      "PySoundFile failed. Trying audioread instead.\n",
      "\n",
      "//anaconda3/lib/python3.7/site-packages/librosa/core/audio.py:161: UserWarning:\n",
      "\n",
      "PySoundFile failed. Trying audioread instead.\n",
      "\n",
      "//anaconda3/lib/python3.7/site-packages/librosa/core/audio.py:161: UserWarning:\n",
      "\n",
      "PySoundFile failed. Trying audioread instead.\n",
      "\n",
      "//anaconda3/lib/python3.7/site-packages/librosa/core/audio.py:161: UserWarning:\n",
      "\n",
      "PySoundFile failed. Trying audioread instead.\n",
      "\n",
      "//anaconda3/lib/python3.7/site-packages/librosa/core/audio.py:161: UserWarning:\n",
      "\n",
      "PySoundFile failed. Trying audioread instead.\n",
      "\n",
      "//anaconda3/lib/python3.7/site-packages/librosa/core/audio.py:161: UserWarning:\n",
      "\n",
      "PySoundFile failed. Trying audioread instead.\n",
      "\n"
     ]
    },
    {
     "name": "stderr",
     "output_type": "stream",
     "text": [
      "//anaconda3/lib/python3.7/site-packages/librosa/core/audio.py:161: UserWarning:\n",
      "\n",
      "PySoundFile failed. Trying audioread instead.\n",
      "\n",
      "//anaconda3/lib/python3.7/site-packages/librosa/core/audio.py:161: UserWarning:\n",
      "\n",
      "PySoundFile failed. Trying audioread instead.\n",
      "\n",
      "//anaconda3/lib/python3.7/site-packages/librosa/core/audio.py:161: UserWarning:\n",
      "\n",
      "PySoundFile failed. Trying audioread instead.\n",
      "\n",
      "//anaconda3/lib/python3.7/site-packages/librosa/core/audio.py:161: UserWarning:\n",
      "\n",
      "PySoundFile failed. Trying audioread instead.\n",
      "\n",
      "//anaconda3/lib/python3.7/site-packages/librosa/core/audio.py:161: UserWarning:\n",
      "\n",
      "PySoundFile failed. Trying audioread instead.\n",
      "\n",
      "//anaconda3/lib/python3.7/site-packages/librosa/core/audio.py:161: UserWarning:\n",
      "\n",
      "PySoundFile failed. Trying audioread instead.\n",
      "\n",
      "//anaconda3/lib/python3.7/site-packages/librosa/core/audio.py:161: UserWarning:\n",
      "\n",
      "PySoundFile failed. Trying audioread instead.\n",
      "\n",
      "//anaconda3/lib/python3.7/site-packages/librosa/core/audio.py:161: UserWarning:\n",
      "\n",
      "PySoundFile failed. Trying audioread instead.\n",
      "\n",
      "//anaconda3/lib/python3.7/site-packages/librosa/core/audio.py:161: UserWarning:\n",
      "\n",
      "PySoundFile failed. Trying audioread instead.\n",
      "\n",
      "//anaconda3/lib/python3.7/site-packages/librosa/core/audio.py:161: UserWarning:\n",
      "\n",
      "PySoundFile failed. Trying audioread instead.\n",
      "\n",
      "//anaconda3/lib/python3.7/site-packages/librosa/core/audio.py:161: UserWarning:\n",
      "\n",
      "PySoundFile failed. Trying audioread instead.\n",
      "\n",
      "//anaconda3/lib/python3.7/site-packages/librosa/core/audio.py:161: UserWarning:\n",
      "\n",
      "PySoundFile failed. Trying audioread instead.\n",
      "\n",
      "//anaconda3/lib/python3.7/site-packages/librosa/core/audio.py:161: UserWarning:\n",
      "\n",
      "PySoundFile failed. Trying audioread instead.\n",
      "\n",
      "//anaconda3/lib/python3.7/site-packages/librosa/core/audio.py:161: UserWarning:\n",
      "\n",
      "PySoundFile failed. Trying audioread instead.\n",
      "\n",
      "//anaconda3/lib/python3.7/site-packages/librosa/core/audio.py:161: UserWarning:\n",
      "\n",
      "PySoundFile failed. Trying audioread instead.\n",
      "\n",
      "//anaconda3/lib/python3.7/site-packages/librosa/core/audio.py:161: UserWarning:\n",
      "\n",
      "PySoundFile failed. Trying audioread instead.\n",
      "\n",
      "//anaconda3/lib/python3.7/site-packages/librosa/core/audio.py:161: UserWarning:\n",
      "\n",
      "PySoundFile failed. Trying audioread instead.\n",
      "\n",
      "//anaconda3/lib/python3.7/site-packages/librosa/core/audio.py:161: UserWarning:\n",
      "\n",
      "PySoundFile failed. Trying audioread instead.\n",
      "\n",
      "//anaconda3/lib/python3.7/site-packages/librosa/core/audio.py:161: UserWarning:\n",
      "\n",
      "PySoundFile failed. Trying audioread instead.\n",
      "\n",
      "//anaconda3/lib/python3.7/site-packages/librosa/core/audio.py:161: UserWarning:\n",
      "\n",
      "PySoundFile failed. Trying audioread instead.\n",
      "\n",
      "//anaconda3/lib/python3.7/site-packages/librosa/core/audio.py:161: UserWarning:\n",
      "\n",
      "PySoundFile failed. Trying audioread instead.\n",
      "\n",
      "//anaconda3/lib/python3.7/site-packages/librosa/core/audio.py:161: UserWarning:\n",
      "\n",
      "PySoundFile failed. Trying audioread instead.\n",
      "\n",
      "//anaconda3/lib/python3.7/site-packages/librosa/core/audio.py:161: UserWarning:\n",
      "\n",
      "PySoundFile failed. Trying audioread instead.\n",
      "\n",
      "//anaconda3/lib/python3.7/site-packages/librosa/core/audio.py:161: UserWarning:\n",
      "\n",
      "PySoundFile failed. Trying audioread instead.\n",
      "\n",
      "//anaconda3/lib/python3.7/site-packages/librosa/core/audio.py:161: UserWarning:\n",
      "\n",
      "PySoundFile failed. Trying audioread instead.\n",
      "\n",
      "//anaconda3/lib/python3.7/site-packages/librosa/core/audio.py:161: UserWarning:\n",
      "\n",
      "PySoundFile failed. Trying audioread instead.\n",
      "\n",
      "//anaconda3/lib/python3.7/site-packages/librosa/core/audio.py:161: UserWarning:\n",
      "\n",
      "PySoundFile failed. Trying audioread instead.\n",
      "\n",
      "//anaconda3/lib/python3.7/site-packages/librosa/core/audio.py:161: UserWarning:\n",
      "\n",
      "PySoundFile failed. Trying audioread instead.\n",
      "\n",
      "//anaconda3/lib/python3.7/site-packages/librosa/core/audio.py:161: UserWarning:\n",
      "\n",
      "PySoundFile failed. Trying audioread instead.\n",
      "\n",
      "//anaconda3/lib/python3.7/site-packages/librosa/core/audio.py:161: UserWarning:\n",
      "\n",
      "PySoundFile failed. Trying audioread instead.\n",
      "\n",
      "//anaconda3/lib/python3.7/site-packages/librosa/core/audio.py:161: UserWarning:\n",
      "\n",
      "PySoundFile failed. Trying audioread instead.\n",
      "\n",
      "//anaconda3/lib/python3.7/site-packages/librosa/core/audio.py:161: UserWarning:\n",
      "\n",
      "PySoundFile failed. Trying audioread instead.\n",
      "\n",
      "//anaconda3/lib/python3.7/site-packages/librosa/core/audio.py:161: UserWarning:\n",
      "\n",
      "PySoundFile failed. Trying audioread instead.\n",
      "\n",
      "//anaconda3/lib/python3.7/site-packages/librosa/core/audio.py:161: UserWarning:\n",
      "\n",
      "PySoundFile failed. Trying audioread instead.\n",
      "\n",
      "//anaconda3/lib/python3.7/site-packages/librosa/core/audio.py:161: UserWarning:\n",
      "\n",
      "PySoundFile failed. Trying audioread instead.\n",
      "\n",
      "//anaconda3/lib/python3.7/site-packages/librosa/core/audio.py:161: UserWarning:\n",
      "\n",
      "PySoundFile failed. Trying audioread instead.\n",
      "\n",
      "//anaconda3/lib/python3.7/site-packages/librosa/core/audio.py:161: UserWarning:\n",
      "\n",
      "PySoundFile failed. Trying audioread instead.\n",
      "\n",
      "//anaconda3/lib/python3.7/site-packages/librosa/core/audio.py:161: UserWarning:\n",
      "\n",
      "PySoundFile failed. Trying audioread instead.\n",
      "\n",
      "//anaconda3/lib/python3.7/site-packages/librosa/core/audio.py:161: UserWarning:\n",
      "\n",
      "PySoundFile failed. Trying audioread instead.\n",
      "\n",
      "//anaconda3/lib/python3.7/site-packages/librosa/core/audio.py:161: UserWarning:\n",
      "\n",
      "PySoundFile failed. Trying audioread instead.\n",
      "\n",
      "//anaconda3/lib/python3.7/site-packages/librosa/core/audio.py:161: UserWarning:\n",
      "\n",
      "PySoundFile failed. Trying audioread instead.\n",
      "\n",
      "//anaconda3/lib/python3.7/site-packages/librosa/core/audio.py:161: UserWarning:\n",
      "\n",
      "PySoundFile failed. Trying audioread instead.\n",
      "\n",
      "//anaconda3/lib/python3.7/site-packages/librosa/core/audio.py:161: UserWarning:\n",
      "\n",
      "PySoundFile failed. Trying audioread instead.\n",
      "\n",
      "//anaconda3/lib/python3.7/site-packages/librosa/core/audio.py:161: UserWarning:\n",
      "\n",
      "PySoundFile failed. Trying audioread instead.\n",
      "\n",
      "//anaconda3/lib/python3.7/site-packages/librosa/core/audio.py:161: UserWarning:\n",
      "\n",
      "PySoundFile failed. Trying audioread instead.\n",
      "\n",
      "//anaconda3/lib/python3.7/site-packages/librosa/core/audio.py:161: UserWarning:\n",
      "\n",
      "PySoundFile failed. Trying audioread instead.\n",
      "\n",
      "//anaconda3/lib/python3.7/site-packages/librosa/core/audio.py:161: UserWarning:\n",
      "\n",
      "PySoundFile failed. Trying audioread instead.\n",
      "\n",
      "//anaconda3/lib/python3.7/site-packages/librosa/core/audio.py:161: UserWarning:\n",
      "\n",
      "PySoundFile failed. Trying audioread instead.\n",
      "\n",
      "//anaconda3/lib/python3.7/site-packages/librosa/core/audio.py:161: UserWarning:\n",
      "\n",
      "PySoundFile failed. Trying audioread instead.\n",
      "\n",
      "//anaconda3/lib/python3.7/site-packages/librosa/core/audio.py:161: UserWarning:\n",
      "\n",
      "PySoundFile failed. Trying audioread instead.\n",
      "\n",
      "//anaconda3/lib/python3.7/site-packages/librosa/core/audio.py:161: UserWarning:\n",
      "\n",
      "PySoundFile failed. Trying audioread instead.\n",
      "\n",
      "//anaconda3/lib/python3.7/site-packages/librosa/core/audio.py:161: UserWarning:\n",
      "\n",
      "PySoundFile failed. Trying audioread instead.\n",
      "\n",
      "//anaconda3/lib/python3.7/site-packages/librosa/core/audio.py:161: UserWarning:\n",
      "\n",
      "PySoundFile failed. Trying audioread instead.\n",
      "\n",
      "//anaconda3/lib/python3.7/site-packages/librosa/core/audio.py:161: UserWarning:\n",
      "\n",
      "PySoundFile failed. Trying audioread instead.\n",
      "\n",
      "//anaconda3/lib/python3.7/site-packages/librosa/core/audio.py:161: UserWarning:\n",
      "\n",
      "PySoundFile failed. Trying audioread instead.\n",
      "\n",
      "//anaconda3/lib/python3.7/site-packages/librosa/core/audio.py:161: UserWarning:\n",
      "\n",
      "PySoundFile failed. Trying audioread instead.\n",
      "\n",
      "//anaconda3/lib/python3.7/site-packages/librosa/core/audio.py:161: UserWarning:\n",
      "\n",
      "PySoundFile failed. Trying audioread instead.\n",
      "\n",
      "//anaconda3/lib/python3.7/site-packages/librosa/core/audio.py:161: UserWarning:\n",
      "\n",
      "PySoundFile failed. Trying audioread instead.\n",
      "\n",
      "//anaconda3/lib/python3.7/site-packages/librosa/core/audio.py:161: UserWarning:\n",
      "\n",
      "PySoundFile failed. Trying audioread instead.\n",
      "\n",
      "//anaconda3/lib/python3.7/site-packages/librosa/core/audio.py:161: UserWarning:\n",
      "\n",
      "PySoundFile failed. Trying audioread instead.\n",
      "\n",
      "//anaconda3/lib/python3.7/site-packages/librosa/core/audio.py:161: UserWarning:\n",
      "\n",
      "PySoundFile failed. Trying audioread instead.\n",
      "\n",
      "//anaconda3/lib/python3.7/site-packages/librosa/core/audio.py:161: UserWarning:\n",
      "\n",
      "PySoundFile failed. Trying audioread instead.\n",
      "\n",
      "//anaconda3/lib/python3.7/site-packages/librosa/core/audio.py:161: UserWarning:\n",
      "\n",
      "PySoundFile failed. Trying audioread instead.\n",
      "\n",
      "//anaconda3/lib/python3.7/site-packages/librosa/core/audio.py:161: UserWarning:\n",
      "\n",
      "PySoundFile failed. Trying audioread instead.\n",
      "\n",
      "//anaconda3/lib/python3.7/site-packages/librosa/core/audio.py:161: UserWarning:\n",
      "\n",
      "PySoundFile failed. Trying audioread instead.\n",
      "\n"
     ]
    },
    {
     "name": "stderr",
     "output_type": "stream",
     "text": [
      "//anaconda3/lib/python3.7/site-packages/librosa/core/audio.py:161: UserWarning:\n",
      "\n",
      "PySoundFile failed. Trying audioread instead.\n",
      "\n",
      "//anaconda3/lib/python3.7/site-packages/librosa/core/audio.py:161: UserWarning:\n",
      "\n",
      "PySoundFile failed. Trying audioread instead.\n",
      "\n",
      "//anaconda3/lib/python3.7/site-packages/librosa/core/audio.py:161: UserWarning:\n",
      "\n",
      "PySoundFile failed. Trying audioread instead.\n",
      "\n",
      "//anaconda3/lib/python3.7/site-packages/librosa/core/audio.py:161: UserWarning:\n",
      "\n",
      "PySoundFile failed. Trying audioread instead.\n",
      "\n",
      "//anaconda3/lib/python3.7/site-packages/librosa/core/audio.py:161: UserWarning:\n",
      "\n",
      "PySoundFile failed. Trying audioread instead.\n",
      "\n",
      "//anaconda3/lib/python3.7/site-packages/librosa/core/audio.py:161: UserWarning:\n",
      "\n",
      "PySoundFile failed. Trying audioread instead.\n",
      "\n",
      "//anaconda3/lib/python3.7/site-packages/librosa/core/audio.py:161: UserWarning:\n",
      "\n",
      "PySoundFile failed. Trying audioread instead.\n",
      "\n",
      "//anaconda3/lib/python3.7/site-packages/librosa/core/audio.py:161: UserWarning:\n",
      "\n",
      "PySoundFile failed. Trying audioread instead.\n",
      "\n",
      "//anaconda3/lib/python3.7/site-packages/librosa/core/audio.py:161: UserWarning:\n",
      "\n",
      "PySoundFile failed. Trying audioread instead.\n",
      "\n",
      "//anaconda3/lib/python3.7/site-packages/librosa/core/audio.py:161: UserWarning:\n",
      "\n",
      "PySoundFile failed. Trying audioread instead.\n",
      "\n",
      "//anaconda3/lib/python3.7/site-packages/librosa/core/audio.py:161: UserWarning:\n",
      "\n",
      "PySoundFile failed. Trying audioread instead.\n",
      "\n",
      "//anaconda3/lib/python3.7/site-packages/librosa/core/audio.py:161: UserWarning:\n",
      "\n",
      "PySoundFile failed. Trying audioread instead.\n",
      "\n",
      "//anaconda3/lib/python3.7/site-packages/librosa/core/audio.py:161: UserWarning:\n",
      "\n",
      "PySoundFile failed. Trying audioread instead.\n",
      "\n",
      "//anaconda3/lib/python3.7/site-packages/librosa/core/audio.py:161: UserWarning:\n",
      "\n",
      "PySoundFile failed. Trying audioread instead.\n",
      "\n",
      "//anaconda3/lib/python3.7/site-packages/librosa/core/audio.py:161: UserWarning:\n",
      "\n",
      "PySoundFile failed. Trying audioread instead.\n",
      "\n",
      "//anaconda3/lib/python3.7/site-packages/librosa/core/audio.py:161: UserWarning:\n",
      "\n",
      "PySoundFile failed. Trying audioread instead.\n",
      "\n",
      "//anaconda3/lib/python3.7/site-packages/librosa/core/audio.py:161: UserWarning:\n",
      "\n",
      "PySoundFile failed. Trying audioread instead.\n",
      "\n",
      "//anaconda3/lib/python3.7/site-packages/librosa/core/audio.py:161: UserWarning:\n",
      "\n",
      "PySoundFile failed. Trying audioread instead.\n",
      "\n",
      "//anaconda3/lib/python3.7/site-packages/librosa/core/audio.py:161: UserWarning:\n",
      "\n",
      "PySoundFile failed. Trying audioread instead.\n",
      "\n",
      "//anaconda3/lib/python3.7/site-packages/librosa/core/audio.py:161: UserWarning:\n",
      "\n",
      "PySoundFile failed. Trying audioread instead.\n",
      "\n",
      "//anaconda3/lib/python3.7/site-packages/librosa/core/audio.py:161: UserWarning:\n",
      "\n",
      "PySoundFile failed. Trying audioread instead.\n",
      "\n",
      "//anaconda3/lib/python3.7/site-packages/librosa/core/audio.py:161: UserWarning:\n",
      "\n",
      "PySoundFile failed. Trying audioread instead.\n",
      "\n",
      "//anaconda3/lib/python3.7/site-packages/librosa/core/audio.py:161: UserWarning:\n",
      "\n",
      "PySoundFile failed. Trying audioread instead.\n",
      "\n",
      "//anaconda3/lib/python3.7/site-packages/librosa/core/audio.py:161: UserWarning:\n",
      "\n",
      "PySoundFile failed. Trying audioread instead.\n",
      "\n",
      "//anaconda3/lib/python3.7/site-packages/librosa/core/audio.py:161: UserWarning:\n",
      "\n",
      "PySoundFile failed. Trying audioread instead.\n",
      "\n",
      "//anaconda3/lib/python3.7/site-packages/ipykernel_launcher.py:10: SettingWithCopyWarning:\n",
      "\n",
      "\n",
      "A value is trying to be set on a copy of a slice from a DataFrame.\n",
      "Try using .loc[row_indexer,col_indexer] = value instead\n",
      "\n",
      "See the caveats in the documentation: http://pandas.pydata.org/pandas-docs/stable/indexing.html#indexing-view-versus-copy\n",
      "\n",
      "//anaconda3/lib/python3.7/site-packages/ipykernel_launcher.py:11: SettingWithCopyWarning:\n",
      "\n",
      "\n",
      "A value is trying to be set on a copy of a slice from a DataFrame.\n",
      "Try using .loc[row_indexer,col_indexer] = value instead\n",
      "\n",
      "See the caveats in the documentation: http://pandas.pydata.org/pandas-docs/stable/indexing.html#indexing-view-versus-copy\n",
      "\n"
     ]
    }
   ],
   "source": [
    "mfccs = []\n",
    "tempos = []\n",
    "for song in range(sentiment_info.shape[0]):\n",
    "    load = librosa.load('Beatles/tracks/' + sentiment_info[\"AudioPath\"].iloc[song], duration=50)\n",
    "    mfcc = librosa.feature.mfcc(y=load[0], sr=load[1], n_mfcc=12)\n",
    "    mfccs.append(mfcc)\n",
    "    oenv = librosa.onset.onset_strength(y=load[0], sr=load[1], hop_length=512)\n",
    "    tempo = librosa.beat.tempo(onset_envelope=oenv, sr=load[1])\n",
    "    tempos.append(tempo)\n",
    "sentiment_info[\"mfccs\"] = mfccs\n",
    "sentiment_info[\"tempos\"] = tempos"
   ]
  },
  {
   "cell_type": "code",
   "execution_count": 654,
   "metadata": {},
   "outputs": [
    {
     "name": "stderr",
     "output_type": "stream",
     "text": [
      "//anaconda3/lib/python3.7/site-packages/ipykernel_launcher.py:1: SettingWithCopyWarning:\n",
      "\n",
      "\n",
      "A value is trying to be set on a copy of a slice from a DataFrame.\n",
      "Try using .loc[row_indexer,col_indexer] = value instead\n",
      "\n",
      "See the caveats in the documentation: http://pandas.pydata.org/pandas-docs/stable/indexing.html#indexing-view-versus-copy\n",
      "\n",
      "//anaconda3/lib/python3.7/site-packages/ipykernel_launcher.py:2: SettingWithCopyWarning:\n",
      "\n",
      "\n",
      "A value is trying to be set on a copy of a slice from a DataFrame.\n",
      "Try using .loc[row_indexer,col_indexer] = value instead\n",
      "\n",
      "See the caveats in the documentation: http://pandas.pydata.org/pandas-docs/stable/indexing.html#indexing-view-versus-copy\n",
      "\n"
     ]
    }
   ],
   "source": [
    "sentiment_info[\"mfccs\"] = sentiment_info[\"mfccs\"].apply(lambda x: x.T)\n",
    "sentiment_info[\"tempos\"] = sentiment_info[\"tempos\"].apply(lambda x: x[0])"
   ]
  },
  {
   "cell_type": "code",
   "execution_count": 658,
   "metadata": {},
   "outputs": [
    {
     "data": {
      "application/vnd.plotly.v1+json": {
       "config": {
        "plotlyServerURL": "https://plot.ly"
       },
       "data": [
        {
         "marker": {
          "color": [
           1968,
           1963,
           1963,
           1967,
           1964,
           1966,
           1965,
           1964,
           1963,
           1967,
           1964,
           1968,
           1969,
           1967,
           1968,
           1968,
           1967,
           1964,
           1969,
           1969,
           1968,
           1968,
           1967,
           1968,
           1969,
           1969,
           1966,
           1963,
           1968,
           1965,
           1964,
           1966,
           1969,
           1964,
           1968,
           1967,
           1967,
           1966,
           1969,
           1969,
           1967,
           1965,
           1968,
           1969,
           1966,
           1967,
           1968,
           1968,
           1964,
           1967,
           1965,
           1968,
           1969,
           1969,
           1966,
           1963,
           1968,
           1967,
           1964,
           1970,
           1965,
           1963,
           1964,
           1963,
           1966,
           1969,
           1968,
           1964,
           1965,
           1964,
           1964,
           1964,
           1964,
           1964,
           1965,
           1966,
           1968,
           1965,
           1963,
           1965,
           1969,
           1965,
           1968,
           1969,
           1963,
           1969,
           1968,
           1966,
           1967,
           1967,
           1967,
           1968,
           1969,
           1969,
           1965,
           1963,
           1968,
           1965,
           1964,
           1965,
           1963,
           1965,
           1968,
           1969,
           1969,
           1969,
           1966,
           1968,
           1962,
           1969,
           1962,
           1968,
           1968,
           1968,
           1965,
           1968,
           1968,
           1967,
           1967,
           1966,
           1967,
           1969,
           1966,
           1969,
           1966,
           1965,
           1964,
           1963,
           1964,
           1965,
           1965,
           1966,
           1969,
           1965,
           1965,
           1964,
           1964,
           1966,
           1968,
           1968,
           1968,
           1967,
           1967,
           1965,
           1966,
           1968,
           1965,
           1964,
           1967,
           1965,
           1969,
           1965,
           1967,
           1965,
           1965
          ]
         },
         "mode": "markers",
         "text": [
          "Across the Universe",
          "All I've Got to Do",
          "All My Loving",
          "All You Need Is Love",
          "And I Love Her",
          "And Your Bird Can Sing",
          "Another Girl",
          "Any Time at All",
          "Ask Me Why",
          "Baby, You're a Rich Man",
          "Baby's in Black",
          "Back in the U.S.S.R.",
          "Because",
          "Being for the Benefit of Mr. Kite!",
          "Birthday",
          "Blackbird",
          "Blue Jay Way",
          "Can't Buy Me Love",
          "Carry That Weight",
          "Come Together",
          "The Continuing Story of Bungalow Bill",
          "Cry Baby Cry",
          "A Day in the Life",
          "Dear Prudence",
          "Dig a Pony",
          "Dig It",
          "Doctor Robert",
          "Don't Bother Me",
          "Don't Pass Me By",
          "Drive My Car",
          "Eight Days a Week",
          "Eleanor Rigby",
          "The End",
          "Every Little Thing",
          "Everybody's Got Something to Hide Except Me and My Monkey",
          "Fixing a Hole",
          "The Fool on the Hill",
          "For No One",
          "For You Blue",
          "Get Back",
          "Getting Better",
          "Girl",
          "Glass Onion",
          "Golden Slumbers",
          "Good Day Sunshine",
          "Good Morning Good Morning",
          "Good Night",
          "Happiness Is a Warm Gun",
          "A Hard Day's Night",
          "Hello, Goodbye",
          "Help!",
          "Helter Skelter",
          "Her Majesty",
          "Here Comes the Sun",
          "Here, There and Everywhere",
          "Hold Me Tight",
          "Honey Pie",
          "I Am the Walrus",
          "I Don't Want to Spoil the Party",
          "I Me Mine",
          "I Need You",
          "I Saw Her Standing There",
          "I Should Have Known Better",
          "I Wanna Be Your Man",
          "I Want to Tell You",
          "I Want You (She's So Heavy)",
          "I Will",
          "If I Fell",
          "If I Needed Someone",
          "I'll Be Back",
          "I'll Cry Instead",
          "I'll Follow the Sun",
          "I'm a Loser",
          "I'm Happy Just to Dance with You",
          "I'm Looking Through You",
          "I'm Only Sleeping",
          "I'm So Tired",
          "In My Life",
          "It Won't Be Long",
          "It's Only Love",
          "I've Got a Feeling",
          "I've Just Seen a Face",
          "Julia",
          "Let It Be",
          "Little Child",
          "The Long and Winding Road",
          "Long, Long, Long",
          "Love You To",
          "Lovely Rita",
          "Lucy in the Sky with Diamonds",
          "Magical Mystery Tour",
          "Martha My Dear",
          "Maxwell's Silver Hammer",
          "Mean Mr. Mustard",
          "Michelle",
          "Misery",
          "Mother Nature's Son",
          "The Night Before",
          "No Reply",
          "Norwegian Wood (This Bird Has Flown)",
          "Not a Second Time",
          "Nowhere Man",
          "Ob-La-Di, Ob-La-Da",
          "Octopus's Garden",
          "Oh! Darling",
          "One After 909",
          "Penny Lane",
          "Piggies",
          "Please Please Me",
          "Polythene Pam",
          "P.S. I Love You",
          "Revolution 1",
          "Revolution 9",
          "Rocky Raccoon",
          "Run for Your Life",
          "Savoy Truffle",
          "Sexy Sadie",
          "Sgt. Pepper's Lonely Hearts Club Band",
          "Sgt. Pepper's Lonely Hearts Club Band (Reprise)",
          "She Said She Said",
          "She's Leaving Home",
          "Something",
          "Strawberry Fields Forever",
          "Sun King",
          "Taxman",
          "Tell Me What You See",
          "Tell Me Why",
          "There's a Place",
          "Things We Said Today",
          "Think for Yourself",
          "Ticket to Ride",
          "Tomorrow Never Knows",
          "Two of Us",
          "Wait",
          "What Goes On",
          "What You're Doing",
          "When I Get Home",
          "When I'm Sixty-Four",
          "While My Guitar Gently Weeps",
          "Why Don't We Do It in the Road?",
          "Wild Honey Pie",
          "With a Little Help from My Friends",
          "Within You Without You",
          "The Word",
          "Yellow Submarine",
          "Yer Blues",
          "Yesterday",
          "You Can't Do That",
          "You Know My Name (Look Up the Number)",
          "You Like Me Too Much",
          "You Never Give Me Your Money",
          "You Won't See Me",
          "Your Mother Should Know",
          "You're Going to Lose That Girl",
          "You've Got to Hide Your Love Away"
         ],
         "type": "scatter",
         "x": [
          161.4990234375,
          117.45383522727273,
          151.99908088235293,
          99.38401442307692,
          117.45383522727273,
          135.99917763157896,
          89.10290948275862,
          143.5546875,
          135.99917763157896,
          95.703125,
          103.359375,
          143.5546875,
          151.99908088235293,
          112.34714673913044,
          143.5546875,
          92.28515625,
          123.046875,
          172.265625,
          112.34714673913044,
          161.4990234375,
          117.45383522727273,
          151.99908088235293,
          151.99908088235293,
          99.38401442307692,
          123.046875,
          103.359375,
          161.4990234375,
          172.265625,
          172.265625,
          123.046875,
          135.99917763157896,
          135.99917763157896,
          112.34714673913044,
          123.046875,
          117.45383522727273,
          107.666015625,
          143.5546875,
          161.4990234375,
          129.19921875,
          123.046875,
          117.45383522727273,
          95.703125,
          123.046875,
          112.34714673913044,
          117.45383522727273,
          123.046875,
          129.19921875,
          143.5546875,
          135.99917763157896,
          99.38401442307692,
          95.703125,
          112.34714673913044,
          112.34714673913044,
          129.19921875,
          161.4990234375,
          135.99917763157896,
          143.5546875,
          83.35433467741936,
          95.703125,
          129.19921875,
          135.99917763157896,
          161.4990234375,
          129.19921875,
          99.38401442307692,
          129.19921875,
          117.45383522727273,
          103.359375,
          107.666015625,
          129.19921875,
          123.046875,
          95.703125,
          135.99917763157896,
          172.265625,
          129.19921875,
          86.1328125,
          103.359375,
          135.99917763157896,
          103.359375,
          135.99917763157896,
          112.34714673913044,
          161.4990234375,
          117.45383522727273,
          135.99917763157896,
          143.5546875,
          151.99908088235293,
          135.99917763157896,
          107.666015625,
          123.046875,
          89.10290948275862,
          135.99917763157896,
          161.4990234375,
          184.5703125,
          129.19921875,
          151.99908088235293,
          117.45383522727273,
          135.99917763157896,
          172.265625,
          112.34714673913044,
          123.046875,
          92.28515625,
          123.046875,
          123.046875,
          112.34714673913044,
          92.28515625,
          172.265625,
          92.28515625,
          112.34714673913044,
          89.10290948275862,
          135.99917763157896,
          151.99908088235293,
          135.99917763157896,
          95.703125,
          151.99908088235293,
          151.99908088235293,
          89.10290948275862,
          123.046875,
          151.99908088235293,
          95.703125,
          117.45383522727273,
          112.34714673913044,
          129.19921875,
          135.99917763157896,
          92.28515625,
          151.99908088235293,
          135.99917763157896,
          135.99917763157896,
          151.99908088235293,
          143.5546875,
          135.99917763157896,
          129.19921875,
          123.046875,
          129.19921875,
          112.34714673913044,
          129.19921875,
          95.703125,
          129.19921875,
          129.19921875,
          135.99917763157896,
          112.34714673913044,
          95.703125,
          89.10290948275862,
          112.34714673913044,
          117.45383522727273,
          123.046875,
          112.34714673913044,
          151.99908088235293,
          95.703125,
          129.19921875,
          89.10290948275862,
          89.10290948275862,
          161.4990234375,
          117.45383522727273,
          117.45383522727273,
          129.19921875,
          92.28515625
         ],
         "y": [
          0.9313,
          0.9623,
          0.9888,
          0.9995,
          0.997,
          0.1531,
          0.9718,
          -0.25,
          0.9831,
          0.9957,
          0.9064,
          0.9614,
          0.9403,
          0.9368,
          0.9215,
          -0.9501,
          0.9776,
          -0.9888,
          0,
          -0.1941,
          -0.9979,
          -0.995,
          0.9595,
          0.991,
          0.9909,
          0.7579,
          0.9947,
          -0.5818,
          -0.8919,
          0.9964,
          0.9969,
          -0.9791,
          0.999,
          0.991,
          -0.2481,
          -0.9357,
          -0.836,
          0.5645,
          0.9965,
          0.907,
          0.9882,
          0.9286,
          0.607,
          0.9845,
          0.9989,
          0.9995,
          0.9831,
          0.9725,
          0.988,
          -0.8834,
          0.992,
          0.9967,
          0.9835,
          0.9841,
          0.9948,
          0.8485,
          0.5821,
          -0.9565,
          0.773,
          -0.1063,
          -0.5781,
          0.2732,
          0.9932,
          0.995,
          0.2617,
          -0.9972,
          0.9877,
          0.9956,
          0.8859,
          0.8844,
          0.9856,
          0.9512,
          -0.6486,
          0.9933,
          -0.8138,
          0.7054,
          -0.9871,
          0.9173,
          0.9531,
          0.9936,
          0.9905,
          -0.6306,
          0.9886,
          0.9423,
          -0.7652,
          -0.595,
          0.9449,
          0.9246,
          0.9873,
          0.4767,
          0,
          0.9923,
          -0.983,
          -0.7146,
          0.9747,
          -0.9877,
          0.4939,
          0.8878,
          -0.7684,
          -0.6428,
          -0.9571,
          -0.8082,
          0.9897,
          0.722,
          -0.6593,
          -0.9186,
          0.9191,
          -0.6692,
          0.7184,
          0.9853,
          0.9974,
          0.9976,
          0.994,
          0.8832,
          -0.534,
          0.9528,
          0.9928,
          0.9545,
          -0.9694,
          -0.9666,
          0.7096,
          0.9421,
          -0.738,
          0.7845,
          0,
          0.782,
          -0.9912,
          -0.9153,
          0.9968,
          -0.4005,
          -0.9919,
          0.8236,
          0.4207,
          0.8906,
          0.7437,
          0.504,
          0.8176,
          0.4153,
          0.9893,
          -0.7622,
          0.6369,
          0.9945,
          0.9813,
          0.999,
          0.7243,
          -0.9898,
          0.8299,
          -0.8366,
          0.9549,
          0.9932,
          0.9783,
          -0.4882,
          0,
          -0.2406,
          0.9704
         ]
        }
       ],
       "layout": {
        "template": {
         "data": {
          "bar": [
           {
            "error_x": {
             "color": "#2a3f5f"
            },
            "error_y": {
             "color": "#2a3f5f"
            },
            "marker": {
             "line": {
              "color": "#E5ECF6",
              "width": 0.5
             }
            },
            "type": "bar"
           }
          ],
          "barpolar": [
           {
            "marker": {
             "line": {
              "color": "#E5ECF6",
              "width": 0.5
             }
            },
            "type": "barpolar"
           }
          ],
          "carpet": [
           {
            "aaxis": {
             "endlinecolor": "#2a3f5f",
             "gridcolor": "white",
             "linecolor": "white",
             "minorgridcolor": "white",
             "startlinecolor": "#2a3f5f"
            },
            "baxis": {
             "endlinecolor": "#2a3f5f",
             "gridcolor": "white",
             "linecolor": "white",
             "minorgridcolor": "white",
             "startlinecolor": "#2a3f5f"
            },
            "type": "carpet"
           }
          ],
          "choropleth": [
           {
            "colorbar": {
             "outlinewidth": 0,
             "ticks": ""
            },
            "type": "choropleth"
           }
          ],
          "contour": [
           {
            "colorbar": {
             "outlinewidth": 0,
             "ticks": ""
            },
            "colorscale": [
             [
              0,
              "#0d0887"
             ],
             [
              0.1111111111111111,
              "#46039f"
             ],
             [
              0.2222222222222222,
              "#7201a8"
             ],
             [
              0.3333333333333333,
              "#9c179e"
             ],
             [
              0.4444444444444444,
              "#bd3786"
             ],
             [
              0.5555555555555556,
              "#d8576b"
             ],
             [
              0.6666666666666666,
              "#ed7953"
             ],
             [
              0.7777777777777778,
              "#fb9f3a"
             ],
             [
              0.8888888888888888,
              "#fdca26"
             ],
             [
              1,
              "#f0f921"
             ]
            ],
            "type": "contour"
           }
          ],
          "contourcarpet": [
           {
            "colorbar": {
             "outlinewidth": 0,
             "ticks": ""
            },
            "type": "contourcarpet"
           }
          ],
          "heatmap": [
           {
            "colorbar": {
             "outlinewidth": 0,
             "ticks": ""
            },
            "colorscale": [
             [
              0,
              "#0d0887"
             ],
             [
              0.1111111111111111,
              "#46039f"
             ],
             [
              0.2222222222222222,
              "#7201a8"
             ],
             [
              0.3333333333333333,
              "#9c179e"
             ],
             [
              0.4444444444444444,
              "#bd3786"
             ],
             [
              0.5555555555555556,
              "#d8576b"
             ],
             [
              0.6666666666666666,
              "#ed7953"
             ],
             [
              0.7777777777777778,
              "#fb9f3a"
             ],
             [
              0.8888888888888888,
              "#fdca26"
             ],
             [
              1,
              "#f0f921"
             ]
            ],
            "type": "heatmap"
           }
          ],
          "heatmapgl": [
           {
            "colorbar": {
             "outlinewidth": 0,
             "ticks": ""
            },
            "colorscale": [
             [
              0,
              "#0d0887"
             ],
             [
              0.1111111111111111,
              "#46039f"
             ],
             [
              0.2222222222222222,
              "#7201a8"
             ],
             [
              0.3333333333333333,
              "#9c179e"
             ],
             [
              0.4444444444444444,
              "#bd3786"
             ],
             [
              0.5555555555555556,
              "#d8576b"
             ],
             [
              0.6666666666666666,
              "#ed7953"
             ],
             [
              0.7777777777777778,
              "#fb9f3a"
             ],
             [
              0.8888888888888888,
              "#fdca26"
             ],
             [
              1,
              "#f0f921"
             ]
            ],
            "type": "heatmapgl"
           }
          ],
          "histogram": [
           {
            "marker": {
             "colorbar": {
              "outlinewidth": 0,
              "ticks": ""
             }
            },
            "type": "histogram"
           }
          ],
          "histogram2d": [
           {
            "colorbar": {
             "outlinewidth": 0,
             "ticks": ""
            },
            "colorscale": [
             [
              0,
              "#0d0887"
             ],
             [
              0.1111111111111111,
              "#46039f"
             ],
             [
              0.2222222222222222,
              "#7201a8"
             ],
             [
              0.3333333333333333,
              "#9c179e"
             ],
             [
              0.4444444444444444,
              "#bd3786"
             ],
             [
              0.5555555555555556,
              "#d8576b"
             ],
             [
              0.6666666666666666,
              "#ed7953"
             ],
             [
              0.7777777777777778,
              "#fb9f3a"
             ],
             [
              0.8888888888888888,
              "#fdca26"
             ],
             [
              1,
              "#f0f921"
             ]
            ],
            "type": "histogram2d"
           }
          ],
          "histogram2dcontour": [
           {
            "colorbar": {
             "outlinewidth": 0,
             "ticks": ""
            },
            "colorscale": [
             [
              0,
              "#0d0887"
             ],
             [
              0.1111111111111111,
              "#46039f"
             ],
             [
              0.2222222222222222,
              "#7201a8"
             ],
             [
              0.3333333333333333,
              "#9c179e"
             ],
             [
              0.4444444444444444,
              "#bd3786"
             ],
             [
              0.5555555555555556,
              "#d8576b"
             ],
             [
              0.6666666666666666,
              "#ed7953"
             ],
             [
              0.7777777777777778,
              "#fb9f3a"
             ],
             [
              0.8888888888888888,
              "#fdca26"
             ],
             [
              1,
              "#f0f921"
             ]
            ],
            "type": "histogram2dcontour"
           }
          ],
          "mesh3d": [
           {
            "colorbar": {
             "outlinewidth": 0,
             "ticks": ""
            },
            "type": "mesh3d"
           }
          ],
          "parcoords": [
           {
            "line": {
             "colorbar": {
              "outlinewidth": 0,
              "ticks": ""
             }
            },
            "type": "parcoords"
           }
          ],
          "pie": [
           {
            "automargin": true,
            "type": "pie"
           }
          ],
          "scatter": [
           {
            "marker": {
             "colorbar": {
              "outlinewidth": 0,
              "ticks": ""
             }
            },
            "type": "scatter"
           }
          ],
          "scatter3d": [
           {
            "line": {
             "colorbar": {
              "outlinewidth": 0,
              "ticks": ""
             }
            },
            "marker": {
             "colorbar": {
              "outlinewidth": 0,
              "ticks": ""
             }
            },
            "type": "scatter3d"
           }
          ],
          "scattercarpet": [
           {
            "marker": {
             "colorbar": {
              "outlinewidth": 0,
              "ticks": ""
             }
            },
            "type": "scattercarpet"
           }
          ],
          "scattergeo": [
           {
            "marker": {
             "colorbar": {
              "outlinewidth": 0,
              "ticks": ""
             }
            },
            "type": "scattergeo"
           }
          ],
          "scattergl": [
           {
            "marker": {
             "colorbar": {
              "outlinewidth": 0,
              "ticks": ""
             }
            },
            "type": "scattergl"
           }
          ],
          "scattermapbox": [
           {
            "marker": {
             "colorbar": {
              "outlinewidth": 0,
              "ticks": ""
             }
            },
            "type": "scattermapbox"
           }
          ],
          "scatterpolar": [
           {
            "marker": {
             "colorbar": {
              "outlinewidth": 0,
              "ticks": ""
             }
            },
            "type": "scatterpolar"
           }
          ],
          "scatterpolargl": [
           {
            "marker": {
             "colorbar": {
              "outlinewidth": 0,
              "ticks": ""
             }
            },
            "type": "scatterpolargl"
           }
          ],
          "scatterternary": [
           {
            "marker": {
             "colorbar": {
              "outlinewidth": 0,
              "ticks": ""
             }
            },
            "type": "scatterternary"
           }
          ],
          "surface": [
           {
            "colorbar": {
             "outlinewidth": 0,
             "ticks": ""
            },
            "colorscale": [
             [
              0,
              "#0d0887"
             ],
             [
              0.1111111111111111,
              "#46039f"
             ],
             [
              0.2222222222222222,
              "#7201a8"
             ],
             [
              0.3333333333333333,
              "#9c179e"
             ],
             [
              0.4444444444444444,
              "#bd3786"
             ],
             [
              0.5555555555555556,
              "#d8576b"
             ],
             [
              0.6666666666666666,
              "#ed7953"
             ],
             [
              0.7777777777777778,
              "#fb9f3a"
             ],
             [
              0.8888888888888888,
              "#fdca26"
             ],
             [
              1,
              "#f0f921"
             ]
            ],
            "type": "surface"
           }
          ],
          "table": [
           {
            "cells": {
             "fill": {
              "color": "#EBF0F8"
             },
             "line": {
              "color": "white"
             }
            },
            "header": {
             "fill": {
              "color": "#C8D4E3"
             },
             "line": {
              "color": "white"
             }
            },
            "type": "table"
           }
          ]
         },
         "layout": {
          "annotationdefaults": {
           "arrowcolor": "#2a3f5f",
           "arrowhead": 0,
           "arrowwidth": 1
          },
          "coloraxis": {
           "colorbar": {
            "outlinewidth": 0,
            "ticks": ""
           }
          },
          "colorscale": {
           "diverging": [
            [
             0,
             "#8e0152"
            ],
            [
             0.1,
             "#c51b7d"
            ],
            [
             0.2,
             "#de77ae"
            ],
            [
             0.3,
             "#f1b6da"
            ],
            [
             0.4,
             "#fde0ef"
            ],
            [
             0.5,
             "#f7f7f7"
            ],
            [
             0.6,
             "#e6f5d0"
            ],
            [
             0.7,
             "#b8e186"
            ],
            [
             0.8,
             "#7fbc41"
            ],
            [
             0.9,
             "#4d9221"
            ],
            [
             1,
             "#276419"
            ]
           ],
           "sequential": [
            [
             0,
             "#0d0887"
            ],
            [
             0.1111111111111111,
             "#46039f"
            ],
            [
             0.2222222222222222,
             "#7201a8"
            ],
            [
             0.3333333333333333,
             "#9c179e"
            ],
            [
             0.4444444444444444,
             "#bd3786"
            ],
            [
             0.5555555555555556,
             "#d8576b"
            ],
            [
             0.6666666666666666,
             "#ed7953"
            ],
            [
             0.7777777777777778,
             "#fb9f3a"
            ],
            [
             0.8888888888888888,
             "#fdca26"
            ],
            [
             1,
             "#f0f921"
            ]
           ],
           "sequentialminus": [
            [
             0,
             "#0d0887"
            ],
            [
             0.1111111111111111,
             "#46039f"
            ],
            [
             0.2222222222222222,
             "#7201a8"
            ],
            [
             0.3333333333333333,
             "#9c179e"
            ],
            [
             0.4444444444444444,
             "#bd3786"
            ],
            [
             0.5555555555555556,
             "#d8576b"
            ],
            [
             0.6666666666666666,
             "#ed7953"
            ],
            [
             0.7777777777777778,
             "#fb9f3a"
            ],
            [
             0.8888888888888888,
             "#fdca26"
            ],
            [
             1,
             "#f0f921"
            ]
           ]
          },
          "colorway": [
           "#636efa",
           "#EF553B",
           "#00cc96",
           "#ab63fa",
           "#FFA15A",
           "#19d3f3",
           "#FF6692",
           "#B6E880",
           "#FF97FF",
           "#FECB52"
          ],
          "font": {
           "color": "#2a3f5f"
          },
          "geo": {
           "bgcolor": "white",
           "lakecolor": "white",
           "landcolor": "#E5ECF6",
           "showlakes": true,
           "showland": true,
           "subunitcolor": "white"
          },
          "hoverlabel": {
           "align": "left"
          },
          "hovermode": "closest",
          "mapbox": {
           "style": "light"
          },
          "paper_bgcolor": "white",
          "plot_bgcolor": "#E5ECF6",
          "polar": {
           "angularaxis": {
            "gridcolor": "white",
            "linecolor": "white",
            "ticks": ""
           },
           "bgcolor": "#E5ECF6",
           "radialaxis": {
            "gridcolor": "white",
            "linecolor": "white",
            "ticks": ""
           }
          },
          "scene": {
           "xaxis": {
            "backgroundcolor": "#E5ECF6",
            "gridcolor": "white",
            "gridwidth": 2,
            "linecolor": "white",
            "showbackground": true,
            "ticks": "",
            "zerolinecolor": "white"
           },
           "yaxis": {
            "backgroundcolor": "#E5ECF6",
            "gridcolor": "white",
            "gridwidth": 2,
            "linecolor": "white",
            "showbackground": true,
            "ticks": "",
            "zerolinecolor": "white"
           },
           "zaxis": {
            "backgroundcolor": "#E5ECF6",
            "gridcolor": "white",
            "gridwidth": 2,
            "linecolor": "white",
            "showbackground": true,
            "ticks": "",
            "zerolinecolor": "white"
           }
          },
          "shapedefaults": {
           "line": {
            "color": "#2a3f5f"
           }
          },
          "ternary": {
           "aaxis": {
            "gridcolor": "white",
            "linecolor": "white",
            "ticks": ""
           },
           "baxis": {
            "gridcolor": "white",
            "linecolor": "white",
            "ticks": ""
           },
           "bgcolor": "#E5ECF6",
           "caxis": {
            "gridcolor": "white",
            "linecolor": "white",
            "ticks": ""
           }
          },
          "title": {
           "x": 0.05
          },
          "xaxis": {
           "automargin": true,
           "gridcolor": "white",
           "linecolor": "white",
           "ticks": "",
           "title": {
            "standoff": 15
           },
           "zerolinecolor": "white",
           "zerolinewidth": 2
          },
          "yaxis": {
           "automargin": true,
           "gridcolor": "white",
           "linecolor": "white",
           "ticks": "",
           "title": {
            "standoff": 15
           },
           "zerolinecolor": "white",
           "zerolinewidth": 2
          }
         }
        },
        "title": {
         "text": "Beatles Tempo v. Sentiment"
        },
        "xaxis": {
         "title": {
          "text": "tempo"
         }
        },
        "yaxis": {
         "title": {
          "text": "sentiment"
         }
        }
       }
      },
      "text/html": [
       "<div>\n",
       "        \n",
       "        \n",
       "            <div id=\"c6eaa051-1b33-4254-adb9-928861c5e236\" class=\"plotly-graph-div\" style=\"height:525px; width:100%;\"></div>\n",
       "            <script type=\"text/javascript\">\n",
       "                require([\"plotly\"], function(Plotly) {\n",
       "                    window.PLOTLYENV=window.PLOTLYENV || {};\n",
       "                    \n",
       "                if (document.getElementById(\"c6eaa051-1b33-4254-adb9-928861c5e236\")) {\n",
       "                    Plotly.newPlot(\n",
       "                        'c6eaa051-1b33-4254-adb9-928861c5e236',\n",
       "                        [{\"marker\": {\"color\": [1968, 1963, 1963, 1967, 1964, 1966, 1965, 1964, 1963, 1967, 1964, 1968, 1969, 1967, 1968, 1968, 1967, 1964, 1969, 1969, 1968, 1968, 1967, 1968, 1969, 1969, 1966, 1963, 1968, 1965, 1964, 1966, 1969, 1964, 1968, 1967, 1967, 1966, 1969, 1969, 1967, 1965, 1968, 1969, 1966, 1967, 1968, 1968, 1964, 1967, 1965, 1968, 1969, 1969, 1966, 1963, 1968, 1967, 1964, 1970, 1965, 1963, 1964, 1963, 1966, 1969, 1968, 1964, 1965, 1964, 1964, 1964, 1964, 1964, 1965, 1966, 1968, 1965, 1963, 1965, 1969, 1965, 1968, 1969, 1963, 1969, 1968, 1966, 1967, 1967, 1967, 1968, 1969, 1969, 1965, 1963, 1968, 1965, 1964, 1965, 1963, 1965, 1968, 1969, 1969, 1969, 1966, 1968, 1962, 1969, 1962, 1968, 1968, 1968, 1965, 1968, 1968, 1967, 1967, 1966, 1967, 1969, 1966, 1969, 1966, 1965, 1964, 1963, 1964, 1965, 1965, 1966, 1969, 1965, 1965, 1964, 1964, 1966, 1968, 1968, 1968, 1967, 1967, 1965, 1966, 1968, 1965, 1964, 1967, 1965, 1969, 1965, 1967, 1965, 1965]}, \"mode\": \"markers\", \"text\": [\"Across the Universe\", \"All I've Got to Do\", \"All My Loving\", \"All You Need Is Love\", \"And I Love Her\", \"And Your Bird Can Sing\", \"Another Girl\", \"Any Time at All\", \"Ask Me Why\", \"Baby, You're a Rich Man\", \"Baby's in Black\", \"Back in the U.S.S.R.\", \"Because\", \"Being for the Benefit of Mr. Kite!\", \"Birthday\", \"Blackbird\", \"Blue Jay Way\", \"Can't Buy Me Love\", \"Carry That Weight\", \"Come Together\", \"The Continuing Story of Bungalow Bill\", \"Cry Baby Cry\", \"A Day in the Life\", \"Dear Prudence\", \"Dig a Pony\", \"Dig It\", \"Doctor Robert\", \"Don't Bother Me\", \"Don't Pass Me By\", \"Drive My Car\", \"Eight Days a Week\", \"Eleanor Rigby\", \"The End\", \"Every Little Thing\", \"Everybody's Got Something to Hide Except Me and My Monkey\", \"Fixing a Hole\", \"The Fool on the Hill\", \"For No One\", \"For You Blue\", \"Get Back\", \"Getting Better\", \"Girl\", \"Glass Onion\", \"Golden Slumbers\", \"Good Day Sunshine\", \"Good Morning Good Morning\", \"Good Night\", \"Happiness Is a Warm Gun\", \"A Hard Day's Night\", \"Hello, Goodbye\", \"Help!\", \"Helter Skelter\", \"Her Majesty\", \"Here Comes the Sun\", \"Here, There and Everywhere\", \"Hold Me Tight\", \"Honey Pie\", \"I Am the Walrus\", \"I Don't Want to Spoil the Party\", \"I Me Mine\", \"I Need You\", \"I Saw Her Standing There\", \"I Should Have Known Better\", \"I Wanna Be Your Man\", \"I Want to Tell You\", \"I Want You (She's So Heavy)\", \"I Will\", \"If I Fell\", \"If I Needed Someone\", \"I'll Be Back\", \"I'll Cry Instead\", \"I'll Follow the Sun\", \"I'm a Loser\", \"I'm Happy Just to Dance with You\", \"I'm Looking Through You\", \"I'm Only Sleeping\", \"I'm So Tired\", \"In My Life\", \"It Won't Be Long\", \"It's Only Love\", \"I've Got a Feeling\", \"I've Just Seen a Face\", \"Julia\", \"Let It Be\", \"Little Child\", \"The Long and Winding Road\", \"Long, Long, Long\", \"Love You To\", \"Lovely Rita\", \"Lucy in the Sky with Diamonds\", \"Magical Mystery Tour\", \"Martha My Dear\", \"Maxwell's Silver Hammer\", \"Mean Mr. Mustard\", \"Michelle\", \"Misery\", \"Mother Nature's Son\", \"The Night Before\", \"No Reply\", \"Norwegian Wood (This Bird Has Flown)\", \"Not a Second Time\", \"Nowhere Man\", \"Ob-La-Di, Ob-La-Da\", \"Octopus's Garden\", \"Oh! Darling\", \"One After 909\", \"Penny Lane\", \"Piggies\", \"Please Please Me\", \"Polythene Pam\", \"P.S. I Love You\", \"Revolution 1\", \"Revolution 9\", \"Rocky Raccoon\", \"Run for Your Life\", \"Savoy Truffle\", \"Sexy Sadie\", \"Sgt. Pepper's Lonely Hearts Club Band\", \"Sgt. Pepper's Lonely Hearts Club Band (Reprise)\", \"She Said She Said\", \"She's Leaving Home\", \"Something\", \"Strawberry Fields Forever\", \"Sun King\", \"Taxman\", \"Tell Me What You See\", \"Tell Me Why\", \"There's a Place\", \"Things We Said Today\", \"Think for Yourself\", \"Ticket to Ride\", \"Tomorrow Never Knows\", \"Two of Us\", \"Wait\", \"What Goes On\", \"What You're Doing\", \"When I Get Home\", \"When I'm Sixty-Four\", \"While My Guitar Gently Weeps\", \"Why Don't We Do It in the Road?\", \"Wild Honey Pie\", \"With a Little Help from My Friends\", \"Within You Without You\", \"The Word\", \"Yellow Submarine\", \"Yer Blues\", \"Yesterday\", \"You Can't Do That\", \"You Know My Name (Look Up the Number)\", \"You Like Me Too Much\", \"You Never Give Me Your Money\", \"You Won't See Me\", \"Your Mother Should Know\", \"You're Going to Lose That Girl\", \"You've Got to Hide Your Love Away\"], \"type\": \"scatter\", \"x\": [161.4990234375, 117.45383522727273, 151.99908088235293, 99.38401442307692, 117.45383522727273, 135.99917763157896, 89.10290948275862, 143.5546875, 135.99917763157896, 95.703125, 103.359375, 143.5546875, 151.99908088235293, 112.34714673913044, 143.5546875, 92.28515625, 123.046875, 172.265625, 112.34714673913044, 161.4990234375, 117.45383522727273, 151.99908088235293, 151.99908088235293, 99.38401442307692, 123.046875, 103.359375, 161.4990234375, 172.265625, 172.265625, 123.046875, 135.99917763157896, 135.99917763157896, 112.34714673913044, 123.046875, 117.45383522727273, 107.666015625, 143.5546875, 161.4990234375, 129.19921875, 123.046875, 117.45383522727273, 95.703125, 123.046875, 112.34714673913044, 117.45383522727273, 123.046875, 129.19921875, 143.5546875, 135.99917763157896, 99.38401442307692, 95.703125, 112.34714673913044, 112.34714673913044, 129.19921875, 161.4990234375, 135.99917763157896, 143.5546875, 83.35433467741936, 95.703125, 129.19921875, 135.99917763157896, 161.4990234375, 129.19921875, 99.38401442307692, 129.19921875, 117.45383522727273, 103.359375, 107.666015625, 129.19921875, 123.046875, 95.703125, 135.99917763157896, 172.265625, 129.19921875, 86.1328125, 103.359375, 135.99917763157896, 103.359375, 135.99917763157896, 112.34714673913044, 161.4990234375, 117.45383522727273, 135.99917763157896, 143.5546875, 151.99908088235293, 135.99917763157896, 107.666015625, 123.046875, 89.10290948275862, 135.99917763157896, 161.4990234375, 184.5703125, 129.19921875, 151.99908088235293, 117.45383522727273, 135.99917763157896, 172.265625, 112.34714673913044, 123.046875, 92.28515625, 123.046875, 123.046875, 112.34714673913044, 92.28515625, 172.265625, 92.28515625, 112.34714673913044, 89.10290948275862, 135.99917763157896, 151.99908088235293, 135.99917763157896, 95.703125, 151.99908088235293, 151.99908088235293, 89.10290948275862, 123.046875, 151.99908088235293, 95.703125, 117.45383522727273, 112.34714673913044, 129.19921875, 135.99917763157896, 92.28515625, 151.99908088235293, 135.99917763157896, 135.99917763157896, 151.99908088235293, 143.5546875, 135.99917763157896, 129.19921875, 123.046875, 129.19921875, 112.34714673913044, 129.19921875, 95.703125, 129.19921875, 129.19921875, 135.99917763157896, 112.34714673913044, 95.703125, 89.10290948275862, 112.34714673913044, 117.45383522727273, 123.046875, 112.34714673913044, 151.99908088235293, 95.703125, 129.19921875, 89.10290948275862, 89.10290948275862, 161.4990234375, 117.45383522727273, 117.45383522727273, 129.19921875, 92.28515625], \"y\": [0.9313, 0.9623, 0.9888, 0.9995, 0.997, 0.1531, 0.9718, -0.25, 0.9831, 0.9957, 0.9064, 0.9614, 0.9403, 0.9368, 0.9215, -0.9501, 0.9776, -0.9888, 0.0, -0.1941, -0.9979, -0.995, 0.9595, 0.991, 0.9909, 0.7579, 0.9947, -0.5818, -0.8919, 0.9964, 0.9969, -0.9791, 0.999, 0.991, -0.2481, -0.9357, -0.836, 0.5645, 0.9965, 0.907, 0.9882, 0.9286, 0.607, 0.9845, 0.9989, 0.9995, 0.9831, 0.9725, 0.988, -0.8834, 0.992, 0.9967, 0.9835, 0.9841, 0.9948, 0.8485, 0.5821, -0.9565, 0.773, -0.1063, -0.5781, 0.2732, 0.9932, 0.995, 0.2617, -0.9972, 0.9877, 0.9956, 0.8859, 0.8844, 0.9856, 0.9512, -0.6486, 0.9933, -0.8138, 0.7054, -0.9871, 0.9173, 0.9531, 0.9936, 0.9905, -0.6306, 0.9886, 0.9423, -0.7652, -0.595, 0.9449, 0.9246, 0.9873, 0.4767, 0.0, 0.9923, -0.983, -0.7146, 0.9747, -0.9877, 0.4939, 0.8878, -0.7684, -0.6428, -0.9571, -0.8082, 0.9897, 0.722, -0.6593, -0.9186, 0.9191, -0.6692, 0.7184, 0.9853, 0.9974, 0.9976, 0.994, 0.8832, -0.534, 0.9528, 0.9928, 0.9545, -0.9694, -0.9666, 0.7096, 0.9421, -0.738, 0.7845, 0.0, 0.782, -0.9912, -0.9153, 0.9968, -0.4005, -0.9919, 0.8236, 0.4207, 0.8906, 0.7437, 0.504, 0.8176, 0.4153, 0.9893, -0.7622, 0.6369, 0.9945, 0.9813, 0.999, 0.7243, -0.9898, 0.8299, -0.8366, 0.9549, 0.9932, 0.9783, -0.4882, 0.0, -0.2406, 0.9704]}],\n",
       "                        {\"template\": {\"data\": {\"bar\": [{\"error_x\": {\"color\": \"#2a3f5f\"}, \"error_y\": {\"color\": \"#2a3f5f\"}, \"marker\": {\"line\": {\"color\": \"#E5ECF6\", \"width\": 0.5}}, \"type\": \"bar\"}], \"barpolar\": [{\"marker\": {\"line\": {\"color\": \"#E5ECF6\", \"width\": 0.5}}, \"type\": \"barpolar\"}], \"carpet\": [{\"aaxis\": {\"endlinecolor\": \"#2a3f5f\", \"gridcolor\": \"white\", \"linecolor\": \"white\", \"minorgridcolor\": \"white\", \"startlinecolor\": \"#2a3f5f\"}, \"baxis\": {\"endlinecolor\": \"#2a3f5f\", \"gridcolor\": \"white\", \"linecolor\": \"white\", \"minorgridcolor\": \"white\", \"startlinecolor\": \"#2a3f5f\"}, \"type\": \"carpet\"}], \"choropleth\": [{\"colorbar\": {\"outlinewidth\": 0, \"ticks\": \"\"}, \"type\": \"choropleth\"}], \"contour\": [{\"colorbar\": {\"outlinewidth\": 0, \"ticks\": \"\"}, \"colorscale\": [[0.0, \"#0d0887\"], [0.1111111111111111, \"#46039f\"], [0.2222222222222222, \"#7201a8\"], [0.3333333333333333, \"#9c179e\"], [0.4444444444444444, \"#bd3786\"], [0.5555555555555556, \"#d8576b\"], [0.6666666666666666, \"#ed7953\"], [0.7777777777777778, \"#fb9f3a\"], [0.8888888888888888, \"#fdca26\"], [1.0, \"#f0f921\"]], \"type\": \"contour\"}], \"contourcarpet\": [{\"colorbar\": {\"outlinewidth\": 0, \"ticks\": \"\"}, \"type\": \"contourcarpet\"}], \"heatmap\": [{\"colorbar\": {\"outlinewidth\": 0, \"ticks\": \"\"}, \"colorscale\": [[0.0, \"#0d0887\"], [0.1111111111111111, \"#46039f\"], [0.2222222222222222, \"#7201a8\"], [0.3333333333333333, \"#9c179e\"], [0.4444444444444444, \"#bd3786\"], [0.5555555555555556, \"#d8576b\"], [0.6666666666666666, \"#ed7953\"], [0.7777777777777778, \"#fb9f3a\"], [0.8888888888888888, \"#fdca26\"], [1.0, \"#f0f921\"]], \"type\": \"heatmap\"}], \"heatmapgl\": [{\"colorbar\": {\"outlinewidth\": 0, \"ticks\": \"\"}, \"colorscale\": [[0.0, \"#0d0887\"], [0.1111111111111111, \"#46039f\"], [0.2222222222222222, \"#7201a8\"], [0.3333333333333333, \"#9c179e\"], [0.4444444444444444, \"#bd3786\"], [0.5555555555555556, \"#d8576b\"], [0.6666666666666666, \"#ed7953\"], [0.7777777777777778, \"#fb9f3a\"], [0.8888888888888888, \"#fdca26\"], [1.0, \"#f0f921\"]], \"type\": \"heatmapgl\"}], \"histogram\": [{\"marker\": {\"colorbar\": {\"outlinewidth\": 0, \"ticks\": \"\"}}, \"type\": \"histogram\"}], \"histogram2d\": [{\"colorbar\": {\"outlinewidth\": 0, \"ticks\": \"\"}, \"colorscale\": [[0.0, \"#0d0887\"], [0.1111111111111111, \"#46039f\"], [0.2222222222222222, \"#7201a8\"], [0.3333333333333333, \"#9c179e\"], [0.4444444444444444, \"#bd3786\"], [0.5555555555555556, \"#d8576b\"], [0.6666666666666666, \"#ed7953\"], [0.7777777777777778, \"#fb9f3a\"], [0.8888888888888888, \"#fdca26\"], [1.0, \"#f0f921\"]], \"type\": \"histogram2d\"}], \"histogram2dcontour\": [{\"colorbar\": {\"outlinewidth\": 0, \"ticks\": \"\"}, \"colorscale\": [[0.0, \"#0d0887\"], [0.1111111111111111, \"#46039f\"], [0.2222222222222222, \"#7201a8\"], [0.3333333333333333, \"#9c179e\"], [0.4444444444444444, \"#bd3786\"], [0.5555555555555556, \"#d8576b\"], [0.6666666666666666, \"#ed7953\"], [0.7777777777777778, \"#fb9f3a\"], [0.8888888888888888, \"#fdca26\"], [1.0, \"#f0f921\"]], \"type\": \"histogram2dcontour\"}], \"mesh3d\": [{\"colorbar\": {\"outlinewidth\": 0, \"ticks\": \"\"}, \"type\": \"mesh3d\"}], \"parcoords\": [{\"line\": {\"colorbar\": {\"outlinewidth\": 0, \"ticks\": \"\"}}, \"type\": \"parcoords\"}], \"pie\": [{\"automargin\": true, \"type\": \"pie\"}], \"scatter\": [{\"marker\": {\"colorbar\": {\"outlinewidth\": 0, \"ticks\": \"\"}}, \"type\": \"scatter\"}], \"scatter3d\": [{\"line\": {\"colorbar\": {\"outlinewidth\": 0, \"ticks\": \"\"}}, \"marker\": {\"colorbar\": {\"outlinewidth\": 0, \"ticks\": \"\"}}, \"type\": \"scatter3d\"}], \"scattercarpet\": [{\"marker\": {\"colorbar\": {\"outlinewidth\": 0, \"ticks\": \"\"}}, \"type\": \"scattercarpet\"}], \"scattergeo\": [{\"marker\": {\"colorbar\": {\"outlinewidth\": 0, \"ticks\": \"\"}}, \"type\": \"scattergeo\"}], \"scattergl\": [{\"marker\": {\"colorbar\": {\"outlinewidth\": 0, \"ticks\": \"\"}}, \"type\": \"scattergl\"}], \"scattermapbox\": [{\"marker\": {\"colorbar\": {\"outlinewidth\": 0, \"ticks\": \"\"}}, \"type\": \"scattermapbox\"}], \"scatterpolar\": [{\"marker\": {\"colorbar\": {\"outlinewidth\": 0, \"ticks\": \"\"}}, \"type\": \"scatterpolar\"}], \"scatterpolargl\": [{\"marker\": {\"colorbar\": {\"outlinewidth\": 0, \"ticks\": \"\"}}, \"type\": \"scatterpolargl\"}], \"scatterternary\": [{\"marker\": {\"colorbar\": {\"outlinewidth\": 0, \"ticks\": \"\"}}, \"type\": \"scatterternary\"}], \"surface\": [{\"colorbar\": {\"outlinewidth\": 0, \"ticks\": \"\"}, \"colorscale\": [[0.0, \"#0d0887\"], [0.1111111111111111, \"#46039f\"], [0.2222222222222222, \"#7201a8\"], [0.3333333333333333, \"#9c179e\"], [0.4444444444444444, \"#bd3786\"], [0.5555555555555556, \"#d8576b\"], [0.6666666666666666, \"#ed7953\"], [0.7777777777777778, \"#fb9f3a\"], [0.8888888888888888, \"#fdca26\"], [1.0, \"#f0f921\"]], \"type\": \"surface\"}], \"table\": [{\"cells\": {\"fill\": {\"color\": \"#EBF0F8\"}, \"line\": {\"color\": \"white\"}}, \"header\": {\"fill\": {\"color\": \"#C8D4E3\"}, \"line\": {\"color\": \"white\"}}, \"type\": \"table\"}]}, \"layout\": {\"annotationdefaults\": {\"arrowcolor\": \"#2a3f5f\", \"arrowhead\": 0, \"arrowwidth\": 1}, \"coloraxis\": {\"colorbar\": {\"outlinewidth\": 0, \"ticks\": \"\"}}, \"colorscale\": {\"diverging\": [[0, \"#8e0152\"], [0.1, \"#c51b7d\"], [0.2, \"#de77ae\"], [0.3, \"#f1b6da\"], [0.4, \"#fde0ef\"], [0.5, \"#f7f7f7\"], [0.6, \"#e6f5d0\"], [0.7, \"#b8e186\"], [0.8, \"#7fbc41\"], [0.9, \"#4d9221\"], [1, \"#276419\"]], \"sequential\": [[0.0, \"#0d0887\"], [0.1111111111111111, \"#46039f\"], [0.2222222222222222, \"#7201a8\"], [0.3333333333333333, \"#9c179e\"], [0.4444444444444444, \"#bd3786\"], [0.5555555555555556, \"#d8576b\"], [0.6666666666666666, \"#ed7953\"], [0.7777777777777778, \"#fb9f3a\"], [0.8888888888888888, \"#fdca26\"], [1.0, \"#f0f921\"]], \"sequentialminus\": [[0.0, \"#0d0887\"], [0.1111111111111111, \"#46039f\"], [0.2222222222222222, \"#7201a8\"], [0.3333333333333333, \"#9c179e\"], [0.4444444444444444, \"#bd3786\"], [0.5555555555555556, \"#d8576b\"], [0.6666666666666666, \"#ed7953\"], [0.7777777777777778, \"#fb9f3a\"], [0.8888888888888888, \"#fdca26\"], [1.0, \"#f0f921\"]]}, \"colorway\": [\"#636efa\", \"#EF553B\", \"#00cc96\", \"#ab63fa\", \"#FFA15A\", \"#19d3f3\", \"#FF6692\", \"#B6E880\", \"#FF97FF\", \"#FECB52\"], \"font\": {\"color\": \"#2a3f5f\"}, \"geo\": {\"bgcolor\": \"white\", \"lakecolor\": \"white\", \"landcolor\": \"#E5ECF6\", \"showlakes\": true, \"showland\": true, \"subunitcolor\": \"white\"}, \"hoverlabel\": {\"align\": \"left\"}, \"hovermode\": \"closest\", \"mapbox\": {\"style\": \"light\"}, \"paper_bgcolor\": \"white\", \"plot_bgcolor\": \"#E5ECF6\", \"polar\": {\"angularaxis\": {\"gridcolor\": \"white\", \"linecolor\": \"white\", \"ticks\": \"\"}, \"bgcolor\": \"#E5ECF6\", \"radialaxis\": {\"gridcolor\": \"white\", \"linecolor\": \"white\", \"ticks\": \"\"}}, \"scene\": {\"xaxis\": {\"backgroundcolor\": \"#E5ECF6\", \"gridcolor\": \"white\", \"gridwidth\": 2, \"linecolor\": \"white\", \"showbackground\": true, \"ticks\": \"\", \"zerolinecolor\": \"white\"}, \"yaxis\": {\"backgroundcolor\": \"#E5ECF6\", \"gridcolor\": \"white\", \"gridwidth\": 2, \"linecolor\": \"white\", \"showbackground\": true, \"ticks\": \"\", \"zerolinecolor\": \"white\"}, \"zaxis\": {\"backgroundcolor\": \"#E5ECF6\", \"gridcolor\": \"white\", \"gridwidth\": 2, \"linecolor\": \"white\", \"showbackground\": true, \"ticks\": \"\", \"zerolinecolor\": \"white\"}}, \"shapedefaults\": {\"line\": {\"color\": \"#2a3f5f\"}}, \"ternary\": {\"aaxis\": {\"gridcolor\": \"white\", \"linecolor\": \"white\", \"ticks\": \"\"}, \"baxis\": {\"gridcolor\": \"white\", \"linecolor\": \"white\", \"ticks\": \"\"}, \"bgcolor\": \"#E5ECF6\", \"caxis\": {\"gridcolor\": \"white\", \"linecolor\": \"white\", \"ticks\": \"\"}}, \"title\": {\"x\": 0.05}, \"xaxis\": {\"automargin\": true, \"gridcolor\": \"white\", \"linecolor\": \"white\", \"ticks\": \"\", \"title\": {\"standoff\": 15}, \"zerolinecolor\": \"white\", \"zerolinewidth\": 2}, \"yaxis\": {\"automargin\": true, \"gridcolor\": \"white\", \"linecolor\": \"white\", \"ticks\": \"\", \"title\": {\"standoff\": 15}, \"zerolinecolor\": \"white\", \"zerolinewidth\": 2}}}, \"title\": {\"text\": \"Beatles Tempo v. Sentiment\"}, \"xaxis\": {\"title\": {\"text\": \"tempo\"}}, \"yaxis\": {\"title\": {\"text\": \"sentiment\"}}},\n",
       "                        {\"responsive\": true}\n",
       "                    ).then(function(){\n",
       "                            \n",
       "var gd = document.getElementById('c6eaa051-1b33-4254-adb9-928861c5e236');\n",
       "var x = new MutationObserver(function (mutations, observer) {{\n",
       "        var display = window.getComputedStyle(gd).display;\n",
       "        if (!display || display === 'none') {{\n",
       "            console.log([gd, 'removed!']);\n",
       "            Plotly.purge(gd);\n",
       "            observer.disconnect();\n",
       "        }}\n",
       "}});\n",
       "\n",
       "// Listen for the removal of the full notebook cells\n",
       "var notebookContainer = gd.closest('#notebook-container');\n",
       "if (notebookContainer) {{\n",
       "    x.observe(notebookContainer, {childList: true});\n",
       "}}\n",
       "\n",
       "// Listen for the clearing of the current output cell\n",
       "var outputEl = gd.closest('.output');\n",
       "if (outputEl) {{\n",
       "    x.observe(outputEl, {childList: true});\n",
       "}}\n",
       "\n",
       "                        })\n",
       "                };\n",
       "                });\n",
       "            </script>\n",
       "        </div>"
      ]
     },
     "metadata": {},
     "output_type": "display_data"
    }
   ],
   "source": [
    "fig = go.Figure(data=go.Scatter(x=sentiment_info['tempos'],\n",
    "                                y=sentiment_info['sentiment'],\n",
    "                                mode='markers',\n",
    "                                marker_color=info['year'],\n",
    "                                text=info['title']))\n",
    "\n",
    "fig.update_layout(title='Beatles Tempo v. Sentiment', yaxis_title=\"sentiment\", xaxis_title=\"tempo\")\n",
    "fig.show()"
   ]
  },
  {
   "cell_type": "markdown",
   "metadata": {},
   "source": [
    "It seems like there's not obvious correlation between tempo and and sentiment. So, we will move forward with our analysis by using the mfcc."
   ]
  },
  {
   "cell_type": "markdown",
   "metadata": {},
   "source": [
    "For the sake of this analysis, any sentiment above 0.34 is considered positive, and anything below -0.33 is negative. Any sentiment between -0.33 and 0.34 is considered neutral. 0 will be negative, 1 will be neutral, and 2 will be positive."
   ]
  },
  {
   "cell_type": "code",
   "execution_count": 455,
   "metadata": {},
   "outputs": [
    {
     "name": "stderr",
     "output_type": "stream",
     "text": [
      "//anaconda3/lib/python3.7/site-packages/ipykernel_launcher.py:1: SettingWithCopyWarning: \n",
      "A value is trying to be set on a copy of a slice from a DataFrame.\n",
      "Try using .loc[row_indexer,col_indexer] = value instead\n",
      "\n",
      "See the caveats in the documentation: http://pandas.pydata.org/pandas-docs/stable/indexing.html#indexing-view-versus-copy\n",
      "  \"\"\"Entry point for launching an IPython kernel.\n"
     ]
    }
   ],
   "source": [
    "sentiment_info[\"sentiment\"] = sentiment_info[\"sentiment\"].apply(classify_sentiment)"
   ]
  },
  {
   "cell_type": "code",
   "execution_count": 453,
   "metadata": {},
   "outputs": [],
   "source": [
    "def classify_sentiment(x):\n",
    "    if x <= -0.33:\n",
    "        return 0\n",
    "    elif x >= 0.34:\n",
    "        return 2\n",
    "    else:\n",
    "        return 1"
   ]
  },
  {
   "cell_type": "markdown",
   "metadata": {},
   "source": [
    "## Train Model\n",
    "We will train our model using scikit learn.\n",
    "\n",
    "Firs, we will preprocess our data."
   ]
  },
  {
   "cell_type": "code",
   "execution_count": 496,
   "metadata": {},
   "outputs": [],
   "source": [
    "from sklearn.preprocessing import StandardScaler\n",
    "from sklearn.compose import ColumnTransformer\n",
    "from sklearn.model_selection import train_test_split\n",
    "from sklearn.linear_model import LinearRegression\n",
    "from sklearn.svm import LinearSVC\n",
    "import sklearn"
   ]
  },
  {
   "cell_type": "code",
   "execution_count": 458,
   "metadata": {},
   "outputs": [],
   "source": [
    "def scale_col(arr):\n",
    "    scale = StandardScaler()\n",
    "    scale.fit(arr)\n",
    "    return scale.transform(arr)"
   ]
  },
  {
   "cell_type": "code",
   "execution_count": 459,
   "metadata": {},
   "outputs": [
    {
     "name": "stderr",
     "output_type": "stream",
     "text": [
      "//anaconda3/lib/python3.7/site-packages/ipykernel_launcher.py:1: SettingWithCopyWarning: \n",
      "A value is trying to be set on a copy of a slice from a DataFrame.\n",
      "Try using .loc[row_indexer,col_indexer] = value instead\n",
      "\n",
      "See the caveats in the documentation: http://pandas.pydata.org/pandas-docs/stable/indexing.html#indexing-view-versus-copy\n",
      "  \"\"\"Entry point for launching an IPython kernel.\n"
     ]
    }
   ],
   "source": [
    "sentiment_info[\"mfccs\"] = sentiment_info[\"mfccs\"].apply(scale_col)"
   ]
  },
  {
   "cell_type": "code",
   "execution_count": 460,
   "metadata": {},
   "outputs": [],
   "source": [
    "X_train, X_test, y_train, y_test = train_test_split(sentiment_info[[\"tempos\", \"mfccs\"]], sentiment_info[\"sentiment\"], test_size=0.33)"
   ]
  },
  {
   "cell_type": "markdown",
   "metadata": {},
   "source": [
    "Next, we will fit our model."
   ]
  },
  {
   "cell_type": "code",
   "execution_count": 570,
   "metadata": {},
   "outputs": [],
   "source": [
    "def parse_labels(df):\n",
    "    mfccs = df[\"mfccs\"]\n",
    "    labels = []\n",
    "    length = len(df[\"mfccs\"].iloc[0])\n",
    "    for row in range(len(mfccs)):\n",
    "        ls = [i * df.iloc[row][\"sentiment\"] for i in np.ones(length).tolist()]\n",
    "        labels += ls\n",
    "    return labels\n",
    "    "
   ]
  },
  {
   "cell_type": "code",
   "execution_count": 576,
   "metadata": {},
   "outputs": [],
   "source": [
    "def parse_features(df):\n",
    "    features = []\n",
    "    for row in range(len(df[\"mfccs\"])):\n",
    "        features += df[\"mfccs\"].iloc[row].tolist()\n",
    "    return features"
   ]
  },
  {
   "cell_type": "code",
   "execution_count": null,
   "metadata": {},
   "outputs": [],
   "source": [
    "X_train[\"sentiment\"] = y_train"
   ]
  },
  {
   "cell_type": "code",
   "execution_count": 548,
   "metadata": {},
   "outputs": [],
   "source": [
    "features = np.asarray(parse_features(X_train))\n",
    "labels = np.asarray(parse_labels(X_train))"
   ]
  },
  {
   "cell_type": "code",
   "execution_count": null,
   "metadata": {},
   "outputs": [],
   "source": [
    "#warning: cell below takes a few hours to run"
   ]
  },
  {
   "cell_type": "code",
   "execution_count": 559,
   "metadata": {},
   "outputs": [
    {
     "data": {
      "text/plain": [
       "SVC(C=1.0, cache_size=200, class_weight=None, coef0=0.0,\n",
       "    decision_function_shape='ovr', degree=3, gamma='auto_deprecated',\n",
       "    kernel='rbf', max_iter=-1, probability=False, random_state=None,\n",
       "    shrinking=True, tol=0.001, verbose=False)"
      ]
     },
     "execution_count": 559,
     "metadata": {},
     "output_type": "execute_result"
    }
   ],
   "source": [
    "# model = sklearn.svm.SVC()\n",
    "# model.fit(features, labels)"
   ]
  },
  {
   "cell_type": "code",
   "execution_count": 567,
   "metadata": {},
   "outputs": [],
   "source": [
    "X_test[\"sentiment\"] = y_test"
   ]
  },
  {
   "cell_type": "code",
   "execution_count": 573,
   "metadata": {},
   "outputs": [],
   "source": [
    "test_labels = parse_labels(X_test)"
   ]
  },
  {
   "cell_type": "code",
   "execution_count": 577,
   "metadata": {},
   "outputs": [],
   "source": [
    "test_features = parse_features(X_test)"
   ]
  },
  {
   "cell_type": "code",
   "execution_count": 580,
   "metadata": {},
   "outputs": [],
   "source": [
    "pred = model.predict(test_features)"
   ]
  },
  {
   "cell_type": "markdown",
   "metadata": {},
   "source": [
    "Result is below."
   ]
  },
  {
   "cell_type": "code",
   "execution_count": 639,
   "metadata": {},
   "outputs": [
    {
     "data": {
      "text/plain": [
       "0.6717466609527891"
      ]
     },
     "execution_count": 639,
     "metadata": {},
     "output_type": "execute_result"
    }
   ],
   "source": [
    "(pred == test_labels).mean()"
   ]
  },
  {
   "cell_type": "code",
   "execution_count": null,
   "metadata": {},
   "outputs": [],
   "source": []
  }
 ],
 "metadata": {
  "kernelspec": {
   "display_name": "Python 3",
   "language": "python",
   "name": "python3"
  },
  "language_info": {
   "codemirror_mode": {
    "name": "ipython",
    "version": 3
   },
   "file_extension": ".py",
   "mimetype": "text/x-python",
   "name": "python",
   "nbconvert_exporter": "python",
   "pygments_lexer": "ipython3",
   "version": "3.7.6"
  }
 },
 "nbformat": 4,
 "nbformat_minor": 2
}
