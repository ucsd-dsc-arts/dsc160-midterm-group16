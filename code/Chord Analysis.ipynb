{
 "cells": [
  {
   "cell_type": "markdown",
   "metadata": {},
   "source": [
    "# Chord Analysis"
   ]
  },
  {
   "cell_type": "code",
   "execution_count": 1,
   "metadata": {},
   "outputs": [],
   "source": [
    "import pandas as pd\n",
    "import numpy as np\n",
    "import os\n",
    "import matplotlib as plt"
   ]
  },
  {
   "cell_type": "code",
   "execution_count": 3,
   "metadata": {},
   "outputs": [],
   "source": [
    "#load all csv's with chords\n",
    "songs = os.listdir('../data/metadata/chords/')\n",
    "\n",
    "#organize all data into one df \n",
    "begin = []\n",
    "end = []\n",
    "chord = []\n",
    "song_number = []\n",
    "for i in range(len(songs)): \n",
    "    df = pd.read_csv('../data/metadata/chords/'+songs[i])\n",
    "    try:\n",
    "        begin.append(list(df['begin']))\n",
    "        end.append(list(df['end']))\n",
    "        chord.append(list(df['chord']))\n",
    "        song_number.append([i]*len(df['begin']))\n",
    "    except: \n",
    "        continue\n",
    "begin = [item for sublist in begin for item in sublist]\n",
    "end = [item for sublist in end for item in sublist]\n",
    "chord = [item for sublist in chord for item in sublist]\n",
    "song_number = [item for sublist in song_number for item in sublist]"
   ]
  },
  {
   "cell_type": "code",
   "execution_count": 5,
   "metadata": {},
   "outputs": [],
   "source": [
    "df = pd.DataFrame({'begin':begin,\n",
    "                    'end':end,\n",
    "                    'chord':chord,\n",
    "                    'song number':song_number})"
   ]
  },
  {
   "cell_type": "code",
   "execution_count": 6,
   "metadata": {},
   "outputs": [
    {
     "data": {
      "text/html": [
       "<div>\n",
       "<style scoped>\n",
       "    .dataframe tbody tr th:only-of-type {\n",
       "        vertical-align: middle;\n",
       "    }\n",
       "\n",
       "    .dataframe tbody tr th {\n",
       "        vertical-align: top;\n",
       "    }\n",
       "\n",
       "    .dataframe thead th {\n",
       "        text-align: right;\n",
       "    }\n",
       "</style>\n",
       "<table border=\"1\" class=\"dataframe\">\n",
       "  <thead>\n",
       "    <tr style=\"text-align: right;\">\n",
       "      <th></th>\n",
       "      <th>begin</th>\n",
       "      <th>end</th>\n",
       "      <th>chord</th>\n",
       "      <th>song number</th>\n",
       "    </tr>\n",
       "  </thead>\n",
       "  <tbody>\n",
       "    <tr>\n",
       "      <th>0</th>\n",
       "      <td>0.000000</td>\n",
       "      <td>0.432952</td>\n",
       "      <td>N</td>\n",
       "      <td>0</td>\n",
       "    </tr>\n",
       "    <tr>\n",
       "      <th>1</th>\n",
       "      <td>0.432952</td>\n",
       "      <td>1.950498</td>\n",
       "      <td>G</td>\n",
       "      <td>0</td>\n",
       "    </tr>\n",
       "    <tr>\n",
       "      <th>2</th>\n",
       "      <td>1.950498</td>\n",
       "      <td>3.471405</td>\n",
       "      <td>A:min</td>\n",
       "      <td>0</td>\n",
       "    </tr>\n",
       "    <tr>\n",
       "      <th>3</th>\n",
       "      <td>3.471405</td>\n",
       "      <td>5.038752</td>\n",
       "      <td>F</td>\n",
       "      <td>0</td>\n",
       "    </tr>\n",
       "    <tr>\n",
       "      <th>4</th>\n",
       "      <td>5.038752</td>\n",
       "      <td>6.582879</td>\n",
       "      <td>G</td>\n",
       "      <td>0</td>\n",
       "    </tr>\n",
       "  </tbody>\n",
       "</table>\n",
       "</div>"
      ],
      "text/plain": [
       "      begin       end  chord  song number\n",
       "0  0.000000  0.432952      N            0\n",
       "1  0.432952  1.950498      G            0\n",
       "2  1.950498  3.471405  A:min            0\n",
       "3  3.471405  5.038752      F            0\n",
       "4  5.038752  6.582879      G            0"
      ]
     },
     "execution_count": 6,
     "metadata": {},
     "output_type": "execute_result"
    }
   ],
   "source": [
    "df.head()"
   ]
  },
  {
   "cell_type": "code",
   "execution_count": 7,
   "metadata": {},
   "outputs": [],
   "source": [
    "chord_counts = df.groupby('chord').count().sort_values(by='begin',ascending=False).drop(columns={'begin','song number'})"
   ]
  },
  {
   "cell_type": "code",
   "execution_count": 8,
   "metadata": {},
   "outputs": [
    {
     "data": {
      "text/plain": [
       "chord\n",
       "A        1568\n",
       "G        1385\n",
       "D        1353\n",
       "E        1039\n",
       "C         966\n",
       "B         503\n",
       "F         489\n",
       "N         427\n",
       "A:min     365\n",
       "E:min     336\n",
       "Name: end, dtype: int64"
      ]
     },
     "execution_count": 8,
     "metadata": {},
     "output_type": "execute_result"
    }
   ],
   "source": [
    "chord_counts = chord_counts['end']\n",
    "chord_counts[:10]"
   ]
  },
  {
   "cell_type": "code",
   "execution_count": 9,
   "metadata": {},
   "outputs": [],
   "source": [
    "x = chord_counts[:10].plot(kind='bar',title='Top 10 Chords used by Beatles')"
   ]
  },
  {
   "cell_type": "markdown",
   "metadata": {},
   "source": [
    "As we can see, the Beatles use primarily major chords in their music, which spike a positive & happy emotion, as opposed to minor chords, which are associated with sad emotions. "
   ]
  }
 ],
 "metadata": {
  "kernelspec": {
   "display_name": "Python 3",
   "language": "python",
   "name": "python3"
  },
  "language_info": {
   "codemirror_mode": {
    "name": "ipython",
    "version": 3
   },
   "file_extension": ".py",
   "mimetype": "text/x-python",
   "name": "python",
   "nbconvert_exporter": "python",
   "pygments_lexer": "ipython3",
   "version": "3.6.8"
  }
 },
 "nbformat": 4,
 "nbformat_minor": 2
}
