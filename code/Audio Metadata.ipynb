{
 "cells": [
  {
   "cell_type": "code",
   "execution_count": 2,
   "metadata": {},
   "outputs": [],
   "source": [
    "import requests\n",
    "from bs4 import BeautifulSoup\n",
    "import re\n",
    "import urllib\n",
    "import pandas as pd\n",
    "import numpy as np\n",
    "import os"
   ]
  },
  {
   "cell_type": "markdown",
   "metadata": {},
   "source": [
    "All data is imported from http://isophonics.net/content/reference-annotations-beatles. RDF file can be played with mp3 using https://www.sonicvisualiser.org/."
   ]
  },
  {
   "cell_type": "code",
   "execution_count": 3,
   "metadata": {},
   "outputs": [],
   "source": [
    "req = requests.get('http://isophonics.net/content/reference-annotations-beatles')\n",
    "soup = BeautifulSoup(req.text)"
   ]
  },
  {
   "cell_type": "code",
   "execution_count": 4,
   "metadata": {},
   "outputs": [],
   "source": [
    "#Parse url in order to find links to download csv\n",
    "\n",
    "pattern = '[0-9\\.\\'\\(\\)A-Za-z- ]+'\n",
    "songs = []\n",
    "structural_segmentation = []\n",
    "key_changes = []\n",
    "chords = []\n",
    "beats = []\n",
    "for i in range(len(soup.find_all('ol'))):\n",
    "    for k in range(len(soup.find_all('ol')[i].find_all('li'))):\n",
    "        chunk = soup.find_all('ol')[i].find_all('li')[k]\n",
    "        title = chunk.text\n",
    "        song = re.findall(pattern, title)[0]\n",
    "        if (song == 'Structural segmentation'):\n",
    "            structural_segmentation.append(chunk.find('a').get('href'))\n",
    "        elif (song == 'Key changes'):\n",
    "            key_changes.append(chunk.find('a').get('href'))\n",
    "        elif (song == 'Chords'):\n",
    "            chords.append(chunk.find('a').get('href'))\n",
    "        elif (song == 'Beats'):\n",
    "            beats.append(chunk.find('a').get('href'))\n",
    "        elif (song != 'All of the above'):\n",
    "                songs.append(song)\n",
    "                if song == 'Revolution 9':\n",
    "                    key_changes.append('none')\n",
    "                    beats.append('none')\n",
    "                    \n",
    "                              "
   ]
  },
  {
   "cell_type": "code",
   "execution_count": 5,
   "metadata": {},
   "outputs": [],
   "source": [
    "song_info = pd.DataFrame({'songs':songs, 'structural_segmentation': structural_segmentation, 'key_changes': key_changes, 'chords': chords, 'beats':beats})\n",
    "def get_info(song, data):\n",
    "    \"\"\"\n",
    "    Inputs song name and type of data needed, returns link to input into following functions.\n",
    "    \"\"\"\n",
    "    return song_info.loc[song_info[\"songs\"] == song].get(data).item()\n"
   ]
  },
  {
   "cell_type": "code",
   "execution_count": 6,
   "metadata": {},
   "outputs": [],
   "source": [
    "def parse_structural_segmentation(inp):\n",
    "    \"\"\"\n",
    "    Inputs url to txt file for structural segmentation and outputs dataframe. \n",
    "    \"\"\"\n",
    "    inp = inp.replace(' ', '%20')\n",
    "    url = 'http://isophonics.net' + inp\n",
    "    file = urllib.request.urlopen(url)\n",
    "    data = pd.read_csv(file, sep=\"\\t\", header=None, names=list(range(5)))\n",
    "    return data\n",
    "    data = data.drop(2, axis=1)\n",
    "    data.columns = ['begin', 'end', 'structure', 'note']\n",
    "    return data"
   ]
  },
  {
   "cell_type": "code",
   "execution_count": 7,
   "metadata": {},
   "outputs": [],
   "source": [
    "def parse_key_changes(inp):\n",
    "    \"\"\"\n",
    "    Inputs url to txt file for key changes and outputs dataframe. \n",
    "    \"\"\"\n",
    "    inp = inp.replace(' ', '%20')\n",
    "    url = 'http://isophonics.net' + inp\n",
    "    file = urllib.request.urlopen(url)\n",
    "    data = pd.read_csv(file, sep=\"\\t\", header=None, names=list(range(2)))\n",
    "    data.columns = ['begin', 'end', 'key or silence', 'key']\n",
    "    return data"
   ]
  },
  {
   "cell_type": "code",
   "execution_count": 8,
   "metadata": {},
   "outputs": [],
   "source": [
    "def parse_beats(inp):\n",
    "    \"\"\"\n",
    "    Inputs url to txt file for beats and outputs dataframe. \n",
    "    \"\"\"\n",
    "    inp = inp.replace(' ', '%20')\n",
    "    url = 'http://isophonics.net' + inp\n",
    "    file = urllib.request.urlopen(url)\n",
    "    data = pd.read_csv(file, sep=\"\\t\", header=None, names=list(range(2)))\n",
    "    data.columns = ['time', 'beats']\n",
    "    return data\n",
    "    if data[\"beats\"][0] != \"New Point\":\n",
    "        if np.isnan(int(data[\"beats\"][0])):\n",
    "            spl = data[\"time\"].apply(lambda x: x.split())\n",
    "            data[\"time\"] = spl.apply(lambda x: x[0])\n",
    "            data[\"beats\"] = spl.apply(lambda x: x[1])\n",
    "    return data"
   ]
  },
  {
   "cell_type": "code",
   "execution_count": 9,
   "metadata": {},
   "outputs": [],
   "source": [
    "def parse_chords(inp):\n",
    "    \"\"\"\n",
    "    Inputs url to txt file for chords and outputs dataframe. \n",
    "    \"\"\"\n",
    "    inp = inp.replace(' ', '%20')\n",
    "    url = 'http://isophonics.net' + inp\n",
    "    file = urllib.request.urlopen(url)\n",
    "    data = pd.read_csv(file, sep=\" \", header=None, names=list(range(3)))\n",
    "    data.columns = ['begin', 'end', 'chord']\n",
    "    return data"
   ]
  },
  {
   "cell_type": "code",
   "execution_count": 18,
   "metadata": {},
   "outputs": [],
   "source": [
    "#requires directory named data, subdirectory metadata, and directories structural_segmentation, key_changes, beats, chords\n",
    "# path = os.path.join(\"data\", 'metadata/')\n",
    "# for song in song_info[\"songs\"]:\n",
    "#         ss_link = get_info(song, \"structural_segmentation\")\n",
    "#         ss_df = parse_structural_segmentation(ss_link)\n",
    "#         ss_df.to_csv(path+'structural_segmentation/' + song + '_ss.csv', header=True, index=False)\n",
    "#         if get_info(song, \"key_changes\") != 'none':\n",
    "#             kc_link = get_info(song, \"key_changes\")\n",
    "#             kc_df = parse_key_changes(kc_link)\n",
    "#             kc_df.to_csv(path+'key_changes/' + song + '_kc.csv', header=True, index=False)\n",
    "#         if get_info(song, \"beats\") != 'none':\n",
    "#             beats_link = get_info(song, \"beats\")\n",
    "#             beats_df = parse_beats(beats_link)\n",
    "#             beats_df.to_csv(path+'beats/' + song + '_beats.csv', header=True, index=False)\n",
    "#         chords_link = get_info(song, \"chords\")\n",
    "#         chords_df = parse_chords(chords_link)\n",
    "#         chords_df.to_csv(path+'chords/' + song + '_chords.csv', header=True, index=False)\n",
    "\n",
    "        "
   ]
  },
  {
   "cell_type": "code",
   "execution_count": null,
   "metadata": {},
   "outputs": [],
   "source": []
  },
  {
   "cell_type": "code",
   "execution_count": null,
   "metadata": {},
   "outputs": [],
   "source": []
  }
 ],
 "metadata": {
  "kernelspec": {
   "display_name": "Python 3",
   "language": "python",
   "name": "python3"
  },
  "language_info": {
   "codemirror_mode": {
    "name": "ipython",
    "version": 3
   },
   "file_extension": ".py",
   "mimetype": "text/x-python",
   "name": "python",
   "nbconvert_exporter": "python",
   "pygments_lexer": "ipython3",
   "version": "3.7.6"
  }
 },
 "nbformat": 4,
 "nbformat_minor": 2
}
